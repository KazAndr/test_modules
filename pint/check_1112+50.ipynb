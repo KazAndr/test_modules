{
 "cells": [
  {
   "cell_type": "code",
   "execution_count": 30,
   "metadata": {},
   "outputs": [],
   "source": [
    "import pint.toa as toa\n",
    "import pint.models as models\n",
    "import pint.residuals as r\n",
    "import pint.fitter as fit\n",
    "\n",
    "import matplotlib.pyplot as plt\n",
    "\n",
    "import astropy.units as u"
   ]
  },
  {
   "cell_type": "code",
   "execution_count": 42,
   "metadata": {},
   "outputs": [
    {
     "name": "stdout",
     "output_type": "stream",
     "text": [
      "INFO: No pulse numbers found in the TOAs [pint.toa]\n",
      "INFO: Applying clock corrections (include_GPS = True, include_BIPM = True. [pint.toa]\n",
      "INFO: Evaluating observatory clock corrections. [pint.observatory.topo_obs]\n",
      "INFO: Applying GPS to UTC clock correction (~few nanoseconds) [pint.observatory.topo_obs]\n",
      "INFO: Applying TT(TAI) to TT(BIPM) clock correction (~27 us) [pint.observatory.topo_obs]\n",
      "INFO: Computing TDB columns. [pint.toa]\n",
      "INFO: Doing astropy mode TDB conversion [pint.observatory]\n",
      "INFO: Computing positions and velocities of observatories and Earth (planets = False), using DE421 ephemeris [pint.toa]\n"
     ]
    },
    {
     "name": "stderr",
     "output_type": "stream",
     "text": [
      "WARNING: Data points out of range in clock file '/home/andr/work/PINT/src/pint/datafiles/time.dat' [pint.observatory.clock_file]\n",
      "WARNING: No ephemeris provided to TOAs object or compute_TDBs. Using DE421 [pint.toa]\n"
     ]
    }
   ],
   "source": [
    "t = toa.get_TOAs(\"./datafiles/PvT/B1112+50_test_t2.tim\", usepickle=False)"
   ]
  },
  {
   "cell_type": "code",
   "execution_count": 43,
   "metadata": {},
   "outputs": [
    {
     "name": "stdout",
     "output_type": "stream",
     "text": [
      "Number of TOAs:  132\n",
      "Number of commands:  1\n",
      "Number of observatories:  1 ['prao']\n",
      "MJD span:  58139.983 to 58503.986\n",
      "prao TOAs (132):\n",
      "  Min error:     20.6 us\n",
      "  Max error:     314 us\n",
      "  Mean error:    86.2 us\n",
      "  Median error:  77.5 us\n",
      "  Error stddev:  48.1 us\n",
      "\n"
     ]
    }
   ],
   "source": [
    "t.print_summary()"
   ]
  },
  {
   "cell_type": "code",
   "execution_count": 44,
   "metadata": {},
   "outputs": [],
   "source": [
    "m = models.get_model(\"./datafiles/1112.par\")"
   ]
  },
  {
   "cell_type": "code",
   "execution_count": 45,
   "metadata": {},
   "outputs": [
    {
     "name": "stdout",
     "output_type": "stream",
     "text": [
      "PSR                              J1112+50\n",
      "RAJ                     11:15:38.40000000 1 0.00000000000000000000\n",
      "DECJ                    50:30:12.29000000 1 0.00000000000000000000\n",
      "PMRA                                  0.0\n",
      "PMDEC                                 0.0\n",
      "PX                                    0.0\n",
      "F0                        0.6037044172606 1 0.0\n",
      "F1                           -9.08518e-16 1 0.0\n",
      "PEPOCH             49334.0000000000000000\n",
      "PLANET_SHAPIRO                          N\n",
      "DM                                    9.0\n",
      "DM1                                   0.0\n",
      "\n"
     ]
    }
   ],
   "source": [
    "print(m.as_parfile())"
   ]
  },
  {
   "cell_type": "code",
   "execution_count": 46,
   "metadata": {},
   "outputs": [],
   "source": [
    "ds = m.delay(t)"
   ]
  },
  {
   "cell_type": "code",
   "execution_count": 47,
   "metadata": {},
   "outputs": [
    {
     "data": {
      "text/plain": [
       "Text(0, 0.5, 'Delay ($\\\\mu$s)')"
      ]
     },
     "execution_count": 47,
     "metadata": {},
     "output_type": "execute_result"
    },
    {
     "data": {
      "image/png": "[encoded data removed]",
      "text/plain": [
       "<Figure size 432x288 with 1 Axes>"
      ]
     },
     "metadata": {
      "needs_background": "light"
     },
     "output_type": "display_data"
    }
   ],
   "source": [
    "plt.plot(t.get_mjds(high_precision=False), ds, \"x\")\n",
    "plt.xlabel(\"MJD\")\n",
    "plt.ylabel(\"Delay ($\\mu$s)\")"
   ]
  },
  {
   "cell_type": "code",
   "execution_count": 48,
   "metadata": {},
   "outputs": [],
   "source": [
    "rs = r.Residuals(t, m)"
   ]
  },
  {
   "cell_type": "code",
   "execution_count": 49,
   "metadata": {},
   "outputs": [
    {
     "data": {
      "image/png": "[encoded data removed]",
      "text/plain": [
       "<Figure size 432x288 with 1 Axes>"
      ]
     },
     "metadata": {
      "needs_background": "light"
     },
     "output_type": "display_data"
    }
   ],
   "source": [
    "plt.plot( rs.toas.get_mjds(), rs.time_resids.to(u.us), '+')\n",
    "plt.title(\"%s Pre-Fit Timing Residuals\" % m.PSR.value)\n",
    "plt.xlabel(\"MJD\")\n",
    "plt.ylabel(\"Residual (phase)\")\n",
    "plt.grid()"
   ]
  },
  {
   "cell_type": "code",
   "execution_count": 50,
   "metadata": {},
   "outputs": [
    {
     "data": {
      "text/latex": [
       "$179770.92 \\; \\mathrm{}$"
      ],
      "text/plain": [
       "<Quantity 179770.91647491>"
      ]
     },
     "execution_count": 50,
     "metadata": {},
     "output_type": "execute_result"
    }
   ],
   "source": [
    "f = fit.WLSFitter(t, m)\n",
    "f.fit_toas()"
   ]
  },
  {
   "cell_type": "code",
   "execution_count": 51,
   "metadata": {},
   "outputs": [
    {
     "name": "stdout",
     "output_type": "stream",
     "text": [
      "Best fit has reduced chi^2 of 1404.460 (128 dof)\n",
      "RMS in phase is 0.00153948616121598 cycle\n",
      "RMS in time is 2550.066044715775 us\n",
      "\n",
      " Best model is:\n",
      "PSR                              J1112+50\n",
      "RAJ                     11:15:28.40226760 1 0.00000031983066004112\n",
      "DECJ                    50:31:07.35196786 1 0.00000324253955927280\n",
      "PMRA                                  0.0\n",
      "PMDEC                                 0.0\n",
      "PX                                    0.0\n",
      "F0                 0.60370442734457413616 1 2.1777456490664897769e-10\n",
      "F1              -9.213993618281368093e-16 1 2.8020963966299115306e-19\n",
      "PEPOCH             49334.0000000000000000\n",
      "PLANET_SHAPIRO                          N\n",
      "DM                                    9.0\n",
      "DM1                                   0.0\n",
      "\n"
     ]
    }
   ],
   "source": [
    "\n",
    "print(\n",
    "    \"Best fit has reduced chi^2 of {:.3f} ({} dof)\".format(\n",
    "        f.resids.chi2_reduced, f.resids.dof\n",
    "    )\n",
    ")\n",
    "# Notice that the residuals have units, since they are astropy Quantities\n",
    "print(\"RMS in phase is\", f.resids.phase_resids.std())\n",
    "print(\"RMS in time is\", f.resids.time_resids.std().to(u.us))\n",
    "print(\"\\n Best model is:\")\n",
    "print(f.model.as_parfile())"
   ]
  },
  {
   "cell_type": "code",
   "execution_count": 52,
   "metadata": {},
   "outputs": [
    {
     "data": {
      "image/png": "[encoded data removed]",
      "text/plain": [
       "<Figure size 432x288 with 1 Axes>"
      ]
     },
     "metadata": {
      "needs_background": "light"
     },
     "output_type": "display_data"
    }
   ],
   "source": [
    "plt.plot(\n",
    "    t.get_mjds(), f.resids.time_resids.to(u.us), '+')\n",
    "plt.title(\"%s Post-Fit Timing Residuals\" % m.PSR.value)\n",
    "plt.xlabel(\"MJD\")\n",
    "plt.ylabel(\"Residual (us)\")\n",
    "plt.grid()"
   ]
  },
  {
   "cell_type": "code",
   "execution_count": 53,
   "metadata": {},
   "outputs": [
    {
     "data": {
      "image/png": "[encoded data removed]",
      "text/plain": [
       "<Figure size 432x288 with 1 Axes>"
      ]
     },
     "metadata": {
      "needs_background": "light"
     },
     "output_type": "display_data"
    }
   ],
   "source": [
    "plt.plot(\n",
    "    t.get_mjds(), t.get_errors(), '+')\n",
    "plt.title(\"%s Post-Fit Timing Residuals\" % m.PSR.value)\n",
    "plt.xlabel(\"MJD\")\n",
    "plt.ylabel(\"Residual (us)\")\n",
    "plt.grid()"
   ]
  },
  {
   "cell_type": "code",
   "execution_count": 55,
   "metadata": {},
   "outputs": [
    {
     "name": "stdout",
     "output_type": "stream",
     "text": [
      "PSR                              J1112+50\n",
      "RAJ                     11:15:28.40226760 1 0.00000031983066004112\n",
      "DECJ                    50:31:07.35196786 1 0.00000324253955927280\n",
      "PMRA                                  0.0\n",
      "PMDEC                                 0.0\n",
      "PX                                    0.0\n",
      "F0                 0.60370442734457413616 1 2.1777456490664897769e-10\n",
      "F1              -9.213993618281368093e-16 1 2.8020963966299115306e-19\n",
      "PEPOCH             49334.0000000000000000\n",
      "PLANET_SHAPIRO                          N\n",
      "DM                                    9.0\n",
      "DM1                                   0.0\n",
      "\n"
     ]
    }
   ],
   "source": [
    "print(f.model.as_parfile())"
   ]
  },
  {
   "cell_type": "code",
   "execution_count": 57,
   "metadata": {},
   "outputs": [
    {
     "name": "stdout",
     "output_type": "stream",
     "text": [
      "CPU times: user 306 ms, sys: 0 ns, total: 306 ms\n",
      "Wall time: 308 ms\n"
     ]
    },
    {
     "data": {
      "text/latex": [
       "$179770.92 \\; \\mathrm{}$"
      ],
      "text/plain": [
       "<Quantity 179770.91647491>"
      ]
     },
     "execution_count": 57,
     "metadata": {},
     "output_type": "execute_result"
    }
   ],
   "source": [
    "%%time\n",
    "f = fit.WLSFitter(t, m)\n",
    "f.fit_toas()"
   ]
  },
  {
   "cell_type": "code",
   "execution_count": 58,
   "metadata": {},
   "outputs": [
    {
     "data": {
      "text/plain": [
       "0.45"
      ]
     },
     "execution_count": 58,
     "metadata": {},
     "output_type": "execute_result"
    }
   ],
   "source": [
    "27/60"
   ]
  },
  {
   "cell_type": "code",
   "execution_count": null,
   "metadata": {},
   "outputs": [],
   "source": []
  }
 ],
 "metadata": {
  "kernelspec": {
   "display_name": "Python 3",
   "language": "python",
   "name": "python3"
  },
  "language_info": {
   "codemirror_mode": {
    "name": "ipython",
    "version": 3
   },
   "file_extension": ".py",
   "mimetype": "text/x-python",
   "name": "python",
   "nbconvert_exporter": "python",
   "pygments_lexer": "ipython3",
   "version": "3.7.4"
  }
 },
 "nbformat": 4,
 "nbformat_minor": 4
}
