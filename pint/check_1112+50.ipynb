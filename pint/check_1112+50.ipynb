{
 "cells": [
  {
   "cell_type": "code",
   "execution_count": 1,
   "metadata": {},
   "outputs": [],
   "source": [
    "import pint.toa as toa\n",
    "import pint.models as models\n",
    "import pint.residuals as r\n",
    "import pint.fitter as fit\n",
    "\n",
    "import matplotlib.pyplot as plt\n",
    "\n",
    "import astropy.units as u"
   ]
  },
  {
   "cell_type": "code",
   "execution_count": 2,
   "metadata": {},
   "outputs": [
    {
     "name": "stderr",
     "output_type": "stream",
     "text": [
      "Data points out of range in clock file '/home/andr/.pyenv/versions/miniconda3-4.7.12/lib/python3.7/site-packages/pint/data/runtime/time.dat'\n",
      "No ephemeris provided to TOAs object or compute_TDBs. Using DE421\n"
     ]
    }
   ],
   "source": [
    "t = toa.get_TOAs(\"./datafiles/PvT/B1112+50_test_t2.tim\", planets=False, include_bipm=False, usepickle=False)"
   ]
  },
  {
   "cell_type": "code",
   "execution_count": 3,
   "metadata": {},
   "outputs": [
    {
     "name": "stdout",
     "output_type": "stream",
     "text": [
      "Number of TOAs:  132\n",
      "Number of commands:  1\n",
      "Number of observatories: 1 ['prao']\n",
      "MJD span:  58139.983 to 58503.986\n",
      "Date span: 2018-01-21 23:35:13.576078752 to 2019-01-20 23:40:10.472471844\n",
      "prao TOAs (132):\n",
      "  Min freq:      111.879 MHz\n",
      "  Max freq:      111.879 MHz\n",
      "  Min error:     20.6 us\n",
      "  Max error:     314 us\n",
      "  Median error:  77.5 us\n",
      "\n"
     ]
    }
   ],
   "source": [
    "t.print_summary()"
   ]
  },
  {
   "cell_type": "code",
   "execution_count": 4,
   "metadata": {},
   "outputs": [],
   "source": [
    "m = models.get_model(\"./datafiles/1112.par\")"
   ]
  },
  {
   "cell_type": "code",
   "execution_count": 5,
   "metadata": {},
   "outputs": [
    {
     "name": "stdout",
     "output_type": "stream",
     "text": [
      "# Created: 2021-12-03T18:32:13.957704\n",
      "# PINT_version: 0.8.4\n",
      "# User: andr\n",
      "# Host: DESKTOP-HUDHOJ4\n",
      "# OS: Linux-4.4.0-19041-Microsoft-x86_64-with-debian-bullseye-sid\n",
      "PSR                              J1112+50\n",
      "DILATEFREQ                              N\n",
      "DMDATA                                  N\n",
      "NTOA                                    0\n",
      "CHI2                                  0.0\n",
      "RAJ                     11:15:38.40000000 1 0.00000000000000000000\n",
      "DECJ                    50:30:12.29000000 1 0.00000000000000000000\n",
      "PMRA                                  0.0\n",
      "PMDEC                                 0.0\n",
      "PX                                    0.0\n",
      "F0                  0.6037044172605999792 1 0.0\n",
      "F1              -9.085179999999999847e-16 1 0.0\n",
      "PEPOCH             49334.0000000000000000\n",
      "PLANET_SHAPIRO                          N\n",
      "DM                                    9.0\n",
      "\n"
     ]
    }
   ],
   "source": [
    "print(m.as_parfile())"
   ]
  },
  {
   "cell_type": "code",
   "execution_count": 6,
   "metadata": {},
   "outputs": [],
   "source": [
    "ds = m.delay(t)"
   ]
  },
  {
   "cell_type": "code",
   "execution_count": 7,
   "metadata": {},
   "outputs": [
    {
     "data": {
      "text/plain": [
       "Text(0, 0.5, 'Delay ($\\\\mu$s)')"
      ]
     },
     "execution_count": 7,
     "metadata": {},
     "output_type": "execute_result"
    },
    {
     "data": {
      "image/png": "[encoded data removed]",
      "text/plain": [
       "<Figure size 432x288 with 1 Axes>"
      ]
     },
     "metadata": {
      "needs_background": "light"
     },
     "output_type": "display_data"
    }
   ],
   "source": [
    "plt.plot(t.get_mjds(high_precision=False), ds, \"x\")\n",
    "plt.xlabel(\"MJD\")\n",
    "plt.ylabel(\"Delay ($\\mu$s)\")"
   ]
  },
  {
   "cell_type": "code",
   "execution_count": 8,
   "metadata": {},
   "outputs": [],
   "source": [
    "rs = r.Residuals(t, m)"
   ]
  },
  {
   "cell_type": "code",
   "execution_count": 9,
   "metadata": {},
   "outputs": [
    {
     "data": {
      "image/png": "[encoded data removed]",
      "text/plain": [
       "<Figure size 432x288 with 1 Axes>"
      ]
     },
     "metadata": {
      "needs_background": "light"
     },
     "output_type": "display_data"
    }
   ],
   "source": [
    "plt.plot( rs.toas.get_mjds(), rs.time_resids.to(u.us), '+')\n",
    "plt.title(\"%s Pre-Fit Timing Residuals\" % m.PSR.value)\n",
    "plt.xlabel(\"MJD\")\n",
    "plt.ylabel(\"Residual (phase)\")\n",
    "plt.grid()"
   ]
  },
  {
   "cell_type": "code",
   "execution_count": 10,
   "metadata": {},
   "outputs": [
    {
     "data": {
      "text/plain": [
       "179770.97201696259435"
      ]
     },
     "execution_count": 10,
     "metadata": {},
     "output_type": "execute_result"
    }
   ],
   "source": [
    "f = fit.WLSFitter(t, m)\n",
    "f.fit_toas()"
   ]
  },
  {
   "cell_type": "code",
   "execution_count": 11,
   "metadata": {},
   "outputs": [
    {
     "name": "stdout",
     "output_type": "stream",
     "text": [
      "Best fit has reduced chi^2 of 1415.519 (127 dof)\n",
      "RMS in phase is 0.0015395195508936827\n",
      "RMS in time is 2550.12436202129 us\n",
      "\n",
      " Best model is:\n",
      "# Created: 2021-12-03T18:32:43.095682\n",
      "# PINT_version: 0.8.4\n",
      "# User: andr\n",
      "# Host: DESKTOP-HUDHOJ4\n",
      "# OS: Linux-4.4.0-19041-Microsoft-x86_64-with-debian-bullseye-sid\n",
      "PSR                              J1112+50\n",
      "EPHEM                               DE421\n",
      "CLOCK                             TT(TAI)\n",
      "START              58139.9827960194300001\n",
      "FINISH             58503.9862323202759723\n",
      "DILATEFREQ                              N\n",
      "DMDATA                                  N\n",
      "NTOA                                  132\n",
      "CHI2                                  0.0\n",
      "RAJ                     11:15:28.40225877 1 0.00115139037615029577\n",
      "DECJ                    50:31:07.35206625 1 0.01167314241335176694\n",
      "PMRA                                  0.0\n",
      "PMDEC                                 0.0\n",
      "PX                                    0.0\n",
      "F0                 0.60370442734391471795 1 2.1777456490752633198e-10\n",
      "F1              -9.213985153499124824e-16 1 2.8020963966413005174e-19\n",
      "PEPOCH             49334.0000000000000000\n",
      "PLANET_SHAPIRO                          N\n",
      "DM                                    9.0\n",
      "\n"
     ]
    }
   ],
   "source": [
    "\n",
    "print(\n",
    "    \"Best fit has reduced chi^2 of {:.3f} ({} dof)\".format(\n",
    "        f.resids.chi2_reduced, f.resids.dof\n",
    "    )\n",
    ")\n",
    "# Notice that the residuals have units, since they are astropy Quantities\n",
    "print(\"RMS in phase is\", f.resids.phase_resids.std())\n",
    "print(\"RMS in time is\", f.resids.time_resids.std().to(u.us))\n",
    "print(\"\\n Best model is:\")\n",
    "print(f.model.as_parfile())"
   ]
  },
  {
   "cell_type": "code",
   "execution_count": 12,
   "metadata": {},
   "outputs": [
    {
     "data": {
      "image/png": "[encoded data removed]",
      "text/plain": [
       "<Figure size 432x288 with 1 Axes>"
      ]
     },
     "metadata": {
      "needs_background": "light"
     },
     "output_type": "display_data"
    }
   ],
   "source": [
    "plt.plot(\n",
    "    t.get_mjds(), f.resids.time_resids.to(u.us), '+')\n",
    "plt.title(\"%s Post-Fit Timing Residuals\" % m.PSR.value)\n",
    "plt.xlabel(\"MJD\")\n",
    "plt.ylabel(\"Residual (us)\")\n",
    "plt.grid()"
   ]
  },
  {
   "cell_type": "code",
   "execution_count": 13,
   "metadata": {},
   "outputs": [
    {
     "data": {
      "image/png": "[encoded data removed]",
      "text/plain": [
       "<Figure size 432x288 with 1 Axes>"
      ]
     },
     "metadata": {
      "needs_background": "light"
     },
     "output_type": "display_data"
    }
   ],
   "source": [
    "plt.plot(\n",
    "    t.get_mjds(), t.get_errors(), '+')\n",
    "plt.title(\"%s Post-Fit Timing Residuals\" % m.PSR.value)\n",
    "plt.xlabel(\"MJD\")\n",
    "plt.ylabel(\"Residual (us)\")\n",
    "plt.grid()"
   ]
  },
  {
   "cell_type": "code",
   "execution_count": 14,
   "metadata": {},
   "outputs": [
    {
     "name": "stdout",
     "output_type": "stream",
     "text": [
      "# Created: 2021-12-03T18:33:02.735248\n",
      "# PINT_version: 0.8.4\n",
      "# User: andr\n",
      "# Host: DESKTOP-HUDHOJ4\n",
      "# OS: Linux-4.4.0-19041-Microsoft-x86_64-with-debian-bullseye-sid\n",
      "PSR                              J1112+50\n",
      "EPHEM                               DE421\n",
      "CLOCK                             TT(TAI)\n",
      "START              58139.9827960194300001\n",
      "FINISH             58503.9862323202759723\n",
      "DILATEFREQ                              N\n",
      "DMDATA                                  N\n",
      "NTOA                                  132\n",
      "CHI2                                  0.0\n",
      "RAJ                     11:15:28.40225877 1 0.00115139037615029577\n",
      "DECJ                    50:31:07.35206625 1 0.01167314241335176694\n",
      "PMRA                                  0.0\n",
      "PMDEC                                 0.0\n",
      "PX                                    0.0\n",
      "F0                 0.60370442734391471795 1 2.1777456490752633198e-10\n",
      "F1              -9.213985153499124824e-16 1 2.8020963966413005174e-19\n",
      "PEPOCH             49334.0000000000000000\n",
      "PLANET_SHAPIRO                          N\n",
      "DM                                    9.0\n",
      "\n"
     ]
    }
   ],
   "source": [
    "print(f.model.as_parfile())"
   ]
  },
  {
   "cell_type": "code",
   "execution_count": 15,
   "metadata": {},
   "outputs": [
    {
     "name": "stdout",
     "output_type": "stream",
     "text": [
      "CPU times: user 156 ms, sys: 0 ns, total: 156 ms\n",
      "Wall time: 153 ms\n"
     ]
    },
    {
     "data": {
      "text/plain": [
       "179770.97201696259435"
      ]
     },
     "execution_count": 15,
     "metadata": {},
     "output_type": "execute_result"
    }
   ],
   "source": [
    "%%time\n",
    "f = fit.WLSFitter(t, m)\n",
    "f.fit_toas()"
   ]
  },
  {
   "cell_type": "code",
   "execution_count": 58,
   "metadata": {},
   "outputs": [
    {
     "data": {
      "text/plain": [
       "0.45"
      ]
     },
     "execution_count": 58,
     "metadata": {},
     "output_type": "execute_result"
    }
   ],
   "source": [
    "27/60"
   ]
  },
  {
   "cell_type": "code",
   "execution_count": null,
   "metadata": {},
   "outputs": [],
   "source": []
  }
 ],
 "metadata": {
  "kernelspec": {
   "display_name": "Python 3",
   "language": "python",
   "name": "python3"
  },
  "language_info": {
   "codemirror_mode": {
    "name": "ipython",
    "version": 3
   },
   "file_extension": ".py",
   "mimetype": "text/x-python",
   "name": "python",
   "nbconvert_exporter": "python",
   "pygments_lexer": "ipython3",
   "version": "3.7.8"
  }
 },
 "nbformat": 4,
 "nbformat_minor": 4
}
