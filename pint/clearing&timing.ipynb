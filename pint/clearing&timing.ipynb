{
 "cells": [
  {
   "cell_type": "code",
   "execution_count": 248,
   "metadata": {},
   "outputs": [],
   "source": [
    "import copy\n",
    "from itertools import compress\n",
    "\n",
    "import pandas as pd\n",
    "import numpy as np\n",
    "\n",
    "import pint.toa as toa\n",
    "import pint.models as models\n",
    "import pint.residuals as r\n",
    "import pint.fitter as fit\n",
    "from pint.toa_select import TOASelect\n",
    "\n",
    "import matplotlib.pyplot as plt\n",
    "\n",
    "import astropy.units as u"
   ]
  },
  {
   "cell_type": "code",
   "execution_count": 177,
   "metadata": {},
   "outputs": [
    {
     "name": "stdout",
     "output_type": "stream",
     "text": [
      "INFO: No pulse numbers found in the TOAs [pint.toa]\n",
      "INFO: Applying clock corrections (include_GPS = True, include_BIPM = True. [pint.toa]\n",
      "INFO: Evaluating observatory clock corrections. [pint.observatory.topo_obs]\n",
      "INFO: Applying GPS to UTC clock correction (~few nanoseconds) [pint.observatory.topo_obs]\n",
      "INFO: Applying TT(TAI) to TT(BIPM) clock correction (~27 us) [pint.observatory.topo_obs]\n",
      "INFO: Computing TDB columns. [pint.toa]\n",
      "INFO: Doing astropy mode TDB conversion [pint.observatory]\n",
      "INFO: Computing positions and velocities of observatories and Earth (planets = False), using DE421 ephemeris [pint.toa]\n"
     ]
    },
    {
     "name": "stderr",
     "output_type": "stream",
     "text": [
      "WARNING: Data points out of range in clock file '/home/andr/work/PINT/src/pint/datafiles/time.dat' [pint.observatory.clock_file]\n",
      "WARNING: No ephemeris provided to TOAs object or compute_TDBs. Using DE421 [pint.toa]\n"
     ]
    }
   ],
   "source": [
    "t = toa.get_TOAs(\"./datafiles/PvT/B1112+50_test_t2.tim\", usepickle=False)"
   ]
  },
  {
   "cell_type": "code",
   "execution_count": 76,
   "metadata": {},
   "outputs": [],
   "source": [
    "m = models.get_model(\"./datafiles/1112.par\")"
   ]
  },
  {
   "cell_type": "code",
   "execution_count": 293,
   "metadata": {},
   "outputs": [],
   "source": [
    "def get_interval_toas(toas, start, stop):\n",
    "    mask_toas = []\n",
    "    copy_toas = copy.copy(toas)\n",
    "    toas_table = toas.table\n",
    "    for val in table_toas['mjd_float']:\n",
    "        if start < val < stop:\n",
    "            mask_toas.append(True)\n",
    "        else:\n",
    "            mask_toas.append(False)\n",
    "    copy_toas.select(mask_toas)\n",
    "    return copy_toas\n",
    "\n",
    "\n",
    "def get_intervals_toas(toas, intervals):\n",
    "    total_maks = []\n",
    "    for start, stop in intervals:\n",
    "        mask_toas = []\n",
    "        copy_toas = copy.copy(t)\n",
    "        toas_table = copy_toas.table\n",
    "        for val in table_toas['mjd_float']:\n",
    "            if start < val < stop:\n",
    "                mask_toas.append(False)\n",
    "            else:\n",
    "                mask_toas.append(True)\n",
    "        total_maks.append(mask_toas)\n",
    "\n",
    "    primary_mask = np.full(copy_toas.ntoas, False)\n",
    "    for item in total_maks:\n",
    "        primary_mask = primary_mask ^ np.array(item)\n",
    "    \n",
    "    copy_toas.select(primary_mask)\n",
    "    return copy_toas\n",
    "\n",
    "\n",
    "def get_toas_by_residuals(toas, residuals, value_up, value_down, dimension):\n",
    "    result = []\n",
    "    for i, val in enumerate(residuals.to(dimension)):\n",
    "        if val.value < value_down:\n",
    "            result.append(toas.get_mjds()[i].value)\n",
    "        elif val.value > value_up:\n",
    "            result.append(toas.get_mjds()[i].value)\n",
    "        else:\n",
    "            continue\n",
    "            \n",
    "    return result\n",
    "\n",
    "\n",
    "def exclude_toas(toas, list_mjd):\n",
    "    mask_toas = []\n",
    "    copy_toas = copy.copy(toas)\n",
    "    toas_table = toas.table\n",
    "    for val in toas_table['mjd_float']:\n",
    "        if val in list_mjd:\n",
    "            mask_toas.append(False)\n",
    "        else:\n",
    "            mask_toas.append(True)\n",
    "    copy_toas.select(mask_toas)\n",
    "    return copy_toas\n",
    "\n",
    "\n",
    "def exclude_intervals_toas(toas, intervals):\n",
    "    total_maks = []\n",
    "    for start, stop in intervals:\n",
    "        mask_toas = []\n",
    "        copy_toas = copy.copy(t)\n",
    "        toas_table = copy_toas.table\n",
    "        for val in table_toas['mjd_float']:\n",
    "            if start < val < stop:\n",
    "                mask_toas.append(False)\n",
    "            else:\n",
    "                mask_toas.append(True)\n",
    "        total_maks.append(mask_toas)\n",
    "\n",
    "    primary_mask = np.full(copy_toas.ntoas, True)\n",
    "    for item in total_maks:\n",
    "        primary_mask = primary_mask ^ np.array(item)\n",
    "    \n",
    "    copy_toas.select(primary_mask)\n",
    "    return copy_toas"
   ]
  },
  {
   "cell_type": "code",
   "execution_count": 294,
   "metadata": {},
   "outputs": [
    {
     "data": {
      "text/latex": [
       "$179770.92 \\; \\mathrm{}$"
      ],
      "text/plain": [
       "<Quantity 179770.91647491>"
      ]
     },
     "execution_count": 294,
     "metadata": {},
     "output_type": "execute_result"
    }
   ],
   "source": [
    "f = fit.WLSFitter(t, m)\n",
    "f.fit_toas()"
   ]
  },
  {
   "cell_type": "code",
   "execution_count": 295,
   "metadata": {},
   "outputs": [
    {
     "data": {
      "image/png": "[encoded data removed]",
      "text/plain": [
       "<Figure size 432x288 with 1 Axes>"
      ]
     },
     "metadata": {
      "needs_background": "light"
     },
     "output_type": "display_data"
    }
   ],
   "source": [
    "plt.plot(t.get_mjds(), f.resids.time_resids.to(u.us), '+')\n",
    "plt.title(\"%s Post-Fit Timing Residuals\" % m.PSR.value)\n",
    "plt.xlabel(\"MJD\")\n",
    "plt.ylabel(\"Residual (us)\")\n",
    "plt.grid()"
   ]
  }
 ],
 "metadata": {
  "kernelspec": {
   "display_name": "Python 3",
   "language": "python",
   "name": "python3"
  },
  "language_info": {
   "codemirror_mode": {
    "name": "ipython",
    "version": 3
   },
   "file_extension": ".py",
   "mimetype": "text/x-python",
   "name": "python",
   "nbconvert_exporter": "python",
   "pygments_lexer": "ipython3",
   "version": "3.7.4"
  }
 },
 "nbformat": 4,
 "nbformat_minor": 4
}
