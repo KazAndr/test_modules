{
 "cells": [
  {
   "cell_type": "code",
   "execution_count": 33,
   "metadata": {},
   "outputs": [],
   "source": [
    "import copy\n",
    "\n",
    "from itertools import product\n",
    "import numpy as np\n",
    "\n",
    "import pint.toa as toa\n",
    "import pint.models as models\n",
    "import pint.residuals as r\n",
    "import pint.fitter as fit\n",
    "\n",
    "import matplotlib.pyplot as plt\n",
    "\n",
    "import astropy.units as u\n",
    "from astropy.coordinates import Angle\n",
    "\n",
    "from tqdm.notebook import tqdm"
   ]
  },
  {
   "cell_type": "code",
   "execution_count": 2,
   "metadata": {},
   "outputs": [
    {
     "name": "stdout",
     "output_type": "stream",
     "text": [
      "INFO: No pulse numbers found in the TOAs [pint.toa]\n",
      "INFO: Applying clock corrections (include_GPS = True, include_BIPM = True. [pint.toa]\n",
      "INFO: Observatory prao, loading clock file /home/andr/work/PINT/src/pint/datafiles/time.dat [pint.observatory.topo_obs]\n",
      "INFO: Loading tempo observatory (None) clock correction file /home/andr/work/PINT/src/pint/datafiles/time.dat [pint.observatory.clock_file]\n",
      "INFO: Evaluating observatory clock corrections. [pint.observatory.topo_obs]\n",
      "INFO: Applying GPS to UTC clock correction (~few nanoseconds) [pint.observatory.topo_obs]\n",
      "INFO: Observatory prao, loading GPS clock file /home/andr/work/PINT/src/pint/datafiles/gps2utc.clk [pint.observatory.topo_obs]\n",
      "INFO: Loading tempo2 observatory clock correction file /home/andr/work/PINT/src/pint/datafiles/gps2utc.clk [pint.observatory.clock_file]\n",
      "INFO: Applying TT(TAI) to TT(BIPM) clock correction (~27 us) [pint.observatory.topo_obs]\n",
      "INFO: Observatory prao, loading BIPM clock file /home/andr/work/PINT/src/pint/datafiles/tai2tt_bipm2015.clk [pint.observatory.topo_obs]\n",
      "INFO: Loading tempo2 observatory clock correction file /home/andr/work/PINT/src/pint/datafiles/tai2tt_bipm2015.clk [pint.observatory.clock_file]\n"
     ]
    },
    {
     "name": "stderr",
     "output_type": "stream",
     "text": [
      "WARNING: Data points out of range in clock file '/home/andr/work/PINT/src/pint/datafiles/time.dat' [pint.observatory.clock_file]\n"
     ]
    },
    {
     "name": "stdout",
     "output_type": "stream",
     "text": [
      "INFO: Computing TDB columns. [pint.toa]\n",
      "INFO: Doing astropy mode TDB conversion [pint.observatory]\n",
      "INFO: Computing positions and velocities of observatories and Earth (planets = False), using DE421 ephemeris [pint.toa]\n"
     ]
    },
    {
     "name": "stderr",
     "output_type": "stream",
     "text": [
      "WARNING: No ephemeris provided to TOAs object or compute_TDBs. Using DE421 [pint.toa]\n"
     ]
    }
   ],
   "source": [
    "t = toa.get_TOAs(\"./datafiles/PvT/B1112+50_test_t2.tim\", usepickle=False)"
   ]
  },
  {
   "cell_type": "code",
   "execution_count": 3,
   "metadata": {},
   "outputs": [],
   "source": [
    "start_param = models.get_model(\"./datafiles/1112_start.par\")"
   ]
  },
  {
   "cell_type": "code",
   "execution_count": 4,
   "metadata": {},
   "outputs": [],
   "source": [
    "# подготовка параметров к подону\n",
    "start_param.F1.value = 0.0\n",
    "start_param.F1.frozen = False\n",
    "start_param.F0.frozen = False\n",
    "start_param.RAJ.frozen = False\n",
    "start_param.DECJ.frozen = False"
   ]
  },
  {
   "cell_type": "code",
   "execution_count": 5,
   "metadata": {},
   "outputs": [
    {
     "name": "stdout",
     "output_type": "stream",
     "text": [
      "PSR                              J1112+50\n",
      "RAJ                     11:15:38.40000000 1\n",
      "DECJ                    50:30:12.29000000 1\n",
      "PMRA                                  0.0\n",
      "PMDEC                                 0.0\n",
      "PX                                    0.0\n",
      "F0                                  0.603 1\n",
      "F1                                    0.0 1\n",
      "PEPOCH             49334.0000000000000000\n",
      "PLANET_SHAPIRO                          N\n",
      "DM                                    9.0\n",
      "DM1                                   0.0\n",
      "\n"
     ]
    }
   ],
   "source": [
    "print(start_param.as_parfile())"
   ]
  },
  {
   "cell_type": "code",
   "execution_count": 68,
   "metadata": {},
   "outputs": [],
   "source": [
    "ra_pulsar_from_file = start_param.RAJ.quantity\n",
    "dec_pulsar_from_file = start_param.DECJ.quantity\n",
    "ra_range = Angle('0h02m00.0s')\n",
    "dec_range = Angle('0d30m00.0s')"
   ]
  },
  {
   "cell_type": "code",
   "execution_count": 69,
   "metadata": {},
   "outputs": [],
   "source": [
    "ra_start = ra_pulsar_from_file - ra_range\n",
    "ra_stop = ra_pulsar_from_file + ra_range\n",
    "dec_start = dec_pulsar_from_file - dec_range\n",
    "dec_stop = dec_pulsar_from_file + dec_range"
   ]
  },
  {
   "cell_type": "code",
   "execution_count": 70,
   "metadata": {},
   "outputs": [
    {
     "name": "stdout",
     "output_type": "stream",
     "text": [
      "0h00m05s 0d00m24s\n"
     ]
    }
   ],
   "source": [
    "step_ra = Angle('0h00m05.0s')\n",
    "step_dec = Angle('0d00m24.0s')\n",
    "print(step_ra, step_dec)"
   ]
  },
  {
   "cell_type": "code",
   "execution_count": 71,
   "metadata": {},
   "outputs": [],
   "source": [
    "numbers_ra = int(round(((ra_stop-ra_start)/step_ra).value))\n",
    "numbers_dec = int(round(((dec_stop-dec_start)/step_dec).value))"
   ]
  },
  {
   "cell_type": "code",
   "execution_count": 74,
   "metadata": {},
   "outputs": [],
   "source": [
    "ra_brutforce = np.linspace(ra_start, ra_stop, numbers_ra)\n",
    "dec_brutforce = np.linspace(dec_start, dec_stop, numbers_dec)\n",
    "freq_brutforce = [f'{start_param.F0.value}{i}' for i in range(qua_freq)]"
   ]
  },
  {
   "cell_type": "code",
   "execution_count": 156,
   "metadata": {},
   "outputs": [],
   "source": [
    "elem_list = list(product(freq_brutforce, ra_brutforce, dec_brutforce))\n",
    "final_result = []"
   ]
  },
  {
   "cell_type": "code",
   "execution_count": 157,
   "metadata": {},
   "outputs": [
    {
     "data": {
      "application/vnd.jupyter.widget-view+json": {
       "model_id": "e257b61230ad49af8c5e49d766e249ee",
       "version_major": 2,
       "version_minor": 0
      },
      "text/plain": [
       "HBox(children=(FloatProgress(value=0.0, max=50000.0), HTML(value='')))"
      ]
     },
     "metadata": {},
     "output_type": "display_data"
    },
    {
     "name": "stdout",
     "output_type": "stream",
     "text": [
      "\n"
     ]
    }
   ],
   "source": [
    "for p, ra, dec in tqdm(elem_list):\n",
    "\n",
    "    current_param = copy.copy(start_param)\n",
    "    current_param.F0.value = p\n",
    "    current_param.RAJ.quantity = ra\n",
    "    current_param.DECJ.quantity = dec\n",
    "\n",
    "    f = fit.WLSFitter(t, current_param)\n",
    "    f.fit_toas()\n",
    "    final_result.append(np.std(f.resids.time_resids))"
   ]
  },
  {
   "cell_type": "code",
   "execution_count": null,
   "metadata": {},
   "outputs": [],
   "source": [
    "Незабыть сохранять параметры"
   ]
  },
  {
   "cell_type": "code",
   "execution_count": 158,
   "metadata": {},
   "outputs": [
    {
     "data": {
      "text/plain": [
       "[<matplotlib.lines.Line2D at 0x7f81c9058fd0>]"
      ]
     },
     "execution_count": 158,
     "metadata": {},
     "output_type": "execute_result"
    },
    {
     "data": {
      "image/png": "[encoded data removed]",
      "text/plain": [
       "<Figure size 432x288 with 1 Axes>"
      ]
     },
     "metadata": {
      "needs_background": "light"
     },
     "output_type": "display_data"
    }
   ],
   "source": [
    "plt.clf()\n",
    "plt.plot(final_result)"
   ]
  },
  {
   "cell_type": "code",
   "execution_count": 136,
   "metadata": {},
   "outputs": [
    {
     "name": "stdout",
     "output_type": "stream",
     "text": [
      "PSR                              J1112+50\n",
      "RAJ                     11:13:38.40000000 1\n",
      "DECJ                    50:05:03.19909091 1\n",
      "PMRA                                  0.0\n",
      "PMDEC                                 0.0\n",
      "PX                                    0.0\n",
      "F0                                  0.603 1\n",
      "F1                                    0.0 1\n",
      "PEPOCH             49334.0000000000000000\n",
      "PLANET_SHAPIRO                          N\n",
      "DM                                    9.0\n",
      "DM1                                   0.0\n",
      "\n"
     ]
    }
   ],
   "source": [
    "print(current_param.as_parfile())"
   ]
  },
  {
   "cell_type": "code",
   "execution_count": 132,
   "metadata": {},
   "outputs": [
    {
     "data": {
      "text/latex": [
       "$50^\\circ04{}^\\prime26.8355{}^{\\prime\\prime}$"
      ],
      "text/plain": [
       "<Angle 50.07412096 deg>"
      ]
     },
     "execution_count": 132,
     "metadata": {},
     "output_type": "execute_result"
    }
   ],
   "source": [
    "dec"
   ]
  },
  {
   "cell_type": "code",
   "execution_count": 137,
   "metadata": {},
   "outputs": [
    {
     "data": {
      "text/latex": [
       "$7.9104492 \\times 10^{9} \\; \\mathrm{}$"
      ],
      "text/plain": [
       "<Quantity 7.91044924e+09>"
      ]
     },
     "execution_count": 137,
     "metadata": {},
     "output_type": "execute_result"
    }
   ],
   "source": [
    "f = fit.WLSFitter(t, current_param)\n",
    "f.fit_toas()"
   ]
  },
  {
   "cell_type": "code",
   "execution_count": 138,
   "metadata": {},
   "outputs": [
    {
     "data": {
      "image/png": "[encoded data removed]",
      "text/plain": [
       "<Figure size 432x288 with 1 Axes>"
      ]
     },
     "metadata": {
      "needs_background": "light"
     },
     "output_type": "display_data"
    }
   ],
   "source": [
    "plt.plot(t.get_mjds(), f.resids.time_resids.to(u.us), '+')\n",
    "plt.title(\"%s Post-Fit Timing Residuals\" % start_param.PSR.value)\n",
    "plt.xlabel(\"MJD\")\n",
    "plt.ylabel(\"Residual (us)\")\n",
    "plt.grid()"
   ]
  },
  {
   "cell_type": "code",
   "execution_count": 139,
   "metadata": {},
   "outputs": [
    {
     "data": {
      "text/latex": [
       "$0.46599818 \\; \\mathrm{s}$"
      ],
      "text/plain": [
       "<Quantity 0.46599818 s>"
      ]
     },
     "execution_count": 139,
     "metadata": {},
     "output_type": "execute_result"
    }
   ],
   "source": [
    "np.std(f.resids.time_resids)"
   ]
  },
  {
   "cell_type": "code",
   "execution_count": null,
   "metadata": {},
   "outputs": [],
   "source": []
  }
 ],
 "metadata": {
  "kernelspec": {
   "display_name": "Python 3",
   "language": "python",
   "name": "python3"
  },
  "language_info": {
   "codemirror_mode": {
    "name": "ipython",
    "version": 3
   },
   "file_extension": ".py",
   "mimetype": "text/x-python",
   "name": "python",
   "nbconvert_exporter": "python",
   "pygments_lexer": "ipython3",
   "version": "3.7.4"
  }
 },
 "nbformat": 4,
 "nbformat_minor": 4
}
