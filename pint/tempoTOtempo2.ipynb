{
 "cells": [
  {
   "cell_type": "code",
   "execution_count": 1,
   "metadata": {},
   "outputs": [],
   "source": [
    "import numpy as np"
   ]
  },
  {
   "cell_type": "code",
   "execution_count": 8,
   "metadata": {},
   "outputs": [],
   "source": [
    "timfile = np.genfromtxt('./datafiles/1112.tim', dtype=str).T"
   ]
  },
  {
   "cell_type": "code",
   "execution_count": 12,
   "metadata": {},
   "outputs": [],
   "source": [
    "name_pulsar = timfile[0][0]"
   ]
  },
  {
   "cell_type": "code",
   "execution_count": 20,
   "metadata": {},
   "outputs": [],
   "source": [
    "freq = \"{:.5f}\".format(float(timfile[3][0]))"
   ]
  },
  {
   "cell_type": "code",
   "execution_count": 22,
   "metadata": {},
   "outputs": [],
   "source": [
    "toas = timfile[4]"
   ]
  },
  {
   "cell_type": "code",
   "execution_count": 25,
   "metadata": {},
   "outputs": [],
   "source": [
    "errs = timfile[6]"
   ]
  },
  {
   "cell_type": "code",
   "execution_count": 27,
   "metadata": {},
   "outputs": [],
   "source": [
    "obs = timfile[7][0]"
   ]
  },
  {
   "cell_type": "code",
   "execution_count": 30,
   "metadata": {},
   "outputs": [],
   "source": [
    "def write_tempo2(name, toa_list, errs_list, freq, obs, lablel):\n",
    "    \"\"\"\n",
    "    Save tim file format tempo2\n",
    "    Input: header, array with toa, array with errors of toa and lablel which means metod of determing toa \n",
    "    Output: None\n",
    "    \"\"\"\n",
    "    big_space = ' '*15\n",
    "    midle_space = ' '*3\n",
    "    small_space = ' '*2\n",
    "    space4mjd = 20\n",
    "    #accuracy = str(float(head['tay'])*10**3)\n",
    "    with open(name + lablel + '_t2' '.tim', 'w') as file:\n",
    "        file.write('FORMAT 1')\n",
    "        file.write('\\n'*2)\n",
    "        for date, er in zip(toa_list, errs_list):\n",
    "            integer, fractional = er.split('.')\n",
    "            string = (name + big_space + freq + '   ' + date + \n",
    "                      ' '*(space4mjd-len(date)) + \n",
    "                      ' '*(6 - len(integer)) + integer + '.' + fractional[0] +\n",
    "                      ' ' + obs)\n",
    "        \n",
    "            file.write(string)\n",
    "            file.write('\\n')\n",
    "    \n",
    "    return None"
   ]
  },
  {
   "cell_type": "code",
   "execution_count": 31,
   "metadata": {},
   "outputs": [],
   "source": [
    "write_tempo2(name_pulsar, toas, errs, freq, obs, 'test')"
   ]
  },
  {
   "cell_type": "code",
   "execution_count": null,
   "metadata": {},
   "outputs": [],
   "source": []
  }
 ],
 "metadata": {
  "kernelspec": {
   "display_name": "Python 3",
   "language": "python",
   "name": "python3"
  },
  "language_info": {
   "codemirror_mode": {
    "name": "ipython",
    "version": 3
   },
   "file_extension": ".py",
   "mimetype": "text/x-python",
   "name": "python",
   "nbconvert_exporter": "python",
   "pygments_lexer": "ipython3",
   "version": "3.7.4"
  }
 },
 "nbformat": 4,
 "nbformat_minor": 4
}
