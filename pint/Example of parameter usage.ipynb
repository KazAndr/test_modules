{
 "cells": [
  {
   "cell_type": "code",
   "execution_count": 21,
   "metadata": {},
   "outputs": [],
   "source": [
    "import pint.models.model_builder as mb\n",
    "import pint.models.parameter as pp\n",
    "import astropy.units as u\n",
    "from astropy.coordinates.angles import Angle\n",
    "import pytest\n",
    "import astropy"
   ]
  },
  {
   "cell_type": "code",
   "execution_count": 4,
   "metadata": {},
   "outputs": [
    {
     "name": "stderr",
     "output_type": "stream",
     "text": [
      "WARNING: EPHVER 5 does nothing in PINT [pint.models.timing_model]\n",
      "WARNING: More than one component made use of par file line 'JUMP -chanid asp_424 7.6456527699426e-07 1': [('PhaseJump', 'JUMP1'), ('PhaseJump', 'JUMP2'), ('PhaseJump', 'JUMP3'), ('PhaseJump', 'JUMP4'), ('PhaseJump', 'JUMP5'), ('PhaseJump', 'JUMP6'), ('PhaseJump', 'JUMP7'), ('PhaseJump', 'JUMP8'), ('PhaseJump', 'JUMP9'), ('PhaseJump', 'JUMP10'), ('PhaseJump', 'JUMP11'), ('PhaseJump', 'JUMP12'), ('PhaseJump', 'JUMP13'), ('PhaseJump', 'JUMP14'), ('PhaseJump', 'JUMP15'), ('PhaseJump', 'JUMP16'), ('PhaseJump', 'JUMP17'), ('PhaseJump', 'JUMP18'), ('PhaseJump', 'JUMP19'), ('PhaseJump', 'JUMP20'), ('PhaseJump', 'JUMP21')] [pint.models.timing_model]\n"
     ]
    }
   ],
   "source": [
    "model = mb.get_model(\"./datafiles/B1855+09_NANOGrav_dfg+12_TAI.par\")"
   ]
  },
  {
   "cell_type": "code",
   "execution_count": 5,
   "metadata": {},
   "outputs": [
    {
     "name": "stdout",
     "output_type": "stream",
     "text": [
      "['PSR', 'TRACK', 'EPHEM', 'UNITS', 'POSEPOCH', 'PX', 'RAJ', 'DECJ', 'PMRA', 'PMDEC', 'PLANET_SHAPIRO', 'DM', 'DM1', 'DMEPOCH', 'DMX', 'DMX_0001', 'DMXR1_0001', 'DMXR2_0001', 'DMX_0002', 'DMX_0003', 'DMX_0004', 'DMX_0005', 'DMX_0006', 'DMX_0007', 'DMX_0008', 'DMX_0009', 'DMX_0010', 'DMX_0011', 'DMX_0012', 'DMX_0013', 'DMX_0014', 'DMX_0015', 'DMX_0016', 'DMX_0017', 'DMX_0018', 'DMX_0019', 'DMX_0020', 'DMX_0021', 'DMX_0022', 'DMX_0023', 'DMX_0024', 'DMX_0025', 'DMX_0026', 'DMX_0027', 'DMX_0028', 'DMX_0029', 'DMX_0030', 'DMXR1_0002', 'DMXR1_0003', 'DMXR1_0004', 'DMXR1_0005', 'DMXR1_0006', 'DMXR1_0007', 'DMXR1_0008', 'DMXR1_0009', 'DMXR1_0010', 'DMXR1_0011', 'DMXR1_0012', 'DMXR1_0013', 'DMXR1_0014', 'DMXR1_0015', 'DMXR1_0016', 'DMXR1_0017', 'DMXR1_0018', 'DMXR1_0019', 'DMXR1_0020', 'DMXR1_0021', 'DMXR1_0022', 'DMXR1_0023', 'DMXR1_0024', 'DMXR1_0025', 'DMXR1_0026', 'DMXR1_0027', 'DMXR1_0028', 'DMXR1_0029', 'DMXR1_0030', 'DMXR2_0002', 'DMXR2_0003', 'DMXR2_0004', 'DMXR2_0005', 'DMXR2_0006', 'DMXR2_0007', 'DMXR2_0008', 'DMXR2_0009', 'DMXR2_0010', 'DMXR2_0011', 'DMXR2_0012', 'DMXR2_0013', 'DMXR2_0014', 'DMXR2_0015', 'DMXR2_0016', 'DMXR2_0017', 'DMXR2_0018', 'DMXR2_0019', 'DMXR2_0020', 'DMXR2_0021', 'DMXR2_0022', 'DMXR2_0023', 'DMXR2_0024', 'DMXR2_0025', 'DMXR2_0026', 'DMXR2_0027', 'DMXR2_0028', 'DMXR2_0029', 'DMXR2_0030', 'PB', 'PBDOT', 'A1', 'A1DOT', 'ECC', 'EDOT', 'T0', 'OM', 'OMDOT', 'M2', 'SINI', 'FB0', 'A0', 'B0', 'GAMMA', 'DR', 'DTH', 'NE_SW', 'SWM', 'F0', 'F1', 'PEPOCH', 'JUMP1', 'JUMP2', 'JUMP3', 'JUMP4', 'JUMP5', 'JUMP6', 'JUMP7', 'JUMP8', 'JUMP9', 'JUMP10', 'JUMP11', 'JUMP12', 'JUMP13', 'JUMP14', 'JUMP15', 'JUMP16', 'JUMP17', 'JUMP18', 'JUMP19', 'JUMP20', 'JUMP21', 'TZRMJD', 'TZRSITE', 'TZRFRQ']\n"
     ]
    }
   ],
   "source": [
    "print(model.params)"
   ]
  },
  {
   "cell_type": "markdown",
   "metadata": {},
   "source": [
    "### Attributions in Parameters"
   ]
  },
  {
   "cell_type": "code",
   "execution_count": 6,
   "metadata": {},
   "outputs": [
    {
     "name": "stdout",
     "output_type": "stream",
     "text": [
      "Name            PSR\n",
      "Type            <class 'pint.models.parameter.strParameter'>\n",
      "Quantity        1855+09 <class 'str'>\n",
      "Value           1855+09\n",
      "units           None\n",
      "Uncertainty     None\n",
      "Uncertainty_value None\n",
      "Summary         strParameter(   PSR             1855+09           frozen=True)\n",
      "Parfile Style   PSR                               1855+09\n",
      "\n",
      "\n",
      "Name            POSEPOCH\n",
      "Type            <class 'pint.models.parameter.MJDParameter'>\n",
      "Quantity        49453.0000000000000000 <class 'astropy.time.core.Time'>\n",
      "Value           49453.0\n",
      "units           d\n",
      "Uncertainty     None\n",
      "Uncertainty_value None\n",
      "Summary         MJDParameter(   POSEPOCH        49453.0000000000000000 (d) frozen=True)\n",
      "Parfile Style   POSEPOCH           49453.0000000000000000\n",
      "\n",
      "\n",
      "Name            PX\n",
      "Type            <class 'pint.models.parameter.floatParameter'>\n",
      "Quantity        1.2288569063263406 mas <class 'astropy.units.quantity.Quantity'>\n",
      "Value           1.2288569063263406\n",
      "units           mas\n",
      "Uncertainty     0.21243361289239687 mas\n",
      "Uncertainty_value 0.21243361289239687\n",
      "Summary         floatParameter( PX              1.2288569063263406 (mas) +/- 0.21243361289239687 mas frozen=False)\n",
      "Parfile Style   PX                     1.2288569063263406 1 0.21243361289239687\n",
      "\n",
      "\n",
      "Name            RAJ\n",
      "Type            <class 'pint.models.parameter.AngleParameter'>\n",
      "Quantity        18h57m36.3933s <class 'astropy.coordinates.angles.Angle'>\n",
      "Value           18.960109246777776\n",
      "units           hourangle\n",
      "Uncertainty     2.60273e-05hourangle_second\n",
      "Uncertainty_value 2.602730280675029e-05\n",
      "Summary         AngleParameter( RAJ             18:57:36.39328840 (hourangle) +/- 0h00m00s frozen=False)\n",
      "Parfile Style   RAJ                     18:57:36.39328840 1 0.00002602730280675029\n",
      "\n",
      "\n",
      "Name            PLANET_SHAPIRO\n",
      "Type            <class 'pint.models.parameter.boolParameter'>\n",
      "Quantity        False <class 'bool'>\n",
      "Value           False\n",
      "units           None\n",
      "Uncertainty     None\n",
      "Uncertainty_value None\n",
      "Summary         boolParameter(  PLANET_SHAPIRO  N                 frozen=True)\n",
      "Parfile Style   PLANET_SHAPIRO                          N\n",
      "\n",
      "\n",
      "Name            DM1\n",
      "Type            <class 'pint.models.parameter.prefixParameter'>\n",
      "Quantity        0.0 pc / (cm3 yr) <class 'astropy.units.quantity.Quantity'>\n",
      "Value           0.0\n",
      "units           pc / (cm3 yr)\n",
      "Uncertainty     None\n",
      "Uncertainty_value None\n",
      "Summary         floatParameter( DM1             0.0               (pc / (cm3 yr)) frozen=True)\n",
      "Parfile Style   DM1                                   0.0\n",
      "\n",
      "\n",
      "Name            JUMP1\n",
      "Type            <class 'pint.models.parameter.maskParameter'>\n",
      "Quantity        7.6456527699426e-07 s <class 'astropy.units.quantity.Quantity'>\n",
      "Value           7.6456527699426e-07\n",
      "units           s\n",
      "Uncertainty     0.0 s\n",
      "Uncertainty_value 0.0\n",
      "Summary         maskParameter(JUMP1 -chanid asp_424 7.6456527699426e-07 +/- 0.0 s (s))\n",
      "Parfile Style   JUMP            -chanid asp_424       7.6456527699426e-07 1 0.0\n",
      "\n",
      "\n"
     ]
    }
   ],
   "source": [
    "printed = []\n",
    "for p in model.params:\n",
    "    par = getattr(model, p)\n",
    "    if type(par) in printed:\n",
    "        continue\n",
    "    print(\"Name           \", par.name)\n",
    "    print(\"Type           \", type(par))\n",
    "    print(\"Quantity       \", par.quantity, type(par.quantity))\n",
    "    print(\"Value          \", par.value)\n",
    "    print(\"units          \", par.units)\n",
    "    print(\"Uncertainty    \", par.uncertainty)\n",
    "    print(\"Uncertainty_value\", par.uncertainty_value)\n",
    "    print(\"Summary        \", par)\n",
    "    print(\"Parfile Style  \", par.as_parfile_line())\n",
    "    print()\n",
    "    printed.append(type(par))\n",
    "# Note JUMP and DMX is different."
   ]
  },
  {
   "cell_type": "markdown",
   "metadata": {},
   "source": [
    "### Making a parameter"
   ]
  },
  {
   "cell_type": "code",
   "execution_count": 7,
   "metadata": {},
   "outputs": [
    {
     "name": "stdout",
     "output_type": "stream",
     "text": [
      "floatParameter( TEST            100.0             (Hz) +/- 0.03 Hz frozen=True)\n"
     ]
    }
   ],
   "source": [
    "t = pp.floatParameter(name=\"TEST\", value=100, units=\"Hz\", uncertainty=0.03)\n",
    "print(t)"
   ]
  },
  {
   "cell_type": "code",
   "execution_count": 8,
   "metadata": {},
   "outputs": [
    {
     "name": "stdout",
     "output_type": "stream",
     "text": [
      "floatParameter( TEST            200.0             (Hz) +/- 0.04 Hz frozen=True)\n"
     ]
    }
   ],
   "source": [
    "t2 = pp.floatParameter(name=\"TEST\", value=\"200\", units=\"Hz\", uncertainty=\".04\")\n",
    "print(t2)"
   ]
  },
  {
   "cell_type": "code",
   "execution_count": 9,
   "metadata": {},
   "outputs": [
    {
     "name": "stdout",
     "output_type": "stream",
     "text": [
      "floatParameter( TEST            300.0             (Hz) +/- 0.04 Hz frozen=True)\n",
      "0.3 kHz\n",
      "300.0\n",
      "4e-05 kHz\n",
      "0.04\n"
     ]
    }
   ],
   "source": [
    "t3 = pp.floatParameter(\n",
    "    name=\"TEST\", value=0.3 * u.kHz, units=\"Hz\", uncertainty=4e-5 * u.kHz\n",
    ")\n",
    "print(t3)\n",
    "print(t3.quantity)\n",
    "print(t3.value)\n",
    "print(t3.uncertainty)\n",
    "print(t3.uncertainty_value)"
   ]
  },
  {
   "cell_type": "markdown",
   "metadata": {},
   "source": [
    "### Change Parameter quantity of value"
   ]
  },
  {
   "cell_type": "code",
   "execution_count": 10,
   "metadata": {},
   "outputs": [
    {
     "name": "stdout",
     "output_type": "stream",
     "text": [
      "floatParameter( F0              186.49408156698235146 (Hz) +/- 6.98911818e-12 Hz frozen=False)\n",
      "Quantity        200.0 Hz <class 'astropy.units.quantity.Quantity'>\n",
      "Value           200.0\n",
      "floatParameter( F0              200.0             (Hz) +/- 6.98911818e-12 Hz frozen=False)\n"
     ]
    }
   ],
   "source": [
    "par = model.F0\n",
    "print(par)\n",
    "par.quantity = 200\n",
    "print(\"Quantity       \", par.quantity, type(par.quantity))\n",
    "print(\"Value          \", par.value)\n",
    "print(par)"
   ]
  },
  {
   "cell_type": "code",
   "execution_count": 11,
   "metadata": {},
   "outputs": [
    {
     "name": "stdout",
     "output_type": "stream",
     "text": [
      "floatParameter( F0              200.0             (Hz) +/- 6.98911818e-12 Hz frozen=False)\n",
      "Quantity        150.0 Hz <class 'astropy.units.quantity.Quantity'>\n",
      "Value           150.0\n",
      "floatParameter( F0              150.0             (Hz) +/- 6.98911818e-12 Hz frozen=False)\n"
     ]
    }
   ],
   "source": [
    "# Test F0\n",
    "print(par)\n",
    "par.value = 150\n",
    "print(\"Quantity       \", par.quantity, type(par.quantity))\n",
    "print(\"Value          \", par.value)\n",
    "print(par)"
   ]
  },
  {
   "cell_type": "code",
   "execution_count": 12,
   "metadata": {},
   "outputs": [
    {
     "name": "stdout",
     "output_type": "stream",
     "text": [
      "floatParameter( F0              150.0             (Hz) +/- 6.98911818e-12 Hz frozen=False)\n",
      "Quantity        100.0 Hz <class 'astropy.units.quantity.Quantity'>\n",
      "Value           100.0\n",
      "floatParameter( F0              100.0             (Hz) +/- 6.98911818e-12 Hz frozen=False)\n"
     ]
    }
   ],
   "source": [
    "# Example for F0\n",
    "print(par)\n",
    "par.value = \"100\"\n",
    "print(\"Quantity       \", par.quantity, type(par.quantity))\n",
    "print(\"Value          \", par.value)\n",
    "print(par)"
   ]
  },
  {
   "cell_type": "code",
   "execution_count": 13,
   "metadata": {},
   "outputs": [
    {
     "name": "stdout",
     "output_type": "stream",
     "text": [
      "floatParameter( F0              100.0             (Hz) +/- 6.98911818e-12 Hz frozen=False)\n",
      "Quantity        300.0 Hz <class 'astropy.units.quantity.Quantity'>\n",
      "Value           300.0\n",
      "floatParameter( F0              300.0             (Hz) +/- 6.98911818e-12 Hz frozen=False)\n"
     ]
    }
   ],
   "source": [
    "# Example for F0\n",
    "print(par)\n",
    "par.quantity = \"300\"\n",
    "print(\"Quantity       \", par.quantity, type(par.quantity))\n",
    "print(\"Value          \", par.value)\n",
    "print(par)"
   ]
  },
  {
   "cell_type": "code",
   "execution_count": 14,
   "metadata": {},
   "outputs": [
    {
     "name": "stdout",
     "output_type": "stream",
     "text": [
      "Quantity        0.3 kHz <class 'astropy.units.quantity.Quantity'>\n",
      "Value           299.9999999999999889\n",
      "floatParameter( F0              299.9999999999999889 (Hz) +/- 6.98911818e-12 Hz frozen=False)\n"
     ]
    }
   ],
   "source": [
    "# Examle  F0\n",
    "par.quantity = 0.3 * u.kHz\n",
    "print(\"Quantity       \", par.quantity, type(par.quantity))\n",
    "print(\"Value          \", par.value)\n",
    "print(par)"
   ]
  },
  {
   "cell_type": "code",
   "execution_count": 15,
   "metadata": {},
   "outputs": [
    {
     "name": "stdout",
     "output_type": "stream",
     "text": [
      "floatParameter( F0              299.9999999999999889 (Hz) +/- 6.98911818e-12 Hz frozen=False)\n",
      "Exception raised: 's' (time) and 'Hz' (frequency) are not convertible\n"
     ]
    }
   ],
   "source": [
    "try:\n",
    "    # Examle  F0\n",
    "    print(par)\n",
    "    par.value = 100 * u.second  # SET F0 to seconds as time.\n",
    "    print(\"Quantity       \", par.quantity, type(par.quantity))\n",
    "    print(\"Value          \", par.value)\n",
    "    print(par)\n",
    "except u.UnitConversionError as e:\n",
    "    print(\"Exception raised:\", e)\n",
    "else:\n",
    "    raise ValueError(\"That was supposed to raise an exception!\")"
   ]
  },
  {
   "cell_type": "markdown",
   "metadata": {},
   "source": [
    "### For MJD parameters"
   ]
  },
  {
   "cell_type": "code",
   "execution_count": 16,
   "metadata": {},
   "outputs": [
    {
     "name": "stdout",
     "output_type": "stream",
     "text": [
      "MJDParameter(   TZRMJD          54177.5083593432625578 (d) frozen=True)\n",
      "Quantity        54000.0 <class 'astropy.time.core.Time'>\n",
      "Value           54000.0\n",
      "MJDParameter(   TZRMJD          54000.0000000000000000 (d) frozen=True)\n"
     ]
    },
    {
     "data": {
      "text/plain": [
       "<Time object: scale='utc' format='pulsar_mjd' value=54000.0>"
      ]
     },
     "execution_count": 16,
     "metadata": {},
     "output_type": "execute_result"
    }
   ],
   "source": [
    "par = model.TZRMJD\n",
    "print(par)\n",
    "par.quantity = 54000\n",
    "print(\"Quantity       \", par.quantity, type(par.quantity))\n",
    "print(\"Value          \", par.value)\n",
    "print(par)\n",
    "par.quantity"
   ]
  },
  {
   "cell_type": "code",
   "execution_count": 17,
   "metadata": {},
   "outputs": [
    {
     "name": "stdout",
     "output_type": "stream",
     "text": [
      "Quantity        54001.0000000000000000 <class 'astropy.time.core.Time'>\n",
      "Value           54001.0\n",
      "MJDParameter(   TZRMJD          54001.0000000000000000 (d) frozen=True)\n"
     ]
    },
    {
     "data": {
      "text/plain": [
       "<Time object: scale='utc' format='pulsar_mjd_string' value=54001.0000000000000000>"
      ]
     },
     "execution_count": 17,
     "metadata": {},
     "output_type": "execute_result"
    }
   ],
   "source": [
    "# Example for TZRMJD\n",
    "par.quantity = \"54001\"\n",
    "print(\"Quantity       \", par.quantity, type(par.quantity))\n",
    "print(\"Value          \", par.value)\n",
    "print(par)\n",
    "par.quantity"
   ]
  },
  {
   "cell_type": "code",
   "execution_count": 18,
   "metadata": {},
   "outputs": [
    {
     "name": "stdout",
     "output_type": "stream",
     "text": [
      "Quantity        54002.0 <class 'astropy.time.core.Time'>\n",
      "Value           54002.0\n",
      "MJDParameter(   TZRMJD          54002.0000000000000000 (d) frozen=True)\n"
     ]
    },
    {
     "data": {
      "text/plain": [
       "<Time object: scale='utc' format='pulsar_mjd' value=54002.0>"
      ]
     },
     "execution_count": 18,
     "metadata": {},
     "output_type": "execute_result"
    }
   ],
   "source": [
    "# Example for TZRMJD\n",
    "par.value = 54002\n",
    "print(\"Quantity       \", par.quantity, type(par.quantity))\n",
    "print(\"Value          \", par.value)\n",
    "print(par)\n",
    "par.quantity"
   ]
  },
  {
   "cell_type": "code",
   "execution_count": 19,
   "metadata": {},
   "outputs": [
    {
     "name": "stdout",
     "output_type": "stream",
     "text": [
      "Quantity        54003.0000000000000000 <class 'astropy.time.core.Time'>\n",
      "Value           54003.0\n",
      "MJDParameter(   TZRMJD          54003.0000000000000000 (d) frozen=True)\n"
     ]
    },
    {
     "data": {
      "text/plain": [
       "<Time object: scale='utc' format='pulsar_mjd_string' value=54003.0000000000000000>"
      ]
     },
     "execution_count": 19,
     "metadata": {},
     "output_type": "execute_result"
    }
   ],
   "source": [
    "# Example for TZRMJD\n",
    "par.value = \"54003\"\n",
    "print(\"Quantity       \", par.quantity, type(par.quantity))\n",
    "print(\"Value          \", par.value)\n",
    "print(par)\n",
    "par.quantity"
   ]
  },
  {
   "cell_type": "markdown",
   "metadata": {},
   "source": [
    "### For AngleParameters"
   ]
  },
  {
   "cell_type": "code",
   "execution_count": 20,
   "metadata": {},
   "outputs": [
    {
     "name": "stdout",
     "output_type": "stream",
     "text": [
      "AngleParameter( RAJ             18:57:36.39328840 (hourangle) +/- 0h00m00s frozen=False)\n",
      "Quantity        50h00m00s <class 'astropy.coordinates.angles.Angle'>\n",
      "Value           50.0\n",
      "AngleParameter( RAJ             50:00:00.00000000 (hourangle) +/- 0h00m00s frozen=False)\n"
     ]
    },
    {
     "data": {
      "text/latex": [
       "$50^\\mathrm{h}00^\\mathrm{m}00^\\mathrm{s}$"
      ],
      "text/plain": [
       "<Angle 50. hourangle>"
      ]
     },
     "execution_count": 20,
     "metadata": {},
     "output_type": "execute_result"
    }
   ],
   "source": [
    "# Example for RAJ\n",
    "par = model.RAJ\n",
    "print(par)\n",
    "par.quantity = 50\n",
    "print(\"Quantity       \", par.quantity, type(par.quantity))\n",
    "print(\"Value          \", par.value)\n",
    "print(par)\n",
    "par.quantity"
   ]
  },
  {
   "cell_type": "code",
   "execution_count": 22,
   "metadata": {},
   "outputs": [
    {
     "data": {
      "text/plain": [
       "'4.0'"
      ]
     },
     "execution_count": 22,
     "metadata": {},
     "output_type": "execute_result"
    }
   ],
   "source": [
    "astropy.__version__"
   ]
  },
  {
   "cell_type": "code",
   "execution_count": 23,
   "metadata": {},
   "outputs": [
    {
     "data": {
      "text/latex": [
       "$50^\\mathrm{h}00^\\mathrm{m}00^\\mathrm{s}$"
      ],
      "text/plain": [
       "<Angle 50. hourangle>"
      ]
     },
     "execution_count": 23,
     "metadata": {},
     "output_type": "execute_result"
    }
   ],
   "source": [
    "Angle(50.0 * u.hourangle)"
   ]
  },
  {
   "cell_type": "code",
   "execution_count": 24,
   "metadata": {},
   "outputs": [
    {
     "name": "stdout",
     "output_type": "stream",
     "text": [
      "AngleParameter( RAJ             50:00:00.00000000 (hourangle) +/- 0h00m00s frozen=False)\n",
      "Quantity        30h30m00s <class 'astropy.coordinates.angles.Angle'>\n",
      "Value           30.5\n",
      "AngleParameter( RAJ             30:30:00.00000000 (hourangle) +/- 0h00m00s frozen=False)\n"
     ]
    },
    {
     "data": {
      "text/latex": [
       "$30^\\mathrm{h}30^\\mathrm{m}00^\\mathrm{s}$"
      ],
      "text/plain": [
       "<Angle 30.5 hourangle>"
      ]
     },
     "execution_count": 24,
     "metadata": {},
     "output_type": "execute_result"
    }
   ],
   "source": [
    "# Example for RAJ\n",
    "print(par)\n",
    "par.quantity = 30.5\n",
    "print(\"Quantity       \", par.quantity, type(par.quantity))\n",
    "print(\"Value          \", par.value)\n",
    "print(par)\n",
    "par.quantity"
   ]
  },
  {
   "cell_type": "code",
   "execution_count": 25,
   "metadata": {},
   "outputs": [
    {
     "name": "stdout",
     "output_type": "stream",
     "text": [
      "AngleParameter( RAJ             30:30:00.00000000 (hourangle) +/- 0h00m00s frozen=False)\n",
      "Quantity        20h30m00s <class 'astropy.coordinates.angles.Angle'>\n",
      "Value           20.5\n",
      "AngleParameter( RAJ             20:30:00.00000000 (hourangle) +/- 0h00m00s frozen=False)\n"
     ]
    },
    {
     "data": {
      "text/latex": [
       "$20^\\mathrm{h}30^\\mathrm{m}00^\\mathrm{s}$"
      ],
      "text/plain": [
       "<Angle 20.5 hourangle>"
      ]
     },
     "execution_count": 25,
     "metadata": {},
     "output_type": "execute_result"
    }
   ],
   "source": [
    "# Example for RAJ\n",
    "print(par)\n",
    "par.quantity = \"20:30:00\"\n",
    "print(\"Quantity       \", par.quantity, type(par.quantity))\n",
    "print(\"Value          \", par.value)\n",
    "print(par)\n",
    "par.quantity"
   ]
  },
  {
   "cell_type": "code",
   "execution_count": 26,
   "metadata": {},
   "outputs": [
    {
     "name": "stdout",
     "output_type": "stream",
     "text": [
      "AngleParameter( RAJ             20:30:00.00000000 (hourangle) +/- 0h00m00s frozen=False)\n",
      "Quantity        20h05m00s <class 'astropy.coordinates.angles.Angle'>\n",
      "Value           20.083333333333332\n",
      "AngleParameter( RAJ             20:05:00.00000000 (hourangle) +/- 0h00m00s frozen=False)\n"
     ]
    },
    {
     "data": {
      "text/latex": [
       "$20^\\mathrm{h}05^\\mathrm{m}00^\\mathrm{s}$"
      ],
      "text/plain": [
       "<Angle 20.08333333 hourangle>"
      ]
     },
     "execution_count": 26,
     "metadata": {},
     "output_type": "execute_result"
    }
   ],
   "source": [
    "# Example for RAJ\n",
    "print(par)\n",
    "par.value = \"20:05:0\"\n",
    "print(\"Quantity       \", par.quantity, type(par.quantity))\n",
    "print(\"Value          \", par.value)\n",
    "print(par)\n",
    "par.quantity"
   ]
  },
  {
   "cell_type": "code",
   "execution_count": 27,
   "metadata": {},
   "outputs": [
    {
     "name": "stdout",
     "output_type": "stream",
     "text": [
      "AngleParameter( RAJ             20:05:00.00000000 (hourangle) +/- 0h00m00s frozen=False)\n",
      "Quantity        2h00m00s <class 'astropy.coordinates.angles.Angle'>\n",
      "Quantity in deg 30d00m00s\n",
      "Value           2.0000000000000004\n",
      "AngleParameter( RAJ             2:00:00.00000000  (hourangle) +/- 0h00m00s frozen=False)\n"
     ]
    },
    {
     "data": {
      "text/latex": [
       "$2^\\mathrm{h}00^\\mathrm{m}00^\\mathrm{s}$"
      ],
      "text/plain": [
       "<Angle 2. hourangle>"
      ]
     },
     "execution_count": 27,
     "metadata": {},
     "output_type": "execute_result"
    }
   ],
   "source": [
    "# Example for RAJ\n",
    "print(par)\n",
    "par.quantity = 30 * u.deg\n",
    "print(\"Quantity       \", par.quantity, type(par.quantity))\n",
    "print(\"Quantity in deg\", par.quantity.to(u.deg))\n",
    "print(\"Value          \", par.value)\n",
    "print(par)\n",
    "par.quantity"
   ]
  },
  {
   "cell_type": "code",
   "execution_count": 28,
   "metadata": {},
   "outputs": [
    {
     "name": "stdout",
     "output_type": "stream",
     "text": [
      "AngleParameter( RAJ             2:00:00.00000000  (hourangle) +/- 0h00m00s frozen=False)\n",
      "Quantity        152h47m19.4833s <class 'astropy.coordinates.angles.Angle'>\n",
      "Quantity in rad 40rad\n",
      "Value           152.78874536821954\n",
      "AngleParameter( RAJ             152:47:19.48332559 (hourangle) +/- 0h00m00s frozen=False)\n"
     ]
    },
    {
     "data": {
      "text/latex": [
       "$152^\\mathrm{h}47^\\mathrm{m}19.4833^\\mathrm{s}$"
      ],
      "text/plain": [
       "<Angle 152.78874537 hourangle>"
      ]
     },
     "execution_count": 28,
     "metadata": {},
     "output_type": "execute_result"
    }
   ],
   "source": [
    "# Example for RAJ\n",
    "print(par)\n",
    "par.value = 40 * u.rad\n",
    "print(\"Quantity       \", par.quantity, type(par.quantity))\n",
    "print(\"Quantity in rad\", par.quantity.to(u.rad))\n",
    "print(\"Value          \", par.value)\n",
    "print(par)\n",
    "par.quantity"
   ]
  },
  {
   "cell_type": "markdown",
   "metadata": {},
   "source": [
    "Test for wrong unit"
   ]
  },
  {
   "cell_type": "code",
   "execution_count": 29,
   "metadata": {},
   "outputs": [
    {
     "name": "stdout",
     "output_type": "stream",
     "text": [
      "AngleParameter( RAJ             152:47:19.48332559 (hourangle) +/- 0h00m00s frozen=False)\n",
      "Exception raised: 's' (time) and 'hourangle' (angle) are not convertible\n"
     ]
    }
   ],
   "source": [
    "# Example for RAJ\n",
    "try:\n",
    "    print(par)\n",
    "    par.value = 40 * u.second  #  Here second is in the unit of time, not hourangle\n",
    "    print(\"Quantity       \", par.quantity, type(par.quantity))\n",
    "    print(\"Quantity in rad\", par.quantity.to(u.rad))\n",
    "    print(\"Value          \", par.value)\n",
    "    print(par)\n",
    "    par.quantity\n",
    "except u.UnitConversionError as e:\n",
    "    print(\"Exception raised:\", e)\n",
    "else:\n",
    "    raise ValueError(\"That was supposed to raise an exception!\")"
   ]
  },
  {
   "cell_type": "code",
   "execution_count": 30,
   "metadata": {},
   "outputs": [
    {
     "name": "stdout",
     "output_type": "stream",
     "text": [
      "AngleParameter( RAJ             152:47:19.48332559 (hourangle) +/- 0h00m00s frozen=False)\n",
      "Exception raised: 'h' (time) and 'hourangle' (angle) are not convertible\n"
     ]
    }
   ],
   "source": [
    "try:\n",
    "    # Example for RAJ\n",
    "    print(par)\n",
    "    par.quantity = 30 * u.hour  # Here hour is in the unit of time, not hourangle\n",
    "    print(\"Quantity       \", par.quantity, type(par.quantity))\n",
    "    print(\"Quantity in deg\", par.quantity.to(u.deg))\n",
    "    print(\"Value          \", par.value)\n",
    "    print(par)\n",
    "    par.quantity\n",
    "except u.UnitConversionError as e:\n",
    "    print(\"Exception raised:\", e)\n",
    "else:\n",
    "    raise ValueError(\"That was supposed to raise an exception!\")"
   ]
  },
  {
   "cell_type": "markdown",
   "metadata": {},
   "source": [
    "### Example for uncertainty"
   ]
  },
  {
   "cell_type": "code",
   "execution_count": 31,
   "metadata": {},
   "outputs": [],
   "source": [
    "par = model.F0"
   ]
  },
  {
   "cell_type": "code",
   "execution_count": 32,
   "metadata": {},
   "outputs": [
    {
     "name": "stdout",
     "output_type": "stream",
     "text": [
      "6.98911818e-12 Hz\n",
      "6.98911818e-12\n",
      "floatParameter( F0              299.9999999999999889 (Hz) +/- 6.98911818e-12 Hz frozen=False)\n",
      "6.98911818e-15 kHz\n"
     ]
    }
   ],
   "source": [
    "# Example for F0\n",
    "print(par.uncertainty)\n",
    "print(par.uncertainty_value)\n",
    "par.uncertainty = par.uncertainty_value / 1000.0 * u.kHz\n",
    "print(par)\n",
    "print(par.uncertainty)"
   ]
  },
  {
   "cell_type": "code",
   "execution_count": 33,
   "metadata": {},
   "outputs": [
    {
     "name": "stdout",
     "output_type": "stream",
     "text": [
      "floatParameter( F0              299.9999999999999889 (Hz) +/- 6e-13 Hz frozen=False)\n",
      "6e-13 Hz\n"
     ]
    }
   ],
   "source": [
    "# Example for F0\n",
    "par.uncertainty_value = 6e-13\n",
    "print(par)\n",
    "print(par.uncertainty)"
   ]
  },
  {
   "cell_type": "code",
   "execution_count": 34,
   "metadata": {},
   "outputs": [
    {
     "name": "stdout",
     "output_type": "stream",
     "text": [
      "floatParameter( F0              299.9999999999999889 (Hz) +/- 7e-13 Hz frozen=False)\n",
      "7e-16 kHz\n"
     ]
    }
   ],
   "source": [
    "# Example for F0\n",
    "par.uncertainty_value = 7e-16 * u.kHz\n",
    "print(par)\n",
    "print(par.uncertainty)"
   ]
  },
  {
   "cell_type": "markdown",
   "metadata": {},
   "source": [
    "### How do “prefix parameters” and “mask parameters” work?"
   ]
  },
  {
   "cell_type": "code",
   "execution_count": 35,
   "metadata": {},
   "outputs": [],
   "source": [
    "cat = pp.prefixParameter(\n",
    "    parameter_type=\"float\", name=\"CAT0\", units=u.ml, long_double=True\n",
    ")"
   ]
  },
  {
   "cell_type": "code",
   "execution_count": 36,
   "metadata": {},
   "outputs": [
    {
     "data": {
      "text/plain": [
       "['__class__',\n",
       " '__delattr__',\n",
       " '__dict__',\n",
       " '__dir__',\n",
       " '__doc__',\n",
       " '__eq__',\n",
       " '__format__',\n",
       " '__ge__',\n",
       " '__getattribute__',\n",
       " '__gt__',\n",
       " '__hash__',\n",
       " '__init__',\n",
       " '__init_subclass__',\n",
       " '__le__',\n",
       " '__lt__',\n",
       " '__module__',\n",
       " '__ne__',\n",
       " '__new__',\n",
       " '__reduce__',\n",
       " '__reduce_ex__',\n",
       " '__repr__',\n",
       " '__setattr__',\n",
       " '__sizeof__',\n",
       " '__str__',\n",
       " '__subclasshook__',\n",
       " '__weakref__',\n",
       " 'aliases',\n",
       " 'as_parfile_line',\n",
       " 'continuous',\n",
       " 'description',\n",
       " 'description_template',\n",
       " 'from_parfile_line',\n",
       " 'frozen',\n",
       " 'help_line',\n",
       " 'idxfmt',\n",
       " 'index',\n",
       " 'is_prefix',\n",
       " 'long_double',\n",
       " 'name',\n",
       " 'name_matches',\n",
       " 'new_param',\n",
       " 'param_class',\n",
       " 'param_comp',\n",
       " 'parameter_type',\n",
       " 'prefix',\n",
       " 'prefix_aliases',\n",
       " 'prefix_matches',\n",
       " 'print_quantity',\n",
       " 'print_uncertainty',\n",
       " 'prior',\n",
       " 'prior_pdf',\n",
       " 'quantity',\n",
       " 'special_arg',\n",
       " 'type_mapping',\n",
       " 'uncertainty',\n",
       " 'uncertainty_value',\n",
       " 'unit_template',\n",
       " 'units',\n",
       " 'value']"
      ]
     },
     "execution_count": 36,
     "metadata": {},
     "output_type": "execute_result"
    }
   ],
   "source": [
    "dir(cat)"
   ]
  },
  {
   "cell_type": "code",
   "execution_count": 37,
   "metadata": {},
   "outputs": [
    {
     "data": {
      "text/plain": [
       "True"
      ]
     },
     "execution_count": 37,
     "metadata": {},
     "output_type": "execute_result"
    }
   ],
   "source": [
    "cat.is_prefix"
   ]
  },
  {
   "cell_type": "code",
   "execution_count": 38,
   "metadata": {},
   "outputs": [
    {
     "data": {
      "text/plain": [
       "0"
      ]
     },
     "execution_count": 38,
     "metadata": {},
     "output_type": "execute_result"
    }
   ],
   "source": [
    "cat.index"
   ]
  },
  {
   "cell_type": "code",
   "execution_count": null,
   "metadata": {},
   "outputs": [],
   "source": []
  }
 ],
 "metadata": {
  "kernelspec": {
   "display_name": "Python 3",
   "language": "python",
   "name": "python3"
  },
  "language_info": {
   "codemirror_mode": {
    "name": "ipython",
    "version": 3
   },
   "file_extension": ".py",
   "mimetype": "text/x-python",
   "name": "python",
   "nbconvert_exporter": "python",
   "pygments_lexer": "ipython3",
   "version": "3.7.4"
  }
 },
 "nbformat": 4,
 "nbformat_minor": 4
}
