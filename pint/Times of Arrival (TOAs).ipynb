{
 "cells": [
  {
   "cell_type": "code",
   "execution_count": 1,
   "metadata": {},
   "outputs": [],
   "source": [
    "from __future__ import print_function, division\n",
    "import numpy as np\n",
    "import astropy.units as u"
   ]
  },
  {
   "cell_type": "code",
   "execution_count": 2,
   "metadata": {},
   "outputs": [
    {
     "data": {
      "text/plain": [
       "<astropy.visualization.units.quantity_support.<locals>.MplQuantityConverter at 0x7fe15977af50>"
      ]
     },
     "execution_count": 2,
     "metadata": {},
     "output_type": "execute_result"
    }
   ],
   "source": [
    "import matplotlib.pyplot as plt\n",
    "\n",
    "# Turn on quantity support for plotting. This is very helpful!\n",
    "from astropy.visualization import quantity_support\n",
    "\n",
    "quantity_support()"
   ]
  },
  {
   "cell_type": "code",
   "execution_count": 3,
   "metadata": {},
   "outputs": [
    {
     "name": "stdout",
     "output_type": "stream",
     "text": [
      "54567.8768768768768759:  4.500 us error from 'gbt' at 1400.0000 MHz {'backend': 'GUPPI'}\n"
     ]
    }
   ],
   "source": [
    "import pint.toa as toa\n",
    "\n",
    "a = toa.TOA(\n",
    "    (54567, 0.876876876876876),\n",
    "    4.5 * u.us,\n",
    "    freq=1400.0 * u.MHz,\n",
    "    obs=\"GBT\",\n",
    "    backend=\"GUPPI\",\n",
    ")\n",
    "print(a)"
   ]
  },
  {
   "cell_type": "code",
   "execution_count": 41,
   "metadata": {},
   "outputs": [],
   "source": [
    "# An example of reading a TOA file\n",
    "import pint.toa as toa\n",
    "import pint.models as models\n",
    "import pint.residuals as r\n",
    "import pint.fitter as fit"
   ]
  },
  {
   "cell_type": "code",
   "execution_count": 12,
   "metadata": {},
   "outputs": [
    {
     "name": "stdout",
     "output_type": "stream",
     "text": [
      "INFO: No pulse numbers found in the TOAs [pint.toa]\n",
      "INFO: Applying clock corrections (include_GPS = True, include_BIPM = True. [pint.toa]\n",
      "INFO: Evaluating observatory clock corrections. [pint.observatory.topo_obs]\n",
      "INFO: Applying GPS to UTC clock correction (~few nanoseconds) [pint.observatory.topo_obs]\n",
      "INFO: Applying TT(TAI) to TT(BIPM) clock correction (~27 us) [pint.observatory.topo_obs]\n",
      "INFO: Computing TDB columns. [pint.toa]\n",
      "INFO: Doing astropy mode TDB conversion [pint.observatory]\n",
      "INFO: Computing positions and velocities of observatories and Earth (planets = False), using DE421 ephemeris [pint.toa]\n"
     ]
    },
    {
     "name": "stderr",
     "output_type": "stream",
     "text": [
      "WARNING: No ephemeris provided to TOAs object or compute_TDBs. Using DE421 [pint.toa]\n"
     ]
    }
   ],
   "source": [
    "t = toa.get_TOAs(\"./datafiles/NGC6440E.tim\")"
   ]
  },
  {
   "cell_type": "code",
   "execution_count": 14,
   "metadata": {},
   "outputs": [
    {
     "name": "stdout",
     "output_type": "stream",
     "text": [
      "Number of TOAs:  62\n",
      "Number of commands:  1\n",
      "Number of observatories:  1 ['gbt']\n",
      "MJD span:  53478.286 to 54187.587\n",
      "gbt TOAs (62):\n",
      "  Min error:     13.2 us\n",
      "  Max error:     118 us\n",
      "  Mean error:    26.9 us\n",
      "  Median error:  22.1 us\n",
      "  Error stddev:  15.6 us\n",
      "\n"
     ]
    }
   ],
   "source": [
    "#  Here is a summary.\n",
    "t.print_summary()"
   ]
  },
  {
   "cell_type": "code",
   "execution_count": 15,
   "metadata": {},
   "outputs": [
    {
     "name": "stdout",
     "output_type": "stream",
     "text": [
      "53478.28587141922 d\n"
     ]
    }
   ],
   "source": [
    "# The get_mjds() method returns an array of the MJDs for the TOAs\n",
    "# Here is the MJD of the first TOA. Notice that is has the units of days\n",
    "print(t.get_mjds()[0])"
   ]
  },
  {
   "cell_type": "markdown",
   "metadata": {},
   "source": [
    "## TOAs are stored in a Astropy Table in an instance of the TOAs class."
   ]
  },
  {
   "cell_type": "code",
   "execution_count": 16,
   "metadata": {},
   "outputs": [
    {
     "data": {
      "text/plain": [
       "['index',\n",
       " 'mjd',\n",
       " 'mjd_float',\n",
       " 'error',\n",
       " 'freq',\n",
       " 'obs',\n",
       " 'flags',\n",
       " 'delta_pulse_number',\n",
       " 'groups',\n",
       " 'tdb',\n",
       " 'tdbld',\n",
       " 'ssb_obs_pos',\n",
       " 'ssb_obs_vel',\n",
       " 'obs_sun_pos']"
      ]
     },
     "execution_count": 16,
     "metadata": {},
     "output_type": "execute_result"
    }
   ],
   "source": [
    "# List the table columns, which include pre-computed TDB times and\n",
    "# solar system positions and velocities\n",
    "t.table.colnames"
   ]
  },
  {
   "cell_type": "markdown",
   "metadata": {},
   "source": [
    "##### Lots of cool things that tables can do…"
   ]
  },
  {
   "cell_type": "code",
   "execution_count": 19,
   "metadata": {},
   "outputs": [],
   "source": [
    "# This pops open a browser window showing the contents of the table\n",
    "tt = t.table\n",
    "# tt.show_in_browser()"
   ]
  },
  {
   "cell_type": "markdown",
   "metadata": {},
   "source": [
    "##### Can do fancy sorting, selecting, re-arranging very easily."
   ]
  },
  {
   "cell_type": "code",
   "execution_count": 20,
   "metadata": {},
   "outputs": [
    {
     "name": "stdout",
     "output_type": "stream",
     "text": [
      "[False False False False False False False  True False False False False\n",
      " False False  True False  True False False False  True False  True False\n",
      "  True  True  True  True False  True False  True  True  True False False\n",
      " False False False False False False  True  True False  True  True False\n",
      " False False  True False False False False False False False False False\n",
      " False False]\n"
     ]
    }
   ],
   "source": [
    "select = t.get_errors() < 20 * u.us\n",
    "print(select)"
   ]
  },
  {
   "cell_type": "code",
   "execution_count": 21,
   "metadata": {},
   "outputs": [
    {
     "data": {
      "text/html": [
       "&lt;Column name=&apos;tdb&apos; dtype=&apos;object&apos; length=18&gt;\n",
       "<table>\n",
       "<tr><td>53679.87638798794</td></tr>\n",
       "<tr><td>53690.85126495607</td></tr>\n",
       "<tr><td>53695.85965074819</td></tr>\n",
       "<tr><td>53709.81035518692</td></tr>\n",
       "<tr><td>53740.775353131845</td></tr>\n",
       "<tr><td>53801.59218746964</td></tr>\n",
       "<tr><td>53833.2985647664</td></tr>\n",
       "<tr><td>53833.50321218054</td></tr>\n",
       "<tr><td>53843.33283383857</td></tr>\n",
       "<tr><td>53865.37670583518</td></tr>\n",
       "<tr><td>53895.32422385059</td></tr>\n",
       "<tr><td>53920.05349616944</td></tr>\n",
       "<tr><td>53920.240469182434</td></tr>\n",
       "<tr><td>54093.65735966989</td></tr>\n",
       "<tr><td>54095.65406181057</td></tr>\n",
       "<tr><td>54099.71053923451</td></tr>\n",
       "<tr><td>54148.6872738913</td></tr>\n",
       "<tr><td>54153.54933858948</td></tr>\n",
       "</table>"
      ],
      "text/plain": [
       "<Column name='tdb' dtype='object' length=18>\n",
       " 53679.87638798794\n",
       " 53690.85126495607\n",
       " 53695.85965074819\n",
       " 53709.81035518692\n",
       "53740.775353131845\n",
       " 53801.59218746964\n",
       "  53833.2985647664\n",
       " 53833.50321218054\n",
       " 53843.33283383857\n",
       " 53865.37670583518\n",
       " 53895.32422385059\n",
       " 53920.05349616944\n",
       "53920.240469182434\n",
       " 54093.65735966989\n",
       " 54095.65406181057\n",
       " 54099.71053923451\n",
       "  54148.6872738913\n",
       " 54153.54933858948"
      ]
     },
     "execution_count": 21,
     "metadata": {},
     "output_type": "execute_result"
    }
   ],
   "source": [
    "tt[\"tdb\"][select]"
   ]
  },
  {
   "cell_type": "markdown",
   "metadata": {},
   "source": [
    "##### TOAs objects have a select() method to select based on a boolean mask. This selection can be undone later with unselect."
   ]
  },
  {
   "cell_type": "code",
   "execution_count": 22,
   "metadata": {},
   "outputs": [
    {
     "name": "stdout",
     "output_type": "stream",
     "text": [
      "Number of TOAs:  62\n",
      "Number of commands:  1\n",
      "Number of observatories:  1 ['gbt']\n",
      "MJD span:  53478.286 to 54187.587\n",
      "gbt TOAs (62):\n",
      "  Min error:     13.2 us\n",
      "  Max error:     118 us\n",
      "  Mean error:    26.9 us\n",
      "  Median error:  22.1 us\n",
      "  Error stddev:  15.6 us\n",
      "\n",
      "Number of TOAs:  18\n",
      "Number of commands:  1\n",
      "Number of observatories:  1 ['gbt']\n",
      "MJD span:  53679.876 to 54153.549\n",
      "gbt TOAs (18):\n",
      "  Min error:     13.2 us\n",
      "  Max error:     19.6 us\n",
      "  Mean error:    16.5 us\n",
      "  Median error:  16.4 us\n",
      "  Error stddev:  2.21 us\n",
      "\n",
      "Number of TOAs:  62\n",
      "Number of commands:  1\n",
      "Number of observatories:  1 ['gbt']\n",
      "MJD span:  53478.286 to 54187.587\n",
      "gbt TOAs (62):\n",
      "  Min error:     13.2 us\n",
      "  Max error:     118 us\n",
      "  Mean error:    26.9 us\n",
      "  Median error:  22.1 us\n",
      "  Error stddev:  15.6 us\n",
      "\n"
     ]
    }
   ],
   "source": [
    "t.print_summary()\n",
    "t.select(select)\n",
    "t.print_summary()\n",
    "t.unselect()\n",
    "t.print_summary()"
   ]
  },
  {
   "cell_type": "markdown",
   "metadata": {},
   "source": [
    "##### Many PINT routines / classes / functions use Astropy Units internally or externally:"
   ]
  },
  {
   "cell_type": "code",
   "execution_count": 23,
   "metadata": {},
   "outputs": [
    {
     "data": {
      "text/latex": [
       "$[21.71,~21.95,~29.95,~25.46,~23.43,~31.67,~30.26,~13.52,~21.64,~27.41,~24.58,~23.52,~21.71,~21.47,~17.72,~28.88,~14.63,~38.03,~31.47,~33.26,~13.88,~26.89,~18.29,~21.48,~17.88,~18.59,~19.03,~15.07,~21.58,~14.72,~25.14,~14.65,~19.29,~13.25,~20.71,~23.57,~23.45,~22.16,~23.53,~21.01,~21.66,~75.3,~19.65,~16.28,~21.93,~14,~19.35,~32.92,~33.83,~118.43,~16.45,~30.18,~21.8,~20.75,~32.75,~31.29,~37.13,~37.4,~35.24,~50.83,~38.43,~48.59] \\; \\mathrm{\\mu s}$"
      ],
      "text/plain": [
       "<Quantity [ 21.71,  21.95,  29.95,  25.46,  23.43,  31.67,  30.26,  13.52,\n",
       "            21.64,  27.41,  24.58,  23.52,  21.71,  21.47,  17.72,  28.88,\n",
       "            14.63,  38.03,  31.47,  33.26,  13.88,  26.89,  18.29,  21.48,\n",
       "            17.88,  18.59,  19.03,  15.07,  21.58,  14.72,  25.14,  14.65,\n",
       "            19.29,  13.25,  20.71,  23.57,  23.45,  22.16,  23.53,  21.01,\n",
       "            21.66,  75.3 ,  19.65,  16.28,  21.93,  14.  ,  19.35,  32.92,\n",
       "            33.83, 118.43,  16.45,  30.18,  21.8 ,  20.75,  32.75,  31.29,\n",
       "            37.13,  37.4 ,  35.24,  50.83,  38.43,  48.59] us>"
      ]
     },
     "execution_count": 23,
     "metadata": {},
     "output_type": "execute_result"
    }
   ],
   "source": [
    "t.get_errors()"
   ]
  },
  {
   "cell_type": "markdown",
   "metadata": {},
   "source": [
    "##### The times in each row contain (or are derived from) Astropy Time objects:"
   ]
  },
  {
   "cell_type": "code",
   "execution_count": 24,
   "metadata": {},
   "outputs": [],
   "source": [
    "t0 = tt[\"mjd\"][0]"
   ]
  },
  {
   "cell_type": "code",
   "execution_count": 25,
   "metadata": {},
   "outputs": [
    {
     "data": {
      "text/plain": [
       "<Time object: scale='tai' format='pulsar_mjd' value=53478.28624178991>"
      ]
     },
     "execution_count": 25,
     "metadata": {},
     "output_type": "execute_result"
    }
   ],
   "source": [
    "t0.tai"
   ]
  },
  {
   "cell_type": "markdown",
   "metadata": {},
   "source": [
    "##### But the most useful timescale, TDB is also stored in its own column as a long double numpy array, to maintain precision and keep from having to redo the conversion. Note that is is the TOA time converted to the TDB timescale, but the Solar System delays have not been applied, so this is NOT what people call “barycentered times”"
   ]
  },
  {
   "cell_type": "code",
   "execution_count": 26,
   "metadata": {},
   "outputs": [
    {
     "data": {
      "text/html": [
       "&lt;Column name=&apos;tdbld&apos; dtype=&apos;float128&apos; length=3&gt;\n",
       "<table>\n",
       "<tr><td>53478.286614308378386</td></tr>\n",
       "<tr><td>53483.27744807716902</td></tr>\n",
       "<tr><td>53489.469132675783513</td></tr>\n",
       "</table>"
      ],
      "text/plain": [
       "<Column name='tdbld' dtype='float128' length=3>\n",
       "53478.286614308378386\n",
       " 53483.27744807716902\n",
       "53489.469132675783513"
      ]
     },
     "execution_count": 26,
     "metadata": {},
     "output_type": "execute_result"
    }
   ],
   "source": [
    "tt[\"tdbld\"][:3]"
   ]
  },
  {
   "cell_type": "markdown",
   "metadata": {},
   "source": [
    "#### Timing (or other) Models\n",
    "Now let’s define and load a timing model"
   ]
  },
  {
   "cell_type": "code",
   "execution_count": 29,
   "metadata": {},
   "outputs": [],
   "source": [
    "m = models.get_model(\"./datafiles/NGC6440E.par\")"
   ]
  },
  {
   "cell_type": "code",
   "execution_count": 31,
   "metadata": {},
   "outputs": [
    {
     "name": "stdout",
     "output_type": "stream",
     "text": [
      "PSR                            1748-2021E\n",
      "EPHEM                               DE421\n",
      "RAJ                     17:48:52.75000000 1 0.00000000000000000000\n",
      "DECJ                   -20:21:29.00000000 1 0.00000000000000000000\n",
      "PMRA                                  0.0\n",
      "PMDEC                                 0.0\n",
      "PX                                    0.0\n",
      "POSEPOCH           53750.0000000000000000\n",
      "F0                           61.485476554 1 0.0\n",
      "F1                             -1.181e-15 1 0.0\n",
      "PEPOCH             53750.0000000000000000\n",
      "PLANET_SHAPIRO                          N\n",
      "DM                                  223.9 1 0.0\n",
      "DM1                                   0.0\n",
      "NE_SW                                 0.0\n",
      "SWM                                   0.0\n",
      "TZRMJD             53801.3860511822300000\n",
      "TZRSITE                                 1\n",
      "TZRFRQ                           1949.609\n",
      "\n"
     ]
    }
   ],
   "source": [
    "print(m.as_parfile())"
   ]
  },
  {
   "cell_type": "markdown",
   "metadata": {},
   "source": [
    "##### Timing models are basically composed of “delay” terms and “phase” terms. The delay terms are evaluated in order, going from terms local to the Solar System, which are needed for computing ‘barycenter-corrected’ TOAs, through terms for the binary system."
   ]
  },
  {
   "cell_type": "code",
   "execution_count": 32,
   "metadata": {},
   "outputs": [
    {
     "data": {
      "text/plain": [
       "[<bound method Astrometry.solar_system_geometric_delay of AstrometryEquatorial(\n",
       "     MJDParameter(   POSEPOCH        53750.0000000000000000 (d) frozen=True),\n",
       "     floatParameter( PX              0.0               (mas) frozen=True),\n",
       "     AngleParameter( RAJ             17:48:52.75000000 (hourangle) +/- 0h00m00s frozen=False),\n",
       "     AngleParameter( DECJ            -20:21:29.00000000 (deg) +/- 0d00m00s frozen=False),\n",
       "     floatParameter( PMRA            0.0               (mas / yr) frozen=True),\n",
       "     floatParameter( PMDEC           0.0               (mas / yr) frozen=True))>,\n",
       " <bound method SolarSystemShapiro.solar_system_shapiro_delay of SolarSystemShapiro(\n",
       "     boolParameter(  PLANET_SHAPIRO  N                 frozen=True))>,\n",
       " <bound method DispersionDM.constant_dispersion_delay of DispersionDM(\n",
       "     floatParameter( DM              223.9             (pc / cm3) +/- 0.0 pc / cm3 frozen=False),\n",
       "     floatParameter( DM1             0.0               (pc / (cm3 yr)) frozen=True),\n",
       "     MJDParameter(   DMEPOCH         UNSET)>,\n",
       " <bound method SolarWindDispersion.solar_wind_delay of SolarWindDispersion(\n",
       "     floatParameter( NE_SW           0.0               (1 / cm3) frozen=True),\n",
       "     floatParameter( SWM             0.0               () frozen=True))>]"
      ]
     },
     "execution_count": 32,
     "metadata": {},
     "output_type": "execute_result"
    }
   ],
   "source": [
    "m.delay_funcs"
   ]
  },
  {
   "cell_type": "markdown",
   "metadata": {},
   "source": [
    "##### The phase functions include the spindown model and an absolute phase definition (if the TZR parameters are specified)."
   ]
  },
  {
   "cell_type": "code",
   "execution_count": 33,
   "metadata": {},
   "outputs": [
    {
     "data": {
      "text/plain": [
       "[<bound method Spindown.spindown_phase of Spindown(\n",
       "     floatParameter( F0              61.485476554      (Hz) +/- 0.0 Hz frozen=False),\n",
       "     floatParameter( F1              -1.181e-15        (Hz / s) +/- 0.0 Hz / s frozen=False),\n",
       "     MJDParameter(   PEPOCH          53750.0000000000000000 (d) frozen=True))>]"
      ]
     },
     "execution_count": 33,
     "metadata": {},
     "output_type": "execute_result"
    }
   ],
   "source": [
    "m.phase_funcs"
   ]
  },
  {
   "cell_type": "markdown",
   "metadata": {},
   "source": [
    "##### You can easily show/compute individual terms…"
   ]
  },
  {
   "cell_type": "code",
   "execution_count": 34,
   "metadata": {},
   "outputs": [
    {
     "name": "stdout",
     "output_type": "stream",
     "text": [
      "[-4.11774615e-06 -4.58215733e-06 -5.09435414e-06  1.26025166e-05\n",
      "  1.26025164e-05  1.26025162e-05  1.26025160e-05  1.26025163e-05\n",
      "  1.34033282e-05  1.35163226e-05  1.43416919e-05  1.53159181e-05\n",
      "  1.63198995e-05  1.64587639e-05  1.80783671e-05  2.11530227e-05\n",
      "  2.12647452e-05  2.49851393e-05  2.51080759e-05  3.45107578e-05\n",
      "  3.47450145e-05  3.00319035e-05  2.98083009e-05  2.11804876e-06\n",
      "  2.07541049e-06 -3.00762925e-06 -3.03173087e-06 -4.09655364e-06\n",
      " -5.80849733e-06 -5.81983363e-06 -6.90339229e-06 -6.90646307e-06\n",
      " -6.82672804e-06 -6.82292820e-06 -5.19141699e-06 -5.17650522e-06\n",
      " -2.63564143e-06 -2.60880558e-06  2.28385789e-06  2.32788086e-06\n",
      "  1.51692739e-05  1.52882687e-05  5.13321681e-05  4.61456319e-05\n",
      "  3.99876478e-05  3.82020218e-05  6.59654821e-06  6.09155453e-06\n",
      "  5.78124973e-06  5.45386907e-06  5.22873336e-06  3.47897242e-06\n",
      " -1.52400083e-06 -1.56079046e-06  3.82020202e-05  3.82020207e-05\n",
      "  3.82020212e-05  3.82020216e-05  3.82020219e-05  3.82020222e-05\n",
      "  3.82020225e-05  3.82020228e-05] s\n"
     ]
    }
   ],
   "source": [
    "ds = m.solar_system_shapiro_delay(t)\n",
    "print(ds)"
   ]
  },
  {
   "cell_type": "markdown",
   "metadata": {},
   "source": [
    "##### The get_mjds() method can return the TOA times as either astropy Time objects (for high precision), or as double precisions Quantities (for easy plotting)"
   ]
  },
  {
   "cell_type": "code",
   "execution_count": 35,
   "metadata": {},
   "outputs": [
    {
     "data": {
      "text/plain": [
       "Text(0, 0.5, 'Delay ($\\\\mu$s)')"
      ]
     },
     "execution_count": 35,
     "metadata": {},
     "output_type": "execute_result"
    },
    {
     "data": {
      "image/png": "[encoded data removed]",
      "text/plain": [
       "<Figure size 432x288 with 1 Axes>"
      ]
     },
     "metadata": {
      "needs_background": "light"
     },
     "output_type": "display_data"
    }
   ],
   "source": [
    "plt.plot(t.get_mjds(high_precision=False), ds * 1e6, \"x\")\n",
    "plt.xlabel(\"MJD\")\n",
    "plt.ylabel(\"Delay ($\\mu$s)\")"
   ]
  },
  {
   "cell_type": "markdown",
   "metadata": {},
   "source": [
    "##### or all of the terms added together:"
   ]
  },
  {
   "cell_type": "code",
   "execution_count": 36,
   "metadata": {},
   "outputs": [
    {
     "data": {
      "text/latex": [
       "$[-256.2778,~-292.17727,~-333.75097,~357.15223,~357.10424,~357.06652,~357.03634,~357.0843,~367.69389,~369.13839,~379.08021,~389.80455,~399.79843,~401.11641,~415.02787,~435.89827,~436.54658,~454.24106,~454.72545,~478.04208,~478.38386,~468.46408,~467.91561,~94.368517,~92.629072,~-175.81784,~-177.46527,~-253.5291,~-394.21626,~-395.23691,~-497.24,~-497.54026,~-488.57106,~-488.17776,~-337.19429,~-335.91546,~-146.57384,~-144.80599,~105.78806,~107.54229,~389.2459,~390.51827,~490.40921,~488.47335,~484.41365,~482.68742,~240.08988,~226.85717,~218.50192,~209.24146,~202.5674,~146.32215,~-81.978888,~-84.146104,~482.7694,~482.7422,~482.71827,~482.6971,~482.67828,~482.66147,~482.64641,~482.63285] \\; \\mathrm{s}$"
      ],
      "text/plain": [
       "<Quantity [-256.27780385, -292.17727414, -333.75096918,  357.15222974,\n",
       "            357.10424491,  357.06652485,  357.03633769,  357.08429712,\n",
       "            367.69388946,  369.13838938,  379.080215  ,  389.80455011,\n",
       "            399.7984286 ,  401.11641315,  415.02787367,  435.89826732,\n",
       "            436.54658382,  454.24106089,  454.72545487,  478.04207904,\n",
       "            478.38385956,  468.46407861,  467.91561351,   94.36851725,\n",
       "             92.62907224, -175.81784133, -177.46527042, -253.52910299,\n",
       "           -394.21626285, -395.23691322, -497.24000468, -497.54026381,\n",
       "           -488.57105536, -488.1777565 , -337.19429477, -335.91546229,\n",
       "           -146.57383909, -144.8059907 ,  105.78805673,  107.5422893 ,\n",
       "            389.24590076,  390.51827027,  490.40921287,  488.47335247,\n",
       "            484.41365305,  482.68741688,  240.08987512,  226.85717062,\n",
       "            218.50192024,  209.24145601,  202.56740375,  146.32214659,\n",
       "            -81.97888773,  -84.14610449,  482.769396  ,  482.74220183,\n",
       "            482.7182698 ,  482.69709825,  482.67827842,  482.66147446,\n",
       "            482.64640844,  482.63284869] s>"
      ]
     },
     "execution_count": 36,
     "metadata": {},
     "output_type": "execute_result"
    }
   ],
   "source": [
    "m.delay(t)"
   ]
  },
  {
   "cell_type": "code",
   "execution_count": 37,
   "metadata": {},
   "outputs": [
    {
     "data": {
      "text/plain": [
       "Phase(int=<Quantity [-1.44341954e+09, -1.41690430e+09, -1.38400938e+09,\n",
       "           -3.72542787e+08, -3.72542787e+08, -3.72542787e+08,\n",
       "           -3.72542787e+08, -3.72542787e+08, -3.62847847e+08,\n",
       "           -3.61499695e+08, -3.52032417e+08, -3.41404820e+08,\n",
       "           -3.31051996e+08, -3.29649995e+08, -3.14244015e+08,\n",
       "           -2.88506714e+08, -2.87639064e+08, -2.61817243e+08,\n",
       "           -2.61038143e+08, -2.14444888e+08, -2.13530679e+08,\n",
       "           -5.01336260e+07, -4.90332780e+07,  2.72978647e+08,\n",
       "            2.74069813e+08,  4.42521539e+08,  4.43608798e+08,\n",
       "            4.95831818e+08,  6.11929492e+08,  6.12945188e+08,\n",
       "            7.70924046e+08,  7.72043031e+08,  9.03412910e+08,\n",
       "            9.04406151e+08,  1.08890761e+09,  1.08998276e+09,\n",
       "            1.22664968e+09,  1.22780114e+09,  1.38557098e+09,\n",
       "            1.38668825e+09,  1.59742747e+09,  1.59871034e+09,\n",
       "            1.82559636e+09,  1.83620365e+09,  1.85220237e+09,\n",
       "            1.85775342e+09,  2.11794965e+09,  2.12718658e+09,\n",
       "            2.13303965e+09,  2.13936523e+09,  2.14378093e+09,\n",
       "            2.18083416e+09,  2.32326538e+09,  2.32462409e+09,\n",
       "            1.85775342e+09,  1.85775342e+09,  1.85775342e+09,\n",
       "            1.85775342e+09,  1.85775342e+09,  1.85775342e+09,\n",
       "            1.85775342e+09,  1.85775342e+09] cycle>, frac=<Quantity [-0.22478576, -0.22970365, -0.23883652, -0.39037199, -0.39084178,\n",
       "           -0.39716636, -0.39729863, -0.39418435, -0.39112197, -0.3879489 ,\n",
       "           -0.38841759, -0.385927  , -0.38286328, -0.38182453, -0.37653266,\n",
       "           -0.36871357, -0.36855991, -0.35883739, -0.36079921, -0.34766463,\n",
       "           -0.3449141 , -0.28835069, -0.28921715, -0.22240401, -0.22022305,\n",
       "           -0.22676691, -0.23104679, -0.23782384, -0.26456677, -0.26253628,\n",
       "           -0.31470699, -0.31630257, -0.36056909, -0.35972892, -0.41148776,\n",
       "           -0.41278569, -0.43357588, -0.43471128, -0.43756479, -0.43435204,\n",
       "           -0.39588699, -0.39830889, -0.32155116, -0.31880484, -0.31389745,\n",
       "           -0.31265741, -0.24350041, -0.24137559, -0.2340997 , -0.22140659,\n",
       "           -0.23728953, -0.23845813, -0.2358397 , -0.23390151, -0.30591427,\n",
       "           -0.30925629, -0.31260421, -0.31147637, -0.31397932, -0.30843146,\n",
       "           -0.31886922, -0.31299806] cycle>)"
      ]
     },
     "execution_count": 37,
     "metadata": {},
     "output_type": "execute_result"
    }
   ],
   "source": [
    "m.phase(t)"
   ]
  },
  {
   "cell_type": "markdown",
   "metadata": {},
   "source": [
    "#### Residuals"
   ]
  },
  {
   "cell_type": "code",
   "execution_count": 39,
   "metadata": {},
   "outputs": [],
   "source": [
    "rs = r.Residuals(t, m)"
   ]
  },
  {
   "cell_type": "code",
   "execution_count": 40,
   "metadata": {},
   "outputs": [
    {
     "data": {
      "image/png": "[encoded data removed]",
      "text/plain": [
       "<Figure size 432x288 with 1 Axes>"
      ]
     },
     "metadata": {
      "needs_background": "light"
     },
     "output_type": "display_data"
    }
   ],
   "source": [
    "# Note that the Residuals object contains a toas member that has the TOAs used to compute\n",
    "# the residuals, so you can use that to get the MJDs and uncertainties for each TOA\n",
    "# Also note that plotting astropy Quantities must be enabled using\n",
    "# astropy quanity_support() first (see beginning of this notebook)\n",
    "plt.errorbar(\n",
    "    rs.toas.get_mjds(),\n",
    "    rs.time_resids.to(u.us),\n",
    "    yerr=rs.toas.get_errors().to(u.us),\n",
    "    fmt=\".\",\n",
    ")\n",
    "plt.title(\"%s Pre-Fit Timing Residuals\" % m.PSR.value)\n",
    "plt.xlabel(\"MJD\")\n",
    "plt.ylabel(\"Residual (phase)\")\n",
    "plt.grid()"
   ]
  },
  {
   "cell_type": "markdown",
   "metadata": {},
   "source": [
    "#### Fitting and Post-Fit residuals"
   ]
  },
  {
   "cell_type": "markdown",
   "metadata": {},
   "source": [
    "##### The fitter is completely separate from the model and the TOA code. So you can use any type of fitter with some easy coding to create a new subclass of Fitter. This example uses PINT’s Weighted Least Squares fitter. The return value for this fitter is the chi^2 after the fit."
   ]
  },
  {
   "cell_type": "code",
   "execution_count": 42,
   "metadata": {},
   "outputs": [
    {
     "data": {
      "text/latex": [
       "$59.574336 \\; \\mathrm{}$"
      ],
      "text/plain": [
       "<Quantity 59.57433584>"
      ]
     },
     "execution_count": 42,
     "metadata": {},
     "output_type": "execute_result"
    }
   ],
   "source": [
    "f = fit.WLSFitter(t, m)\n",
    "f.fit_toas()"
   ]
  },
  {
   "cell_type": "code",
   "execution_count": 43,
   "metadata": {},
   "outputs": [
    {
     "name": "stdout",
     "output_type": "stream",
     "text": [
      "Best fit has reduced chi^2 of 1.045 (57 dof)\n",
      "RMS in phase is 0.0020495750577082883 cycle\n",
      "RMS in time is 33.33429571609191 us\n",
      "\n",
      " Best model is:\n",
      "PSR                            1748-2021E\n",
      "EPHEM                               DE421\n",
      "RAJ                     17:48:52.80034692 1 0.00000003756850254201\n",
      "DECJ                   -20:21:29.38330644 1 0.00000912542586891742\n",
      "PMRA                                  0.0\n",
      "PMDEC                                 0.0\n",
      "PX                                    0.0\n",
      "POSEPOCH           53750.0000000000000000\n",
      "F0                  61.485476554372500174 1 1.808608439278160892e-11\n",
      "F1              -1.1813316404489501177e-15 1 1.4418540386148105756e-18\n",
      "PEPOCH             53750.0000000000000000\n",
      "PLANET_SHAPIRO                          N\n",
      "DM                  224.11379728458493038 1 0.034938980494131084698\n",
      "DM1                                   0.0\n",
      "NE_SW                                 0.0\n",
      "SWM                                   0.0\n",
      "TZRMJD             53801.3860511822300000\n",
      "TZRSITE                                 1\n",
      "TZRFRQ                           1949.609\n",
      "\n"
     ]
    }
   ],
   "source": [
    "print(\n",
    "    \"Best fit has reduced chi^2 of {:.3f} ({} dof)\".format(\n",
    "        f.resids.chi2_reduced, f.resids.dof\n",
    "    )\n",
    ")\n",
    "# Notice that the residuals have units, since they are astropy Quantities\n",
    "print(\"RMS in phase is\", f.resids.phase_resids.std())\n",
    "print(\"RMS in time is\", f.resids.time_resids.std().to(u.us))\n",
    "print(\"\\n Best model is:\")\n",
    "print(f.model.as_parfile())"
   ]
  },
  {
   "cell_type": "code",
   "execution_count": 44,
   "metadata": {},
   "outputs": [
    {
     "data": {
      "image/png": "[encoded data removed]",
      "text/plain": [
       "<Figure size 432x288 with 1 Axes>"
      ]
     },
     "metadata": {
      "needs_background": "light"
     },
     "output_type": "display_data"
    }
   ],
   "source": [
    "plt.errorbar(\n",
    "    t.get_mjds(), f.resids.time_resids.to(u.us), t.get_errors().to(u.us), fmt=\"x\"\n",
    ")\n",
    "plt.title(\"%s Post-Fit Timing Residuals\" % m.PSR.value)\n",
    "plt.xlabel(\"MJD\")\n",
    "plt.ylabel(\"Residual (us)\")\n",
    "plt.grid()"
   ]
  },
  {
   "cell_type": "markdown",
   "metadata": {},
   "source": [
    "#### Other interesting things"
   ]
  },
  {
   "cell_type": "markdown",
   "metadata": {},
   "source": [
    "##### We can make Barycentered TOAs in a single line, if you have a model and a TOAs object! These are TDB times with the Solar System delays applied (precisely which of the delay components are applied is changeable – the default applies all delays before the ones associated with the binary system)"
   ]
  },
  {
   "cell_type": "code",
   "execution_count": 45,
   "metadata": {},
   "outputs": [
    {
     "data": {
      "text/latex": [
       "$[53478.29,~53483.281,~53489.473,~53679.872,~53679.872,~53679.872,~53679.872,~53679.872,~53681.697,~53681.951,~53683.733,~53685.734,~53687.683,~53687.946,~53690.846,~53695.691,~53695.855,~53700.715,~53700.862,~53709.633,~53709.805,~53740.563,~53740.77,~53801.386,~53801.591,~53833.301,~53833.505,~53843.336,~53865.19,~53865.381,~53895.119,~53895.33,~53920.059,~53920.246,~53954.977,~53955.179,~53980.905,~53981.122,~54010.821,~54011.031,~54050.701,~54050.942,~54093.652,~54095.648,~54098.66,~54099.705,~54148.684,~54150.423,~54151.525,~54152.716,~54153.547,~54160.522,~54187.333,~54187.589,~54099.705,~54099.705,~54099.705,~54099.705,~54099.705,~54099.705,~54099.705,~54099.705] \\; \\mathrm{d}$"
      ],
      "text/plain": [
       "<Quantity [53478.28958049, 53483.28082976, 53489.47299553, 53679.87225507,\n",
       "           53679.87225507, 53679.87225507, 53679.87225507, 53679.87225507,\n",
       "           53681.69723814, 53681.95101532, 53683.73314312, 53685.73369027,\n",
       "           53687.68251394, 53687.9464277 , 53690.84646139, 53695.69127101,\n",
       "           53695.85459813, 53700.71531786, 53700.86197625, 53709.63272692,\n",
       "           53709.80481834, 53740.56280708, 53740.76993744, 53801.38571343,\n",
       "           53801.59111537, 53833.3005997 , 53833.50526618, 53843.3357682 ,\n",
       "           53865.19008493, 53865.38128034, 53895.11934381, 53895.32998242,\n",
       "           53920.05915093, 53920.24611939, 53954.97681797, 53955.1792041 ,\n",
       "           53980.90549269, 53981.12224385, 54010.82096314, 54011.0312776 ,\n",
       "           54050.70099242, 54050.94248163, 54093.65168364, 54095.64840818,\n",
       "           54098.6600184 , 54099.70495257, 54148.68449507, 54150.42326217,\n",
       "           54151.5250477 , 54152.71578   , 54153.54699406, 54160.5219243 ,\n",
       "           54187.33328679, 54187.58905255, 54099.70495258, 54099.70495258,\n",
       "           54099.70495257, 54099.70495257, 54099.70495257, 54099.70495258,\n",
       "           54099.70495257, 54099.70495257] d>"
      ]
     },
     "execution_count": 45,
     "metadata": {},
     "output_type": "execute_result"
    }
   ],
   "source": [
    "m.get_barycentric_toas(t)"
   ]
  },
  {
   "cell_type": "code",
   "execution_count": null,
   "metadata": {},
   "outputs": [],
   "source": []
  }
 ],
 "metadata": {
  "kernelspec": {
   "display_name": "Python 3",
   "language": "python",
   "name": "python3"
  },
  "language_info": {
   "codemirror_mode": {
    "name": "ipython",
    "version": 3
   },
   "file_extension": ".py",
   "mimetype": "text/x-python",
   "name": "python",
   "nbconvert_exporter": "python",
   "pygments_lexer": "ipython3",
   "version": "3.7.4"
  }
 },
 "nbformat": 4,
 "nbformat_minor": 4
}
