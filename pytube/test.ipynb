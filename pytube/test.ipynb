{
 "cells": [
  {
   "cell_type": "markdown",
   "metadata": {},
   "source": [
    "## Download a video from YouTube"
   ]
  },
  {
   "cell_type": "code",
   "execution_count": 6,
   "metadata": {},
   "outputs": [
    {
     "data": {
      "text/plain": [
       "'E:\\\\YandexDisk\\\\3.Programing\\\\balovstvo&checking\\\\test_modules\\\\pytube\\\\pulsar workshop/New Results in Tests of Gravity with Radio Pulsars - Michael Kramer.mp4'"
      ]
     },
     "execution_count": 6,
     "metadata": {},
     "output_type": "execute_result"
    }
   ],
   "source": [
    "from pytube import YouTube\n",
    "link = 'https://www.youtube.com/watch?v=fqEKfRAkDZg'\n",
    "yt = YouTube(link)\n",
    "stream = yt.streams.get_highest_resolution()\n",
    "stream.download('pulsar workshop/')"
   ]
  },
  {
   "cell_type": "markdown",
   "metadata": {},
   "source": [
    "## Download a playlist from YouTube"
   ]
  },
  {
   "cell_type": "code",
   "execution_count": 1,
   "metadata": {},
   "outputs": [],
   "source": [
    "from pytube import YouTube\n",
    "from pytube import Playlist\n",
    "\n",
    "# Be carefull. Sometime the server drops a connection.\n",
    "\n",
    "link = 'https://www.youtube.com/watch?v=Zm5ajvpDIss&list=PLvOZjFKbGObix_zJqU0NKw7owdkG_whTR'\n",
    "playlist = Playlist(link)\n",
    "for idx, url in enumerate(playlist.video_urls):\n",
    "    yt = YouTube(url)\n",
    "    stream = yt.streams.get_highest_resolution()\n",
    "    stream.download('pulsar workshop/')"
   ]
  },
  {
   "cell_type": "code",
   "execution_count": null,
   "metadata": {},
   "outputs": [],
   "source": []
  }
 ],
 "metadata": {
  "kernelspec": {
   "display_name": "Python 3",
   "language": "python",
   "name": "python3"
  },
  "language_info": {
   "codemirror_mode": {
    "name": "ipython",
    "version": 3
   },
   "file_extension": ".py",
   "mimetype": "text/x-python",
   "name": "python",
   "nbconvert_exporter": "python",
   "pygments_lexer": "ipython3",
   "version": "3.7.7"
  }
 },
 "nbformat": 4,
 "nbformat_minor": 4
}
