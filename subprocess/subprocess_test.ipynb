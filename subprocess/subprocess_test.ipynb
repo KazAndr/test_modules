{
 "cells": [
  {
   "cell_type": "code",
   "execution_count": 1,
   "metadata": {},
   "outputs": [
    {
     "name": "stdout",
     "output_type": "stream",
     "text": [
      "Once deleted, variables cannot be recovered. Proceed (y/[n])? y\n"
     ]
    }
   ],
   "source": [
    "reset"
   ]
  },
  {
   "cell_type": "code",
   "execution_count": 2,
   "metadata": {
    "collapsed": true
   },
   "outputs": [],
   "source": [
    "import os"
   ]
  },
  {
   "cell_type": "code",
   "execution_count": 3,
   "metadata": {},
   "outputs": [
    {
     "data": {
      "text/plain": [
       "32512"
      ]
     },
     "execution_count": 3,
     "metadata": {},
     "output_type": "execute_result"
    }
   ],
   "source": [
    "os.system(r'/home/andrey/ls -l')"
   ]
  },
  {
   "cell_type": "code",
   "execution_count": 4,
   "metadata": {
    "collapsed": true
   },
   "outputs": [],
   "source": [
    "import subprocess\n",
    "import shlex\n",
    "\n",
    "cmd = 'ls -al'\n",
    "args = shlex.split(cmd)\n",
    "p = subprocess.Popen(args, stdout=subprocess.PIPE, stderr=subprocess.STDOUT)\n",
    "result = p.communicate()[0]\n"
   ]
  },
  {
   "cell_type": "code",
   "execution_count": 8,
   "metadata": {},
   "outputs": [
    {
     "data": {
      "text/plain": [
       "bytes"
      ]
     },
     "execution_count": 8,
     "metadata": {},
     "output_type": "execute_result"
    }
   ],
   "source": [
    "type(result)"
   ]
  },
  {
   "cell_type": "code",
   "execution_count": 12,
   "metadata": {},
   "outputs": [],
   "source": [
    "result = result.decode('utf-8')"
   ]
  },
  {
   "cell_type": "code",
   "execution_count": 17,
   "metadata": {},
   "outputs": [
    {
     "data": {
      "text/plain": [
       "['total 2392',\n",
       " 'drwxrwxr-x  6 andrey andrey   4096 мая   24 20:37 .',\n",
       " 'drwxrwxr-x  8 andrey andrey   4096 марта 10 08:54 ..',\n",
       " '-rw-rw-r--  1 andrey andrey   3048 мая   19 13:20 1.txt',\n",
       " '-rw-rw-r--  1 andrey andrey    513 мая   19 12:36 answer_1.txt',\n",
       " '-rw-rw-r--  1 andrey andrey      3 мая   19 13:35 answer_2.txt',\n",
       " '-rw-rw-r--  1 andrey andrey   2067 мая   19 15:58 answer_3.txt',\n",
       " '-rw-rw-r--  1 andrey andrey    118 мая   20 15:43 answer_4.txt',\n",
       " '-rw-rw-r--  1 andrey andrey    775 марта 18 01:26 astropy.ipynb',\n",
       " '-rw-rw-r--  1 andrey andrey   8275 марта 14 18:04 correct_window.ipynb',\n",
       " 'drwxrwxr-x  3 andrey andrey   4096 мая   23 21:38 C++Python',\n",
       " 'drwx------ 10 andrey andrey   4096 февр. 23 12:55 data for cross_corr',\n",
       " '-rw-rw-r--  1 andrey andrey    122 мая   19 12:36 dataset_3363_2.txt',\n",
       " '-rw-rw-r--  1 andrey andrey   1257 мая   19 13:34 dataset_3363_3.txt',\n",
       " '-rw-rw-r--  1 andrey andrey   2600 мая   19 15:58 dataset_3363_4.txt',\n",
       " '-rw-rw-r--  1 andrey andrey    464 мая   20 15:42 dataset_3380_5.txt',\n",
       " '-rw-rw-r--  1 andrey andrey      5 мая   19 13:27 datazet.txt',\n",
       " 'drwxrwxr-x  2 andrey andrey   4096 марта 14 18:02 folder_for_files',\n",
       " '-rw-rw-r--  1 andrey andrey   2901 февр.  6 01:29 int in numpy.int.ipynb',\n",
       " 'drwxrwxr-x  2 andrey andrey   4096 мая   24 20:35 .ipynb_checkpoints',\n",
       " '-rw-rw-r--  1 andrey andrey 947797 марта  8 02:53 Matplotlib_examples.ipynb',\n",
       " '-rw-rw-r--  1 andrey andrey  15330 марта 22 18:17 Moon_coordinate.ipynb',\n",
       " '-rw-rw-r--  1 andrey andrey 703269 апр.  27 22:32 np.array.ipynb',\n",
       " '-rw-rw-r--  1 andrey andrey 285398 марта 14 18:05 np.correlation.ipynb',\n",
       " '-rw-rw-r--  1 andrey andrey   5093 марта 14 15:27 numpointwin_chek.ipynb',\n",
       " '-rw-rw-r--  1 andrey andrey   5187 мая   18 19:26 Pygame_test.ipynb',\n",
       " '-rw-rw-r--  1 andrey andrey 134030 мая   17 21:42 Python from SOLOLEARN.ipynb',\n",
       " '-rw-rw-r--  1 andrey andrey    581 марта  6 23:52 read_numpy.ndarray.ipynb',\n",
       " \"-rw-rw-r--  1 andrey andrey  10141 мая   17 23:38 Sergey_lebedev's_lectures.ipynb\",\n",
       " '-rw-rw-r--  1 andrey andrey   9526 мая   17 20:08 several_funcs.ipynb',\n",
       " '-rw-rw-r--  1 andrey andrey   3552 мая   11 18:02 sort_by_date_in_list.ipynb',\n",
       " '-rw-rw-r--  1 andrey andrey  37666 мая   22 12:04 Stepic (2).ipynb',\n",
       " '-rw-rw-r--  1 andrey andrey  36980 мая   22 11:55 Stepic (4).ipynb',\n",
       " '-rw-rw-r--  1 andrey andrey  57941 мая   20 17:27 Stepic.ipynb',\n",
       " '-rw-rw-r--  1 andrey andrey  44928 марта  1 11:58 stix_fonts_example.png',\n",
       " '-rw-rw-r--  1 andrey andrey   3558 мая   20 23:14 tkinter_test (2).ipynb',\n",
       " '-rw-rw-r--  1 andrey andrey  18525 мая   24 11:57 tkinter_test.ipynb',\n",
       " '-rw-rw-r--  1 andrey andrey   1407 мая   24 20:37 Untitled.ipynb',\n",
       " '']"
      ]
     },
     "execution_count": 17,
     "metadata": {},
     "output_type": "execute_result"
    }
   ],
   "source": [
    "result.split('\\n')"
   ]
  },
  {
   "cell_type": "code",
   "execution_count": null,
   "metadata": {
    "collapsed": true
   },
   "outputs": [],
   "source": []
  }
 ],
 "metadata": {
  "kernelspec": {
   "display_name": "Python 3",
   "language": "python",
   "name": "python3"
  },
  "language_info": {
   "codemirror_mode": {
    "name": "ipython",
    "version": 3
   },
   "file_extension": ".py",
   "mimetype": "text/x-python",
   "name": "python",
   "nbconvert_exporter": "python",
   "pygments_lexer": "ipython3",
   "version": "3.6.2"
  }
 },
 "nbformat": 4,
 "nbformat_minor": 1
}
