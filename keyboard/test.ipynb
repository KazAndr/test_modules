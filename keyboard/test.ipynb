{
 "cells": [
  {
   "cell_type": "code",
   "execution_count": 8,
   "metadata": {},
   "outputs": [],
   "source": [
    "import os\n",
    "import glob\n",
    "\n",
    "import time\n",
    "import keyboard"
   ]
  },
  {
   "cell_type": "markdown",
   "metadata": {},
   "source": [
    "## Проверяем код на PEP8"
   ]
  },
  {
   "cell_type": "code",
   "execution_count": 39,
   "metadata": {},
   "outputs": [],
   "source": [
    "PATH = r'D:\\YandexDisk\\2.Преподавание\\Траектория\\Программирование\\off-time_school_2022.01\\solutions_mini_projects\\Участник_3167\\Участник_3167'\n",
    "py_files = glob.glob(f'{PATH}{os.sep}*.py')"
   ]
  },
  {
   "cell_type": "code",
   "execution_count": 40,
   "metadata": {},
   "outputs": [
    {
     "data": {
      "text/plain": [
       "['D:\\\\YandexDisk\\\\2.Преподавание\\\\Траектория\\\\Программирование\\\\off-time_school_2022.01\\\\solutions_mini_projects\\\\Участник_3167\\\\Участник_3167\\\\Info.py',\n",
       " 'D:\\\\YandexDisk\\\\2.Преподавание\\\\Траектория\\\\Программирование\\\\off-time_school_2022.01\\\\solutions_mini_projects\\\\Участник_3167\\\\Участник_3167\\\\inputt.py',\n",
       " 'D:\\\\YandexDisk\\\\2.Преподавание\\\\Траектория\\\\Программирование\\\\off-time_school_2022.01\\\\solutions_mini_projects\\\\Участник_3167\\\\Участник_3167\\\\run.py']"
      ]
     },
     "execution_count": 40,
     "metadata": {},
     "output_type": "execute_result"
    }
   ],
   "source": [
    "py_files"
   ]
  },
  {
   "cell_type": "code",
   "execution_count": 44,
   "metadata": {},
   "outputs": [],
   "source": [
    "# Запускаем проверку\n",
    "time.sleep(5)\n",
    "pep_test(py_files)"
   ]
  },
  {
   "cell_type": "code",
   "execution_count": 42,
   "metadata": {},
   "outputs": [],
   "source": [
    "def pep_test(files):\n",
    "    for file in files:\n",
    "        keyboard.write(f\"python -m pycodestyle {os.path.basename(file)}\\n\")\n",
    "        \n",
    "def run_code():\n",
    "    keyboard.write(\"python run.py\\n\")\n",
    "\n",
    "def comon_report():\n",
    "    keyboard.write(\"1\\n\")\n",
    "    keyboard.write(\"1\\n\")\n",
    "    \n",
    "def add_():\n",
    "    pass\n",
    "    \n",
    "def exit_program():\n",
    "    keyboard.write(\"5\\n\")"
   ]
  },
  {
   "cell_type": "code",
   "execution_count": 45,
   "metadata": {},
   "outputs": [
    {
     "name": "stdout",
     "output_type": "stream",
     "text": [
      "\n",
      " Работа с программой \n",
      "\n"
     ]
    }
   ],
   "source": [
    "# Запуск кода \n",
    "time.sleep(5)\n",
    "run_code()\n",
    "comon_report()\n",
    "############################################################\n",
    "\n",
    "# Введение пункта, отсутствующего в списке\n",
    "\n",
    "######## Просмотр данных ####################################\n",
    "\n",
    "# Просмотр общего состояния станции\n",
    "\n",
    "# Просмотр параметров станции в отдельности\n",
    "\n",
    "# Просмотр краткой сводки по бортовому журналу\n",
    "\n",
    "# Просмотр краткой выделенной сводки по бортовому журналу\n",
    "\n",
    "# Просмотр подробной сводки по бортовому журналу\n",
    "\n",
    "# Просмотр подробной выделенной сводки по бортовому журналу\n",
    "\n",
    "######## Ввод неправильных данных при просмотре ############\n",
    "\n",
    "\n",
    "######## Добавление данных #################################\n",
    "\n",
    "# Добавление корректных данных в бортовой журнал\n",
    "\n",
    "# Добавление большого количества корректных данных в бортовой журнал\n",
    "\n",
    "# Добавление НЕКОРРЕКТНЫХ данных в бортовой журнал\n",
    "\n",
    "# Добавление данных не в хронологическом порядке\n",
    "\n",
    "# Добавление данных не в хронологическом порядке (ВВОД НЕПРАВИЛЬНОЙ ДАТЫ)\n",
    "\n",
    "######## Редактирование данных ##############################\n",
    "\n",
    "# Отредактировать массу корректно\n",
    "\n",
    "# Отредактировать массу НЕКОРРЕКТНО\n",
    "\n",
    "# Отредактировать скорость корректно\n",
    "\n",
    "# Отредактировать скорость НЕКОРРЕКТНО\n",
    "\n",
    "# Отредактировать количество экипажа корректно\n",
    "\n",
    "# Отредактировать количество экипажа НЕКОРРЕКТНО\n",
    "\n",
    "# Отредактировать высоту корректно\n",
    "\n",
    "# Отредактировать высоту НЕКОРРЕКТНО\n",
    "\n",
    "# Попытка отредактировать дату\n",
    "\n",
    "# \n",
    "\n",
    "#\n",
    "\n",
    "#\n",
    "\n",
    "#\n",
    "\n",
    "#\n",
    "\n",
    "exit_program()"
   ]
  },
  {
   "cell_type": "code",
   "execution_count": null,
   "metadata": {},
   "outputs": [],
   "source": []
  }
 ],
 "metadata": {
  "kernelspec": {
   "display_name": "Python 3",
   "language": "python",
   "name": "python3"
  },
  "language_info": {
   "codemirror_mode": {
    "name": "ipython",
    "version": 3
   },
   "file_extension": ".py",
   "mimetype": "text/x-python",
   "name": "python",
   "nbconvert_exporter": "python",
   "pygments_lexer": "ipython3",
   "version": "3.7.8"
  }
 },
 "nbformat": 4,
 "nbformat_minor": 4
}
