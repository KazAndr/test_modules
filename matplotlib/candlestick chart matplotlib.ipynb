{
 "cells": [
  {
   "cell_type": "code",
   "execution_count": 48,
   "metadata": {},
   "outputs": [],
   "source": [
    "import matplotlib as plt\n",
    "from matplotlib.finance import candlestick2_ochl, candlestick_ochl\n",
    "import datetime\n",
    "#matplotlib.finance.candlestick2_ochl(ax, opens, closes, highs, lows, width=4, colorup='k', colordown='r', alpha=0.75)"
   ]
  },
  {
   "cell_type": "code",
   "execution_count": 49,
   "metadata": {},
   "outputs": [
    {
     "ename": "AttributeError",
     "evalue": "module 'matplotlib' has no attribute 'gca'",
     "output_type": "error",
     "traceback": [
      "\u001b[1;31m---------------------------------------------------------------------------\u001b[0m",
      "\u001b[1;31mAttributeError\u001b[0m                            Traceback (most recent call last)",
      "\u001b[1;32m<ipython-input-49-2c51b16d9a85>\u001b[0m in \u001b[0;36m<module>\u001b[1;34m()\u001b[0m\n\u001b[1;32m----> 1\u001b[1;33m \u001b[0max\u001b[0m \u001b[1;33m=\u001b[0m \u001b[0mplt\u001b[0m\u001b[1;33m.\u001b[0m\u001b[0mgca\u001b[0m\u001b[1;33m(\u001b[0m\u001b[1;33m)\u001b[0m\u001b[1;33m\u001b[0m\u001b[0m\n\u001b[0m",
      "\u001b[1;31mAttributeError\u001b[0m: module 'matplotlib' has no attribute 'gca'"
     ]
    }
   ],
   "source": [
    "ax = plt.gca()"
   ]
  },
  {
   "cell_type": "code",
   "execution_count": 50,
   "metadata": {},
   "outputs": [],
   "source": [
    "point = (1, 2, 3, 4, 5, 6, 7, 8, 9, 10)\n",
    "opens = (43.64, 43.72, 43.60, 43.50, 43.48, 43.45, 43.48, 43.38, 43.36, 43.36)\n",
    "closes = (43.70, 43.60, 43.50, 43.49, 43.40, 43.47, 43.38, 43.36, 43.53, 43.53)\n",
    "highs = (43.80, 43.72, 43.66, 43.58, 43.48, 43.48, 43.48, 43.40, 43.53, 43.53)\n",
    "lows = (43.59, 43.59, 43.46, 43.42, 43.39, 43.36, 43.29, 43.34, 43.38, 43.38)"
   ]
  },
  {
   "cell_type": "code",
   "execution_count": 51,
   "metadata": {},
   "outputs": [],
   "source": [
    "quot = list(zip(point, opens, closes, highs, lows))"
   ]
  },
  {
   "cell_type": "code",
   "execution_count": 56,
   "metadata": {},
   "outputs": [
    {
     "data": {
      "text/plain": [
       "[(1, 43.64, 43.7, 43.8, 43.59),\n",
       " (2, 43.72, 43.6, 43.72, 43.59),\n",
       " (3, 43.6, 43.5, 43.66, 43.46),\n",
       " (4, 43.5, 43.49, 43.58, 43.42),\n",
       " (5, 43.48, 43.4, 43.48, 43.39),\n",
       " (6, 43.45, 43.47, 43.48, 43.36),\n",
       " (7, 43.48, 43.38, 43.48, 43.29),\n",
       " (8, 43.38, 43.36, 43.4, 43.34),\n",
       " (9, 43.36, 43.53, 43.53, 43.38),\n",
       " (10, 43.36, 43.53, 43.53, 43.38)]"
      ]
     },
     "execution_count": 56,
     "metadata": {},
     "output_type": "execute_result"
    }
   ],
   "source": [
    "quot"
   ]
  },
  {
   "cell_type": "code",
   "execution_count": 57,
   "metadata": {},
   "outputs": [],
   "source": [
    "candlestick_ochl(ax, quot)\n",
    "plt.show()"
   ]
  },
  {
   "cell_type": "code",
   "execution_count": 69,
   "metadata": {},
   "outputs": [
    {
     "data": {
      "image/png": "[encoded data removed]",
      "text/plain": [
       "<matplotlib.figure.Figure at 0xafea710>"
      ]
     },
     "metadata": {},
     "output_type": "display_data"
    }
   ],
   "source": [
    "import matplotlib.pyplot as plt\n",
    "import matplotlib.finance\n",
    "ax = plt.gca()\n",
    "#h = matplotlib.finance.candlestick_ochl(ax, quotes)\n",
    "t = matplotlib.finance.candlestick_ochl(ax, quot, width=0.3, colorup='y', colordown='g', alpha=1.0)\n",
    "plt.show()"
   ]
  },
  {
   "cell_type": "code",
   "execution_count": 70,
   "metadata": {},
   "outputs": [
    {
     "data": {
      "image/png": "[encoded data removed]",
      "text/plain": [
       "<matplotlib.figure.Figure at 0x9ddfa90>"
      ]
     },
     "metadata": {},
     "output_type": "display_data"
    }
   ],
   "source": [
    "import matplotlib.pyplot as plt\n",
    "import matplotlib.finance\n",
    "quotes = [(1, 5, 6, 7, 4), (2, 6, 9, 9, 6), (3, 9, 8, 10, 8), (4, 8, 8, 9, 6), (5, 8, 11, 13, 7)]\n",
    "ax = plt.gca()\n",
    "h = matplotlib.finance.candlestick_ochl(ax, quotes)\n",
    "plt.show()"
   ]
  },
  {
   "cell_type": "code",
   "execution_count": null,
   "metadata": {},
   "outputs": [],
   "source": []
  }
 ],
 "metadata": {
  "kernelspec": {
   "display_name": "Python 3",
   "language": "python",
   "name": "python3"
  },
  "language_info": {
   "codemirror_mode": {
    "name": "ipython",
    "version": 3
   },
   "file_extension": ".py",
   "mimetype": "text/x-python",
   "name": "python",
   "nbconvert_exporter": "python",
   "pygments_lexer": "ipython3",
   "version": "3.6.3"
  }
 },
 "nbformat": 4,
 "nbformat_minor": 2
}
