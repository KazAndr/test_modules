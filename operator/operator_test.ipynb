{
 "cells": [
  {
   "cell_type": "code",
   "execution_count": 1,
   "metadata": {
    "collapsed": false
   },
   "outputs": [
    {
     "name": "stdout",
     "output_type": "stream",
     "text": [
      "Once deleted, variables cannot be recovered. Proceed (y/[n])? y\n"
     ]
    }
   ],
   "source": [
    "reset"
   ]
  },
  {
   "cell_type": "code",
   "execution_count": 2,
   "metadata": {
    "collapsed": true
   },
   "outputs": [],
   "source": [
    "from operator import itemgetter, attrgetter, methodcaller\n",
    "import datetime\n",
    "\n"
   ]
  },
  {
   "cell_type": "code",
   "execution_count": 3,
   "metadata": {
    "collapsed": true
   },
   "outputs": [],
   "source": [
    "test_list = ['01.01.2012_1327+25.txt', '01.02.2012_1327+25.txt', \n",
    "             '01.03.2012_1327+25.txt', '02.01.2012_1327+25.txt', \n",
    "             '02.02.2012_1327+25.txt','02.02.2016_1327+25.txt',\n",
    "             '01.01.2017_1327+25.txt']"
   ]
  },
  {
   "cell_type": "code",
   "execution_count": 4,
   "metadata": {
    "collapsed": false
   },
   "outputs": [
    {
     "data": {
      "text/plain": [
       "['01.01.2012_1327+25.txt',\n",
       " '01.01.2017_1327+25.txt',\n",
       " '01.02.2012_1327+25.txt',\n",
       " '01.03.2012_1327+25.txt',\n",
       " '02.01.2012_1327+25.txt',\n",
       " '02.02.2012_1327+25.txt',\n",
       " '02.02.2016_1327+25.txt']"
      ]
     },
     "execution_count": 4,
     "metadata": {},
     "output_type": "execute_result"
    }
   ],
   "source": [
    "sorted(test_list)"
   ]
  },
  {
   "cell_type": "code",
   "execution_count": 5,
   "metadata": {
    "collapsed": false
   },
   "outputs": [
    {
     "data": {
      "text/plain": [
       "'01'"
      ]
     },
     "execution_count": 5,
     "metadata": {},
     "output_type": "execute_result"
    }
   ],
   "source": [
    "test_list[1][:2]"
   ]
  },
  {
   "cell_type": "code",
   "execution_count": 9,
   "metadata": {
    "collapsed": false
   },
   "outputs": [
    {
     "data": {
      "text/plain": [
       "'01.02.2012'"
      ]
     },
     "execution_count": 9,
     "metadata": {},
     "output_type": "execute_result"
    }
   ],
   "source": [
    "test_list[1][:10]"
   ]
  },
  {
   "cell_type": "code",
   "execution_count": 10,
   "metadata": {
    "collapsed": false
   },
   "outputs": [
    {
     "data": {
      "text/plain": [
       "['01.01.2012_1327+25.txt',\n",
       " '02.01.2012_1327+25.txt',\n",
       " '01.02.2012_1327+25.txt',\n",
       " '02.02.2012_1327+25.txt',\n",
       " '01.03.2012_1327+25.txt',\n",
       " '02.02.2016_1327+25.txt',\n",
       " '01.01.2017_1327+25.txt']"
      ]
     },
     "execution_count": 10,
     "metadata": {},
     "output_type": "execute_result"
    }
   ],
   "source": [
    "#sorted(test_list, key = itemgetter(test_list[1][:2],test_list[1][4:6]))\n",
    "sorted(test_list, key=lambda x: datetime.datetime.strptime(x[:10], '%d.%m.%Y'))"
   ]
  },
  {
   "cell_type": "code",
   "execution_count": null,
   "metadata": {
    "collapsed": true
   },
   "outputs": [],
   "source": []
  }
 ],
 "metadata": {
  "kernelspec": {
   "display_name": "Python 3",
   "language": "python",
   "name": "python3"
  },
  "language_info": {
   "codemirror_mode": {
    "name": "ipython",
    "version": 3
   },
   "file_extension": ".py",
   "mimetype": "text/x-python",
   "name": "python",
   "nbconvert_exporter": "python",
   "pygments_lexer": "ipython3",
   "version": "3.5.2"
  }
 },
 "nbformat": 4,
 "nbformat_minor": 0
}
