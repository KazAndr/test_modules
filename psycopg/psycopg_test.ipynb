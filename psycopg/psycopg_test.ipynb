{
 "cells": [
  {
   "cell_type": "code",
   "execution_count": 1,
   "metadata": {},
   "outputs": [],
   "source": [
    "import psycopg2"
   ]
  },
  {
   "cell_type": "code",
   "execution_count": 11,
   "metadata": {},
   "outputs": [],
   "source": [
    "conn = psycopg2.connect(dbname='testdb', user='postgres', \n",
    "                        password='postgres', host='localhost')\n",
    "cursor = conn.cursor()"
   ]
  },
  {
   "cell_type": "code",
   "execution_count": 12,
   "metadata": {},
   "outputs": [],
   "source": [
    "cursor.execute(\"select current_database()\")\n",
    "db_name = cursor.fetchone()[0]"
   ]
  },
  {
   "cell_type": "code",
   "execution_count": 13,
   "metadata": {},
   "outputs": [
    {
     "data": {
      "text/plain": [
       "'testdb'"
      ]
     },
     "execution_count": 13,
     "metadata": {},
     "output_type": "execute_result"
    }
   ],
   "source": [
    "db_name"
   ]
  },
  {
   "cell_type": "code",
   "execution_count": 14,
   "metadata": {},
   "outputs": [],
   "source": [
    "commands = (\n",
    "        \"\"\"\n",
    "        CREATE TABLE vendors (\n",
    "            vendor_id SERIAL PRIMARY KEY,\n",
    "            vendor_name VARCHAR(255) NOT NULL\n",
    "        )\n",
    "        \"\"\",\n",
    "        \"\"\" CREATE TABLE parts (\n",
    "                part_id SERIAL PRIMARY KEY,\n",
    "                part_name VARCHAR(255) NOT NULL\n",
    "                )\n",
    "        \"\"\",\n",
    "        \"\"\"\n",
    "        CREATE TABLE part_drawings (\n",
    "                part_id INTEGER PRIMARY KEY,\n",
    "                file_extension VARCHAR(5) NOT NULL,\n",
    "                drawing_data BYTEA NOT NULL,\n",
    "                FOREIGN KEY (part_id)\n",
    "                REFERENCES parts (part_id)\n",
    "                ON UPDATE CASCADE ON DELETE CASCADE\n",
    "        )\n",
    "        \"\"\",\n",
    "        \"\"\"\n",
    "        CREATE TABLE vendor_parts (\n",
    "                vendor_id INTEGER NOT NULL,\n",
    "                part_id INTEGER NOT NULL,\n",
    "                PRIMARY KEY (vendor_id , part_id),\n",
    "                FOREIGN KEY (vendor_id)\n",
    "                    REFERENCES vendors (vendor_id)\n",
    "                    ON UPDATE CASCADE ON DELETE CASCADE,\n",
    "                FOREIGN KEY (part_id)\n",
    "                    REFERENCES parts (part_id)\n",
    "                    ON UPDATE CASCADE ON DELETE CASCADE\n",
    "        )\n",
    "        \"\"\")"
   ]
  },
  {
   "cell_type": "code",
   "execution_count": 15,
   "metadata": {},
   "outputs": [],
   "source": [
    "try:\n",
    "    for command in commands:\n",
    "        cursor.execute(command)\n",
    "        # close communication with the PostgreSQL database server\n",
    "    cursor.close()\n",
    "    # commit the changes\n",
    "    conn.commit()\n",
    "except (Exception, psycopg2.DatabaseError) as error:\n",
    "    print(error)\n",
    "finally:\n",
    "    if conn is not None:\n",
    "        conn.close()"
   ]
  },
  {
   "cell_type": "code",
   "execution_count": 16,
   "metadata": {},
   "outputs": [
    {
     "data": {
      "text/plain": [
       "<connection object at 0x7f78bc33a528; dsn: 'password=xxx dbname=testdb user=postgres host=localhost', closed: 1>"
      ]
     },
     "execution_count": 16,
     "metadata": {},
     "output_type": "execute_result"
    }
   ],
   "source": [
    "conn"
   ]
  },
  {
   "cell_type": "code",
   "execution_count": 23,
   "metadata": {},
   "outputs": [],
   "source": [
    "def insert_vendor(vendor_name):\n",
    "    \"\"\" insert a new vendor into the vendors table \"\"\"\n",
    "    sql = \"\"\"INSERT INTO vendors(vendor_name)\n",
    "             VALUES(%s) RETURNING vendor_id;\"\"\"\n",
    "    conn = None\n",
    "    vendor_id = None\n",
    "    try:\n",
    "        # connect to the PostgreSQL database\n",
    "        conn = psycopg2.connect(dbname='testdb', user='postgres', \n",
    "                        password='postgres', host='localhost')\n",
    "        # create a new cursor\n",
    "        cur = conn.cursor()\n",
    "        # execute the INSERT statement\n",
    "        cur.execute(sql, (vendor_name,))\n",
    "        # get the generated id back\n",
    "        vendor_id = cur.fetchone()[0]\n",
    "        # commit the changes to the database\n",
    "        conn.commit()\n",
    "        # close communication with the database\n",
    "        cur.close()\n",
    "    except (Exception, psycopg2.DatabaseError) as error:\n",
    "        print(error)\n",
    "    finally:\n",
    "        if conn is not None:\n",
    "            conn.close()\n",
    " \n",
    "    return vendor_id"
   ]
  },
  {
   "cell_type": "code",
   "execution_count": 24,
   "metadata": {},
   "outputs": [],
   "source": [
    "def insert_vendor_list(vendor_list):\n",
    "    \"\"\" insert multiple vendors into the vendors table  \"\"\"\n",
    "    sql = \"INSERT INTO vendors(vendor_name) VALUES(%s)\"\n",
    "    conn = None\n",
    "    try:\n",
    "        # connect to the PostgreSQL database\n",
    "        conn = psycopg2.connect(dbname='testdb', user='postgres', \n",
    "                                password='postgres', host='localhost')\n",
    "        # create a new cursor\n",
    "        cur = conn.cursor()\n",
    "        # execute the INSERT statement\n",
    "        cur.executemany(sql,vendor_list)\n",
    "        # commit the changes to the database\n",
    "        conn.commit()\n",
    "        # close communication with the database\n",
    "        cur.close()\n",
    "    except (Exception, psycopg2.DatabaseError) as error:\n",
    "        print(error)\n",
    "    finally:\n",
    "        if conn is not None:\n",
    "            conn.close()"
   ]
  },
  {
   "cell_type": "code",
   "execution_count": 25,
   "metadata": {},
   "outputs": [
    {
     "data": {
      "text/plain": [
       "1"
      ]
     },
     "execution_count": 25,
     "metadata": {},
     "output_type": "execute_result"
    }
   ],
   "source": [
    "insert_vendor(\"3M Co.\")"
   ]
  },
  {
   "cell_type": "code",
   "execution_count": 26,
   "metadata": {},
   "outputs": [],
   "source": [
    "insert_vendor_list([\n",
    "        ('AKM Semiconductor Inc.',),\n",
    "        ('Asahi Glass Co Ltd.',),\n",
    "        ('Daikin Industries Ltd.',),\n",
    "        ('Dynacast International Inc.',),\n",
    "        ('Foster Electric Co. Ltd.',),\n",
    "        ('Murata Manufacturing Co. Ltd.',)\n",
    "    ])"
   ]
  },
  {
   "cell_type": "code",
   "execution_count": 27,
   "metadata": {},
   "outputs": [],
   "source": [
    "def get_vendors():\n",
    "    \"\"\" query data from the vendors table \"\"\"\n",
    "    conn = None\n",
    "    try:\n",
    "        conn = psycopg2.connect(dbname='testdb', user='postgres', \n",
    "                                password='postgres', host='localhost')\n",
    "        cur = conn.cursor()\n",
    "        cur.execute(\"SELECT vendor_id, vendor_name FROM vendors ORDER BY vendor_name\")\n",
    "        print(\"The number of parts: \", cur.rowcount)\n",
    "        row = cur.fetchone()\n",
    " \n",
    "        while row is not None:\n",
    "            print(row)\n",
    "            row = cur.fetchone()\n",
    " \n",
    "        cur.close()\n",
    "    except (Exception, psycopg2.DatabaseError) as error:\n",
    "        print(error)\n",
    "    finally:\n",
    "        if conn is not None:\n",
    "            conn.close()"
   ]
  },
  {
   "cell_type": "code",
   "execution_count": 38,
   "metadata": {},
   "outputs": [
    {
     "name": "stdout",
     "output_type": "stream",
     "text": [
      "The number of parts:  7\n",
      "(1, '3M Co.')\n",
      "(2, 'AKM Semiconductor Inc.')\n",
      "(3, 'Asahi Glass Co Ltd.')\n",
      "(4, 'Daikin Industries Ltd.')\n",
      "(5, 'Dynacast International Inc.')\n",
      "(6, 'Foster Electric Co. Ltd.')\n",
      "(7, 'Murata Manufacturing Co. Ltd.')\n"
     ]
    }
   ],
   "source": [
    "get_vendors()"
   ]
  },
  {
   "cell_type": "markdown",
   "metadata": {},
   "source": [
    "## Transaction\n",
    "\n",
    "Summary: in this tutorial, you will learn how to handle PostgreSQL transactions in Python using psycopg database adapter."
   ]
  },
  {
   "cell_type": "code",
   "execution_count": 55,
   "metadata": {},
   "outputs": [],
   "source": [
    "def add_part(part_name, vendor_list):\n",
    "    # statement for inserting a new row into the parts table\n",
    "    insert_part = \"INSERT INTO parts(part_name) VALUES(%s) RETURNING part_id;\"\n",
    "    # statement for inserting a new row into the vendor_parts table\n",
    "    assign_vendor = \"INSERT INTO vendor_parts(vendor_id,part_id) VALUES(%s,%s)\"\n",
    " \n",
    "    conn = None\n",
    "    try:\n",
    "        conn = psycopg2.connect(dbname='testdb', user='postgres', \n",
    "                                password='postgres', host='localhost')\n",
    "        cur = conn.cursor()\n",
    "        # insert a new part\n",
    "        cur.execute(insert_part, (part_name,))\n",
    "        # get the part id\n",
    "        part_id = cur.fetchone()[0]\n",
    "        # assign parts provided by vendors\n",
    "        for vendor_id in vendor_list:\n",
    "            cur.execute(assign_vendor, (vendor_id, part_id))\n",
    " \n",
    "        # commit changes\n",
    "        conn.commit()\n",
    "    except (Exception, psycopg2.DatabaseError) as error:\n",
    "        print(error)\n",
    "    finally:\n",
    "        if conn is not None:\n",
    "            conn.close()"
   ]
  },
  {
   "cell_type": "code",
   "execution_count": 56,
   "metadata": {},
   "outputs": [],
   "source": [
    "add_part('SIM Tray', (1, 2))\n",
    "add_part('Speaker', (3, 4))\n",
    "add_part('Vibrator', (5, 6))\n",
    "add_part('Antenna', (6, 7))\n",
    "add_part('Home Button', (1, 5))\n",
    "add_part('LTE Modem', (1, 5))"
   ]
  },
  {
   "cell_type": "markdown",
   "metadata": {},
   "source": [
    "## Update Data in a Table\n",
    "\n",
    "Summary: in this tutorial, you will learn how to update data in a PostgreSQL table in Python using psycopg database adapter."
   ]
  },
  {
   "cell_type": "code",
   "execution_count": 57,
   "metadata": {},
   "outputs": [],
   "source": [
    "def update_vendor(vendor_id, vendor_name):\n",
    "    \"\"\" update vendor name based on the vendor id \"\"\"\n",
    "    sql = \"\"\" UPDATE vendors\n",
    "                SET vendor_name = %s\n",
    "                WHERE vendor_id = %s\"\"\"\n",
    "    conn = None\n",
    "    updated_rows = 0\n",
    "    try:\n",
    "        # read database configuration\n",
    "        conn = psycopg2.connect(dbname='testdb', user='postgres', \n",
    "                        password='postgres', host='localhost')\n",
    "        # create a new cursor\n",
    "        cur = conn.cursor()\n",
    "        # execute the UPDATE  statement\n",
    "        cur.execute(sql, (vendor_name, vendor_id))\n",
    "        # get the number of updated rows\n",
    "        updated_rows = cur.rowcount\n",
    "        # Commit the changes to the database\n",
    "        conn.commit()\n",
    "        # Close communication with the PostgreSQL database\n",
    "        cur.close()\n",
    "    except (Exception, psycopg2.DatabaseError) as error:\n",
    "        print(error)\n",
    "    finally:\n",
    "        if conn is not None:\n",
    "            conn.close()\n",
    " \n",
    "    return updated_rows"
   ]
  },
  {
   "cell_type": "code",
   "execution_count": 59,
   "metadata": {},
   "outputs": [
    {
     "data": {
      "text/plain": [
       "1"
      ]
     },
     "execution_count": 59,
     "metadata": {},
     "output_type": "execute_result"
    }
   ],
   "source": [
    "update_vendor(1, '2M Co. Ltd.')"
   ]
  },
  {
   "cell_type": "markdown",
   "metadata": {},
   "source": [
    "## Querying Data\n",
    "\n",
    "Summary: in this tutorial, you will learn how to query data from the PostgreSQL tables in Python using psycopg database adapter."
   ]
  },
  {
   "cell_type": "code",
   "execution_count": 61,
   "metadata": {},
   "outputs": [
    {
     "name": "stdout",
     "output_type": "stream",
     "text": [
      "The number of parts:  7\n",
      "(1, '2M Co. Ltd.')\n",
      "(2, 'AKM Semiconductor Inc.')\n",
      "(3, 'Asahi Glass Co Ltd.')\n",
      "(4, 'Daikin Industries Ltd.')\n",
      "(5, 'Dynacast International Inc.')\n",
      "(6, 'Foster Electric Co. Ltd.')\n",
      "(7, 'Murata Manufacturing Co. Ltd.')\n"
     ]
    }
   ],
   "source": [
    "get_vendors()"
   ]
  },
  {
   "cell_type": "code",
   "execution_count": 62,
   "metadata": {},
   "outputs": [],
   "source": [
    "def get_parts():\n",
    "    \"\"\" query parts from the parts table \"\"\"\n",
    "    conn = None\n",
    "    try:\n",
    "        conn = psycopg2.connect(dbname='testdb', user='postgres', \n",
    "                        password='postgres', host='localhost')\n",
    "        # create a new cursor\n",
    "        cur = conn.cursor()\n",
    "        cur.execute(\"SELECT part_id, part_name FROM parts ORDER BY part_name\")\n",
    "        rows = cur.fetchall()\n",
    "        print(\"The number of parts: \", cur.rowcount)\n",
    "        for row in rows:\n",
    "            print(row)\n",
    "        cur.close()\n",
    "    except (Exception, psycopg2.DatabaseError) as error:\n",
    "        print(error)\n",
    "    finally:\n",
    "        if conn is not None:\n",
    "            conn.close()"
   ]
  },
  {
   "cell_type": "code",
   "execution_count": 64,
   "metadata": {},
   "outputs": [
    {
     "name": "stdout",
     "output_type": "stream",
     "text": [
      "The number of parts:  6\n",
      "(10, 'Antenna')\n",
      "(11, 'Home Button')\n",
      "(12, 'LTE Modem')\n",
      "(7, 'SIM Tray')\n",
      "(8, 'Speaker')\n",
      "(9, 'Vibrator')\n"
     ]
    }
   ],
   "source": [
    "get_parts()"
   ]
  },
  {
   "cell_type": "code",
   "execution_count": 65,
   "metadata": {},
   "outputs": [],
   "source": [
    "def iter_row(cursor, size=10):\n",
    "    while True:\n",
    "        rows = cursor.fetchmany(size)\n",
    "        if not rows:\n",
    "            break\n",
    "        for row in rows:\n",
    "            yield row\n",
    " \n",
    "def get_part_vendors():\n",
    "    \"\"\" query part and vendor data from multiple tables\"\"\"\n",
    "    conn = None\n",
    "    try:\n",
    "        conn = psycopg2.connect(dbname='testdb', user='postgres', \n",
    "                        password='postgres', host='localhost')\n",
    "        # create a new cursor\n",
    "        cur = conn.cursor()\n",
    "        cur.execute(\"\"\"\n",
    "            SELECT part_name, vendor_name\n",
    "            FROM parts\n",
    "            INNER JOIN vendor_parts ON vendor_parts.part_id = parts.part_id\n",
    "            INNER JOIN vendors ON vendors.vendor_id = vendor_parts.vendor_id\n",
    "            ORDER BY part_name;\n",
    "        \"\"\")\n",
    "        for row in iter_row(cur, 10):\n",
    "            print(row)\n",
    "        cur.close()\n",
    "    except (Exception, psycopg2.DatabaseError) as error:\n",
    "        print(error)\n",
    "    finally:\n",
    "        if conn is not None:\n",
    "            conn.close()"
   ]
  },
  {
   "cell_type": "code",
   "execution_count": 66,
   "metadata": {},
   "outputs": [
    {
     "name": "stdout",
     "output_type": "stream",
     "text": [
      "('Antenna', 'Foster Electric Co. Ltd.')\n",
      "('Antenna', 'Murata Manufacturing Co. Ltd.')\n",
      "('Home Button', 'Dynacast International Inc.')\n",
      "('Home Button', '2M Co. Ltd.')\n",
      "('LTE Modem', 'Dynacast International Inc.')\n",
      "('LTE Modem', '2M Co. Ltd.')\n",
      "('SIM Tray', 'AKM Semiconductor Inc.')\n",
      "('SIM Tray', '2M Co. Ltd.')\n",
      "('Speaker', 'Daikin Industries Ltd.')\n",
      "('Speaker', 'Asahi Glass Co Ltd.')\n",
      "('Vibrator', 'Dynacast International Inc.')\n",
      "('Vibrator', 'Foster Electric Co. Ltd.')\n"
     ]
    }
   ],
   "source": [
    "get_part_vendors()"
   ]
  },
  {
   "cell_type": "markdown",
   "metadata": {},
   "source": [
    "## Delete Data from Tables\n",
    "\n",
    "Summary: this tutorial shows you how to delete data from the PostgreSQL tables in Python using psycopg database adapter."
   ]
  },
  {
   "cell_type": "code",
   "execution_count": 67,
   "metadata": {},
   "outputs": [],
   "source": [
    "def delete_part(part_id):\n",
    "    \"\"\" delete part by part id \"\"\"\n",
    "    conn = None\n",
    "    rows_deleted = 0\n",
    "    try:\n",
    "        # read database configuration\n",
    "        conn = psycopg2.connect(dbname='testdb', user='postgres', \n",
    "                        password='postgres', host='localhost')\n",
    "        # create a new cursor\n",
    "        cur = conn.cursor()\n",
    "        # execute the UPDATE  statement\n",
    "        cur.execute(\"DELETE FROM parts WHERE part_id = %s\", (part_id,))\n",
    "        # get the number of updated rows\n",
    "        rows_deleted = cur.rowcount\n",
    "        # Commit the changes to the database\n",
    "        conn.commit()\n",
    "        # Close communication with the PostgreSQL database\n",
    "        cur.close()\n",
    "    except (Exception, psycopg2.DatabaseError) as error:\n",
    "        print(error)\n",
    "    finally:\n",
    "        if conn is not None:\n",
    "            conn.close()\n",
    " \n",
    "    return rows_deleted"
   ]
  },
  {
   "cell_type": "code",
   "execution_count": 69,
   "metadata": {},
   "outputs": [
    {
     "name": "stdout",
     "output_type": "stream",
     "text": [
      "The number of deleted rows:  1\n"
     ]
    }
   ],
   "source": [
    "deleted_rows = delete_part(7)\n",
    "print('The number of deleted rows: ', deleted_rows)"
   ]
  },
  {
   "cell_type": "markdown",
   "metadata": {},
   "source": [
    "## Handling BLOB Data\n",
    "\n",
    "Summary: in this tutorial, you will learn how to handle PostgreSQL BLOB data in Python using the psycopg database adapter."
   ]
  },
  {
   "cell_type": "code",
   "execution_count": 70,
   "metadata": {},
   "outputs": [],
   "source": [
    "def write_blob(part_id, path_to_file, file_extension):\n",
    "    \"\"\" insert a BLOB into a table \"\"\"\n",
    "    conn = None\n",
    "    try:\n",
    "        # read data from a picture\n",
    "        drawing = open(path_to_file, 'rb').read()\n",
    "        # read database configuration\n",
    "        conn = psycopg2.connect(dbname='testdb', user='postgres', \n",
    "                        password='postgres', host='localhost')\n",
    "        # create a new cursor\n",
    "        cur = conn.cursor()\n",
    "        # execute the INSERT statement\n",
    "        cur.execute(\"INSERT INTO part_drawings(part_id,file_extension,drawing_data) \" +\n",
    "                    \"VALUES(%s,%s,%s)\",\n",
    "                    (part_id, file_extension, psycopg2.Binary(drawing)))\n",
    "        # commit the changes to the database\n",
    "        conn.commit()\n",
    "        # close the communication with the PostgresQL database\n",
    "        cur.close()\n",
    "    except (Exception, psycopg2.DatabaseError) as error:\n",
    "        print(error)\n",
    "    finally:\n",
    "        if conn is not None:\n",
    "            conn.close()"
   ]
  },
  {
   "cell_type": "code",
   "execution_count": 72,
   "metadata": {},
   "outputs": [],
   "source": [
    "write_blob(8, 'images/simtray.jpg', 'jpg')\n",
    "write_blob(9, 'images/speaker.jpg', 'jpg')"
   ]
  },
  {
   "cell_type": "code",
   "execution_count": 73,
   "metadata": {},
   "outputs": [],
   "source": [
    "def read_blob(part_id, path_to_dir):\n",
    "    \"\"\" read BLOB data from a table \"\"\"\n",
    "    conn = None\n",
    "    try:\n",
    "        # read database configuration\n",
    "        conn = psycopg2.connect(dbname='testdb', user='postgres', \n",
    "                        password='postgres', host='localhost')\n",
    "        # create a new cursor\n",
    "        cur = conn.cursor()\n",
    "        # execute the SELECT statement\n",
    "        cur.execute(\"\"\" SELECT part_name, file_extension, drawing_data\n",
    "                        FROM part_drawings\n",
    "                        INNER JOIN parts on parts.part_id = part_drawings.part_id\n",
    "                        WHERE parts.part_id = %s \"\"\",\n",
    "                    (part_id,))\n",
    " \n",
    "        blob = cur.fetchone()\n",
    "        open(path_to_dir + blob[0] + '.' + blob[1], 'wb').write(blob[2])\n",
    "        # close the communication with the PostgresQL database\n",
    "        cur.close()\n",
    "    except (Exception, psycopg2.DatabaseError) as error:\n",
    "        print(error)\n",
    "    finally:\n",
    "        if conn is not None:\n",
    "            conn.close()"
   ]
  },
  {
   "cell_type": "code",
   "execution_count": 74,
   "metadata": {},
   "outputs": [],
   "source": [
    "read_blob(8, 'images/simtray.jpg')"
   ]
  },
  {
   "cell_type": "code",
   "execution_count": 75,
   "metadata": {},
   "outputs": [],
   "source": [
    "read_blob(9, 'images/speaker.jpg')"
   ]
  },
  {
   "cell_type": "code",
   "execution_count": null,
   "metadata": {},
   "outputs": [],
   "source": []
  }
 ],
 "metadata": {
  "kernelspec": {
   "display_name": "Python 3",
   "language": "python",
   "name": "python3"
  },
  "language_info": {
   "codemirror_mode": {
    "name": "ipython",
    "version": 3
   },
   "file_extension": ".py",
   "mimetype": "text/x-python",
   "name": "python",
   "nbconvert_exporter": "python",
   "pygments_lexer": "ipython3",
   "version": "3.5.2"
  }
 },
 "nbformat": 4,
 "nbformat_minor": 2
}
