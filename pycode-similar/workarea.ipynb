{
 "cells": [
  {
   "cell_type": "code",
   "execution_count": 1,
   "metadata": {},
   "outputs": [],
   "source": [
    "import pycode_similar"
   ]
  },
  {
   "cell_type": "code",
   "execution_count": 3,
   "metadata": {},
   "outputs": [],
   "source": [
    "code_reference = \"\"\"\n",
    "import os\n",
    "import sys\n",
    "\n",
    "def main(a):\n",
    "    result = input().split(a)\n",
    "    result = [int(i) for i in result]\n",
    "\n",
    "    return result\n",
    "    \n",
    "result = main('%')\n",
    "print(result)\n",
    "\"\"\""
   ]
  },
  {
   "cell_type": "code",
   "execution_count": 4,
   "metadata": {},
   "outputs": [],
   "source": [
    "code_test_1 = \"\"\"\n",
    "import os\n",
    "import sys\n",
    "\n",
    "def test(b):\n",
    "    temp = input().split(a)\n",
    "    \n",
    "    temp = [int(j) for j in temp]\n",
    "    return result\n",
    "    \n",
    "result = test('%')\n",
    "print(result)\n",
    "\"\"\""
   ]
  },
  {
   "cell_type": "code",
   "execution_count": 2,
   "metadata": {},
   "outputs": [],
   "source": [
    "code_test_2 = \"\"\"\n",
    "import os\n",
    "import sys\n",
    "\n",
    "def main(a):\n",
    "    result = input().split(a)\n",
    "    result = list(map(int, result))\n",
    "    \n",
    "    return result\n",
    "    \n",
    "result = test('%')\n",
    "print(result)\n",
    "\"\"\""
   ]
  },
  {
   "cell_type": "code",
   "execution_count": 22,
   "metadata": {},
   "outputs": [],
   "source": [
    "refs_diff = pycode_similar.detect(\n",
    "    [code_reference, code_reference, code_test_1, code_test_2], \n",
    "    diff_method=pycode_similar.UnifiedDiff, \n",
    "    keep_prints=True, \n",
    "    module_level=False\n",
    ")"
   ]
  },
  {
   "cell_type": "code",
   "execution_count": 23,
   "metadata": {},
   "outputs": [
    {
     "name": "stdout",
     "output_type": "stream",
     "text": [
      "1.0 : ref main<5:0>, candidate main<5:0>\n"
     ]
    }
   ],
   "source": [
    "print(refs_diff[0][1][0])"
   ]
  },
  {
   "cell_type": "code",
   "execution_count": 24,
   "metadata": {},
   "outputs": [
    {
     "name": "stdout",
     "output_type": "stream",
     "text": [
      "1.0 : ref main<5:0>, candidate test<5:0>\n"
     ]
    }
   ],
   "source": [
    "print(refs_diff[1][1][0])"
   ]
  },
  {
   "cell_type": "code",
   "execution_count": 25,
   "metadata": {},
   "outputs": [
    {
     "name": "stdout",
     "output_type": "stream",
     "text": [
      "0.86: ref main<5:0>, candidate main<5:0>\n"
     ]
    }
   ],
   "source": [
    "print(refs_diff[2][1][0])"
   ]
  },
  {
   "cell_type": "code",
   "execution_count": 16,
   "metadata": {},
   "outputs": [
    {
     "data": {
      "text/plain": [
       "[(1, [<pycode_similar.FuncDiffInfo at 0x124a8f8e548>]),\n",
       " (2, [<pycode_similar.FuncDiffInfo at 0x124a8f8f3c8>]),\n",
       " (3, [<pycode_similar.FuncDiffInfo at 0x124a8f88e48>])]"
      ]
     },
     "execution_count": 16,
     "metadata": {},
     "output_type": "execute_result"
    }
   ],
   "source": []
  },
  {
   "cell_type": "code",
   "execution_count": 26,
   "metadata": {},
   "outputs": [
    {
     "data": {
      "text/plain": [
       "'0.86: ref main<5:0>, candidate main<5:0>'"
      ]
     },
     "execution_count": 26,
     "metadata": {},
     "output_type": "execute_result"
    }
   ],
   "source": [
    "str(refs_diff[2][1][0])"
   ]
  },
  {
   "cell_type": "code",
   "execution_count": null,
   "metadata": {},
   "outputs": [],
   "source": []
  }
 ],
 "metadata": {
  "kernelspec": {
   "display_name": "Python 3",
   "language": "python",
   "name": "python3"
  },
  "language_info": {
   "codemirror_mode": {
    "name": "ipython",
    "version": 3
   },
   "file_extension": ".py",
   "mimetype": "text/x-python",
   "name": "python",
   "nbconvert_exporter": "python",
   "pygments_lexer": "ipython3",
   "version": "3.7.7"
  }
 },
 "nbformat": 4,
 "nbformat_minor": 4
}
