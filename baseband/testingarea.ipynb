{
 "cells": [
  {
   "cell_type": "code",
   "execution_count": 1,
   "metadata": {},
   "outputs": [],
   "source": [
    "import baseband\n",
    "from baseband.data import SAMPLE_DADA"
   ]
  },
  {
   "cell_type": "code",
   "execution_count": 2,
   "metadata": {},
   "outputs": [],
   "source": [
    "fh = baseband.open(SAMPLE_DADA)"
   ]
  },
  {
   "cell_type": "code",
   "execution_count": 3,
   "metadata": {},
   "outputs": [
    {
     "data": {
      "text/plain": [
       "array([[ -38.-38.j,  -38.-38.j],\n",
       "       [ -38.-38.j,  -40. +0.j],\n",
       "       [-105.+60.j,   85.-15.j]], dtype=complex64)"
      ]
     },
     "execution_count": 3,
     "metadata": {},
     "output_type": "execute_result"
    }
   ],
   "source": [
    "fh.read(3)"
   ]
  },
  {
   "cell_type": "code",
   "execution_count": 4,
   "metadata": {},
   "outputs": [],
   "source": [
    "fh.close()"
   ]
  },
  {
   "cell_type": "code",
   "execution_count": 5,
   "metadata": {},
   "outputs": [],
   "source": [
    "test_dada_file = r'H:\\com_dir_ub\\test.dada'"
   ]
  },
  {
   "cell_type": "code",
   "execution_count": 6,
   "metadata": {},
   "outputs": [],
   "source": [
    "fh = baseband.open(test_dada_file)"
   ]
  },
  {
   "cell_type": "code",
   "execution_count": 7,
   "metadata": {},
   "outputs": [
    {
     "data": {
      "text/plain": [
       "DADAStream information:\n",
       "start_time = 2020-05-31T11:37:06.000000000\n",
       "stop_time = 2020-05-31T11:37:26.000000000\n",
       "sample_rate = 640.0 MHz\n",
       "shape = (12800000000, 2)\n",
       "format = dada\n",
       "bps = 8\n",
       "complex_data = False\n",
       "verify = True\n",
       "readable = True\n",
       "\n",
       "checks:  decodable: True\n",
       "         continuous: no obvious gaps\n",
       "\n",
       "DADAFile information:\n",
       "number_of_frames = 1\n",
       "frame_rate = 0.049999999999999996 Hz\n",
       "samples_per_frame = 12800000000\n",
       "sample_shape = (2, 1)"
      ]
     },
     "execution_count": 7,
     "metadata": {},
     "output_type": "execute_result"
    }
   ],
   "source": [
    "fh.info"
   ]
  },
  {
   "cell_type": "code",
   "execution_count": 8,
   "metadata": {},
   "outputs": [],
   "source": [
    "fh.close()"
   ]
  },
  {
   "cell_type": "code",
   "execution_count": 9,
   "metadata": {},
   "outputs": [
    {
     "name": "stdout",
     "output_type": "stream",
     "text": [
      "DADAStream information:\n",
      "start_time = 2020-05-31T11:37:06.000000000\n",
      "stop_time = 2020-05-31T11:37:26.000000000\n",
      "sample_rate = 640.0 MHz\n",
      "shape = (12800000000, 2)\n",
      "format = dada\n",
      "bps = 8\n",
      "complex_data = False\n",
      "verify = True\n",
      "readable = True\n",
      "\n",
      "checks:  decodable: True\n",
      "         continuous: no obvious gaps\n",
      "\n",
      "DADAFile information:\n",
      "number_of_frames = 1\n",
      "frame_rate = 0.049999999999999996 Hz\n",
      "samples_per_frame = 12800000000\n",
      "sample_shape = (2, 1)\n"
     ]
    }
   ],
   "source": [
    "with baseband.open(test_dada_file) as fh:\n",
    "    print(fh.info)"
   ]
  },
  {
   "cell_type": "code",
   "execution_count": null,
   "metadata": {},
   "outputs": [],
   "source": []
  }
 ],
 "metadata": {
  "kernelspec": {
   "display_name": "Python 3",
   "language": "python",
   "name": "python3"
  },
  "language_info": {
   "codemirror_mode": {
    "name": "ipython",
    "version": 3
   },
   "file_extension": ".py",
   "mimetype": "text/x-python",
   "name": "python",
   "nbconvert_exporter": "python",
   "pygments_lexer": "ipython3",
   "version": "3.7.7"
  }
 },
 "nbformat": 4,
 "nbformat_minor": 4
}
