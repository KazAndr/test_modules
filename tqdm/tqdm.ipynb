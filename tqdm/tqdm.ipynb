{
 "cells": [
  {
   "cell_type": "code",
   "execution_count": 1,
   "metadata": {
    "collapsed": false
   },
   "outputs": [],
   "source": [
    "from tqdm import tqdm"
   ]
  },
  {
   "cell_type": "code",
   "execution_count": 2,
   "metadata": {
    "collapsed": true
   },
   "outputs": [],
   "source": [
    "full_list = ['test_' + str(i) for i in range(1000000)]"
   ]
  },
  {
   "cell_type": "code",
   "execution_count": 3,
   "metadata": {
    "collapsed": false
   },
   "outputs": [
    {
     "name": "stderr",
     "output_type": "stream",
     "text": [
      "100%|██████████| 1000000/1000000 [00:00<00:00, 1625830.93it/s]\n"
     ]
    }
   ],
   "source": [
    "sum_list = [] \n",
    "for name in tqdm(full_list):\n",
    "    sum_list.append(name)"
   ]
  },
  {
   "cell_type": "code",
   "execution_count": 4,
   "metadata": {
    "collapsed": false
   },
   "outputs": [
    {
     "data": {
      "text/plain": [
       "1000000"
      ]
     },
     "execution_count": 4,
     "metadata": {},
     "output_type": "execute_result"
    }
   ],
   "source": [
    "len(sum_list)"
   ]
  },
  {
   "cell_type": "code",
   "execution_count": 5,
   "metadata": {
    "collapsed": true
   },
   "outputs": [],
   "source": [
    "from tqdm import tqdm_notebook"
   ]
  },
  {
   "cell_type": "code",
   "execution_count": 6,
   "metadata": {
    "collapsed": false
   },
   "outputs": [
    {
     "name": "stdout",
     "output_type": "stream",
     "text": [
      "\n"
     ]
    }
   ],
   "source": [
    "sum_list = [] \n",
    "for name in tqdm_notebook(full_list):\n",
    "    sum_list.append(name)"
   ]
  },
  {
   "cell_type": "code",
   "execution_count": 7,
   "metadata": {
    "collapsed": true
   },
   "outputs": [],
   "source": [
    "from tqdm import tnrange"
   ]
  },
  {
   "cell_type": "code",
   "execution_count": 9,
   "metadata": {
    "collapsed": false
   },
   "outputs": [
    {
     "ename": "KeyboardInterrupt",
     "evalue": "",
     "output_type": "error",
     "traceback": [
      "\u001b[1;31m---------------------------------------------------------------------------\u001b[0m",
      "\u001b[1;31mKeyboardInterrupt\u001b[0m                         Traceback (most recent call last)",
      "\u001b[1;32m<ipython-input-9-cb538cfcb177>\u001b[0m in \u001b[0;36m<module>\u001b[1;34m()\u001b[0m\n\u001b[0;32m      1\u001b[0m \u001b[0msum_list\u001b[0m \u001b[1;33m=\u001b[0m \u001b[1;33m[\u001b[0m\u001b[1;33m]\u001b[0m\u001b[1;33m\u001b[0m\u001b[0m\n\u001b[0;32m      2\u001b[0m \u001b[1;32mfor\u001b[0m \u001b[0mname\u001b[0m \u001b[1;32min\u001b[0m \u001b[0mtqdm_notebook\u001b[0m\u001b[1;33m(\u001b[0m\u001b[0mfull_list\u001b[0m\u001b[1;33m,\u001b[0m \u001b[0mdesc\u001b[0m\u001b[1;33m=\u001b[0m\u001b[1;34m'1st loop'\u001b[0m\u001b[1;33m)\u001b[0m\u001b[1;33m:\u001b[0m\u001b[1;33m\u001b[0m\u001b[0m\n\u001b[1;32m----> 3\u001b[1;33m     \u001b[1;32mfor\u001b[0m \u001b[0mi\u001b[0m \u001b[1;32min\u001b[0m \u001b[0mtqdm_notebook\u001b[0m\u001b[1;33m(\u001b[0m\u001b[0msum_list\u001b[0m\u001b[1;33m,\u001b[0m \u001b[0mdesc\u001b[0m\u001b[1;33m=\u001b[0m\u001b[1;34m'2st loop'\u001b[0m\u001b[1;33m,\u001b[0m \u001b[0mleave\u001b[0m \u001b[1;33m=\u001b[0m \u001b[1;32mFalse\u001b[0m\u001b[1;33m)\u001b[0m\u001b[1;33m:\u001b[0m\u001b[1;33m\u001b[0m\u001b[0m\n\u001b[0m\u001b[0;32m      4\u001b[0m         \u001b[0msum_list\u001b[0m\u001b[1;33m.\u001b[0m\u001b[0mappend\u001b[0m\u001b[1;33m(\u001b[0m\u001b[0mname\u001b[0m \u001b[1;33m+\u001b[0m \u001b[0mi\u001b[0m\u001b[1;33m)\u001b[0m\u001b[1;33m\u001b[0m\u001b[0m\n",
      "\u001b[1;32m/home/andrey/programming/miniconda3/lib/python3.4/site-packages/tqdm/_tqdm_notebook.py\u001b[0m in \u001b[0;36m__iter__\u001b[1;34m(self, *args, **kwargs)\u001b[0m\n\u001b[0;32m    183\u001b[0m     \u001b[1;32mdef\u001b[0m \u001b[0m__iter__\u001b[0m\u001b[1;33m(\u001b[0m\u001b[0mself\u001b[0m\u001b[1;33m,\u001b[0m \u001b[1;33m*\u001b[0m\u001b[0margs\u001b[0m\u001b[1;33m,\u001b[0m \u001b[1;33m**\u001b[0m\u001b[0mkwargs\u001b[0m\u001b[1;33m)\u001b[0m\u001b[1;33m:\u001b[0m\u001b[1;33m\u001b[0m\u001b[0m\n\u001b[0;32m    184\u001b[0m         \u001b[1;32mtry\u001b[0m\u001b[1;33m:\u001b[0m\u001b[1;33m\u001b[0m\u001b[0m\n\u001b[1;32m--> 185\u001b[1;33m             \u001b[1;32mfor\u001b[0m \u001b[0mobj\u001b[0m \u001b[1;32min\u001b[0m \u001b[0msuper\u001b[0m\u001b[1;33m(\u001b[0m\u001b[0mtqdm_notebook\u001b[0m\u001b[1;33m,\u001b[0m \u001b[0mself\u001b[0m\u001b[1;33m)\u001b[0m\u001b[1;33m.\u001b[0m\u001b[0m__iter__\u001b[0m\u001b[1;33m(\u001b[0m\u001b[1;33m*\u001b[0m\u001b[0margs\u001b[0m\u001b[1;33m,\u001b[0m \u001b[1;33m**\u001b[0m\u001b[0mkwargs\u001b[0m\u001b[1;33m)\u001b[0m\u001b[1;33m:\u001b[0m\u001b[1;33m\u001b[0m\u001b[0m\n\u001b[0m\u001b[0;32m    186\u001b[0m                 \u001b[1;31m# return super(tqdm...) will not catch exception\u001b[0m\u001b[1;33m\u001b[0m\u001b[1;33m\u001b[0m\u001b[0m\n\u001b[0;32m    187\u001b[0m                 \u001b[1;32myield\u001b[0m \u001b[0mobj\u001b[0m\u001b[1;33m\u001b[0m\u001b[0m\n",
      "\u001b[1;32m/home/andrey/programming/miniconda3/lib/python3.4/site-packages/tqdm/_tqdm.py\u001b[0m in \u001b[0;36m__iter__\u001b[1;34m(self)\u001b[0m\n\u001b[0;32m   1017\u001b[0m             \u001b[0mself\u001b[0m\u001b[1;33m.\u001b[0m\u001b[0mn\u001b[0m \u001b[1;33m=\u001b[0m \u001b[0mn\u001b[0m\u001b[1;33m\u001b[0m\u001b[0m\n\u001b[0;32m   1018\u001b[0m             \u001b[0mself\u001b[0m\u001b[1;33m.\u001b[0m\u001b[0mminiters\u001b[0m \u001b[1;33m=\u001b[0m \u001b[0mminiters\u001b[0m\u001b[1;33m\u001b[0m\u001b[0m\n\u001b[1;32m-> 1019\u001b[1;33m             \u001b[0mself\u001b[0m\u001b[1;33m.\u001b[0m\u001b[0mclose\u001b[0m\u001b[1;33m(\u001b[0m\u001b[1;33m)\u001b[0m\u001b[1;33m\u001b[0m\u001b[0m\n\u001b[0m\u001b[0;32m   1020\u001b[0m \u001b[1;33m\u001b[0m\u001b[0m\n\u001b[0;32m   1021\u001b[0m     \u001b[1;32mdef\u001b[0m \u001b[0mupdate\u001b[0m\u001b[1;33m(\u001b[0m\u001b[0mself\u001b[0m\u001b[1;33m,\u001b[0m \u001b[0mn\u001b[0m\u001b[1;33m=\u001b[0m\u001b[1;36m1\u001b[0m\u001b[1;33m)\u001b[0m\u001b[1;33m:\u001b[0m\u001b[1;33m\u001b[0m\u001b[0m\n",
      "\u001b[1;32m/home/andrey/programming/miniconda3/lib/python3.4/site-packages/tqdm/_tqdm_notebook.py\u001b[0m in \u001b[0;36mclose\u001b[1;34m(self, *args, **kwargs)\u001b[0m\n\u001b[0;32m    212\u001b[0m                     \u001b[0mself\u001b[0m\u001b[1;33m.\u001b[0m\u001b[0msp\u001b[0m\u001b[1;33m(\u001b[0m\u001b[0mbar_style\u001b[0m\u001b[1;33m=\u001b[0m\u001b[1;34m'success'\u001b[0m\u001b[1;33m)\u001b[0m\u001b[1;33m\u001b[0m\u001b[0m\n\u001b[0;32m    213\u001b[0m                 \u001b[1;32melse\u001b[0m\u001b[1;33m:\u001b[0m\u001b[1;33m\u001b[0m\u001b[0m\n\u001b[1;32m--> 214\u001b[1;33m                     \u001b[0mself\u001b[0m\u001b[1;33m.\u001b[0m\u001b[0msp\u001b[0m\u001b[1;33m(\u001b[0m\u001b[0mclose\u001b[0m\u001b[1;33m=\u001b[0m\u001b[1;32mTrue\u001b[0m\u001b[1;33m)\u001b[0m\u001b[1;33m\u001b[0m\u001b[0m\n\u001b[0m\u001b[0;32m    215\u001b[0m \u001b[1;33m\u001b[0m\u001b[0m\n\u001b[0;32m    216\u001b[0m     \u001b[1;32mdef\u001b[0m \u001b[0mmoveto\u001b[0m\u001b[1;33m(\u001b[0m\u001b[0mself\u001b[0m\u001b[1;33m,\u001b[0m \u001b[1;33m*\u001b[0m\u001b[0margs\u001b[0m\u001b[1;33m,\u001b[0m \u001b[1;33m**\u001b[0m\u001b[0mkwargs\u001b[0m\u001b[1;33m)\u001b[0m\u001b[1;33m:\u001b[0m\u001b[1;33m\u001b[0m\u001b[0m\n",
      "\u001b[1;32m/home/andrey/programming/miniconda3/lib/python3.4/site-packages/tqdm/_tqdm_notebook.py\u001b[0m in \u001b[0;36mprint_status\u001b[1;34m(s, close, bar_style, desc)\u001b[0m\n\u001b[0;32m    145\u001b[0m             \u001b[1;32mif\u001b[0m \u001b[0mclose\u001b[0m \u001b[1;32mand\u001b[0m \u001b[0mpbar\u001b[0m\u001b[1;33m.\u001b[0m\u001b[0mbar_style\u001b[0m \u001b[1;33m!=\u001b[0m \u001b[1;34m'danger'\u001b[0m\u001b[1;33m:\u001b[0m  \u001b[1;31m# hide only if no error\u001b[0m\u001b[1;33m\u001b[0m\u001b[0m\n\u001b[0;32m    146\u001b[0m                 \u001b[1;32mtry\u001b[0m\u001b[1;33m:\u001b[0m\u001b[1;33m\u001b[0m\u001b[0m\n\u001b[1;32m--> 147\u001b[1;33m                     \u001b[0mcontainer\u001b[0m\u001b[1;33m.\u001b[0m\u001b[0mclose\u001b[0m\u001b[1;33m(\u001b[0m\u001b[1;33m)\u001b[0m\u001b[1;33m\u001b[0m\u001b[0m\n\u001b[0m\u001b[0;32m    148\u001b[0m                 \u001b[1;32mexcept\u001b[0m \u001b[0mAttributeError\u001b[0m\u001b[1;33m:\u001b[0m\u001b[1;33m\u001b[0m\u001b[0m\n\u001b[0;32m    149\u001b[0m                     \u001b[0mcontainer\u001b[0m\u001b[1;33m.\u001b[0m\u001b[0mvisible\u001b[0m \u001b[1;33m=\u001b[0m \u001b[1;32mFalse\u001b[0m\u001b[1;33m\u001b[0m\u001b[0m\n",
      "\u001b[1;32m/home/andrey/programming/miniconda3/lib/python3.4/site-packages/ipywidgets/widgets/widget.py\u001b[0m in \u001b[0;36mclose\u001b[1;34m(self)\u001b[0m\n\u001b[0;32m    236\u001b[0m         \u001b[1;32mif\u001b[0m \u001b[0mself\u001b[0m\u001b[1;33m.\u001b[0m\u001b[0mcomm\u001b[0m \u001b[1;32mis\u001b[0m \u001b[1;32mnot\u001b[0m \u001b[1;32mNone\u001b[0m\u001b[1;33m:\u001b[0m\u001b[1;33m\u001b[0m\u001b[0m\n\u001b[0;32m    237\u001b[0m             \u001b[0mWidget\u001b[0m\u001b[1;33m.\u001b[0m\u001b[0mwidgets\u001b[0m\u001b[1;33m.\u001b[0m\u001b[0mpop\u001b[0m\u001b[1;33m(\u001b[0m\u001b[0mself\u001b[0m\u001b[1;33m.\u001b[0m\u001b[0mmodel_id\u001b[0m\u001b[1;33m,\u001b[0m \u001b[1;32mNone\u001b[0m\u001b[1;33m)\u001b[0m\u001b[1;33m\u001b[0m\u001b[0m\n\u001b[1;32m--> 238\u001b[1;33m             \u001b[0mself\u001b[0m\u001b[1;33m.\u001b[0m\u001b[0mcomm\u001b[0m\u001b[1;33m.\u001b[0m\u001b[0mclose\u001b[0m\u001b[1;33m(\u001b[0m\u001b[1;33m)\u001b[0m\u001b[1;33m\u001b[0m\u001b[0m\n\u001b[0m\u001b[0;32m    239\u001b[0m             \u001b[0mself\u001b[0m\u001b[1;33m.\u001b[0m\u001b[0mcomm\u001b[0m \u001b[1;33m=\u001b[0m \u001b[1;32mNone\u001b[0m\u001b[1;33m\u001b[0m\u001b[0m\n\u001b[0;32m    240\u001b[0m             \u001b[0mself\u001b[0m\u001b[1;33m.\u001b[0m\u001b[0m_ipython_display_\u001b[0m \u001b[1;33m=\u001b[0m \u001b[1;32mNone\u001b[0m\u001b[1;33m\u001b[0m\u001b[0m\n",
      "\u001b[1;32m/home/andrey/programming/miniconda3/lib/python3.4/site-packages/ipykernel/comm/comm.py\u001b[0m in \u001b[0;36mclose\u001b[1;34m(self, data, metadata, buffers)\u001b[0m\n\u001b[0;32m    112\u001b[0m             \u001b[0mdata\u001b[0m \u001b[1;33m=\u001b[0m \u001b[0mself\u001b[0m\u001b[1;33m.\u001b[0m\u001b[0m_close_data\u001b[0m\u001b[1;33m\u001b[0m\u001b[0m\n\u001b[0;32m    113\u001b[0m         self._publish_msg('comm_close',\n\u001b[1;32m--> 114\u001b[1;33m             \u001b[0mdata\u001b[0m\u001b[1;33m=\u001b[0m\u001b[0mdata\u001b[0m\u001b[1;33m,\u001b[0m \u001b[0mmetadata\u001b[0m\u001b[1;33m=\u001b[0m\u001b[0mmetadata\u001b[0m\u001b[1;33m,\u001b[0m \u001b[0mbuffers\u001b[0m\u001b[1;33m=\u001b[0m\u001b[0mbuffers\u001b[0m\u001b[1;33m,\u001b[0m\u001b[1;33m\u001b[0m\u001b[0m\n\u001b[0m\u001b[0;32m    115\u001b[0m         )\n\u001b[0;32m    116\u001b[0m         \u001b[0mself\u001b[0m\u001b[1;33m.\u001b[0m\u001b[0mkernel\u001b[0m\u001b[1;33m.\u001b[0m\u001b[0mcomm_manager\u001b[0m\u001b[1;33m.\u001b[0m\u001b[0munregister_comm\u001b[0m\u001b[1;33m(\u001b[0m\u001b[0mself\u001b[0m\u001b[1;33m)\u001b[0m\u001b[1;33m\u001b[0m\u001b[0m\n",
      "\u001b[1;32m/home/andrey/programming/miniconda3/lib/python3.4/site-packages/ipykernel/comm/comm.py\u001b[0m in \u001b[0;36m_publish_msg\u001b[1;34m(self, msg_type, data, metadata, buffers, **keys)\u001b[0m\n\u001b[0;32m     69\u001b[0m             \u001b[0mparent\u001b[0m\u001b[1;33m=\u001b[0m\u001b[0mself\u001b[0m\u001b[1;33m.\u001b[0m\u001b[0mkernel\u001b[0m\u001b[1;33m.\u001b[0m\u001b[0m_parent_header\u001b[0m\u001b[1;33m,\u001b[0m\u001b[1;33m\u001b[0m\u001b[0m\n\u001b[0;32m     70\u001b[0m             \u001b[0mident\u001b[0m\u001b[1;33m=\u001b[0m\u001b[0mself\u001b[0m\u001b[1;33m.\u001b[0m\u001b[0mtopic\u001b[0m\u001b[1;33m,\u001b[0m\u001b[1;33m\u001b[0m\u001b[0m\n\u001b[1;32m---> 71\u001b[1;33m             \u001b[0mbuffers\u001b[0m\u001b[1;33m=\u001b[0m\u001b[0mbuffers\u001b[0m\u001b[1;33m,\u001b[0m\u001b[1;33m\u001b[0m\u001b[0m\n\u001b[0m\u001b[0;32m     72\u001b[0m         )\n\u001b[0;32m     73\u001b[0m \u001b[1;33m\u001b[0m\u001b[0m\n",
      "\u001b[1;32m/home/andrey/programming/miniconda3/lib/python3.4/site-packages/jupyter_client/session.py\u001b[0m in \u001b[0;36msend\u001b[1;34m(self, stream, msg_or_type, content, parent, ident, buffers, track, header, metadata)\u001b[0m\n\u001b[0;32m    654\u001b[0m         \u001b[1;32melse\u001b[0m\u001b[1;33m:\u001b[0m\u001b[1;33m\u001b[0m\u001b[0m\n\u001b[0;32m    655\u001b[0m             msg = self.msg(msg_or_type, content=content, parent=parent,\n\u001b[1;32m--> 656\u001b[1;33m                            header=header, metadata=metadata)\n\u001b[0m\u001b[0;32m    657\u001b[0m         \u001b[1;32mif\u001b[0m \u001b[1;32mnot\u001b[0m \u001b[0mos\u001b[0m\u001b[1;33m.\u001b[0m\u001b[0mgetpid\u001b[0m\u001b[1;33m(\u001b[0m\u001b[1;33m)\u001b[0m \u001b[1;33m==\u001b[0m \u001b[0mself\u001b[0m\u001b[1;33m.\u001b[0m\u001b[0mpid\u001b[0m\u001b[1;33m:\u001b[0m\u001b[1;33m\u001b[0m\u001b[0m\n\u001b[0;32m    658\u001b[0m             get_logger().warn(\"WARNING: attempted to send message from fork\\n%s\",\n",
      "\u001b[1;32m/home/andrey/programming/miniconda3/lib/python3.4/site-packages/jupyter_client/session.py\u001b[0m in \u001b[0;36mmsg\u001b[1;34m(self, msg_type, content, parent, header, metadata)\u001b[0m\n\u001b[0;32m    513\u001b[0m         \"\"\"\n\u001b[0;32m    514\u001b[0m         \u001b[0mmsg\u001b[0m \u001b[1;33m=\u001b[0m \u001b[1;33m{\u001b[0m\u001b[1;33m}\u001b[0m\u001b[1;33m\u001b[0m\u001b[0m\n\u001b[1;32m--> 515\u001b[1;33m         \u001b[0mheader\u001b[0m \u001b[1;33m=\u001b[0m \u001b[0mself\u001b[0m\u001b[1;33m.\u001b[0m\u001b[0mmsg_header\u001b[0m\u001b[1;33m(\u001b[0m\u001b[0mmsg_type\u001b[0m\u001b[1;33m)\u001b[0m \u001b[1;32mif\u001b[0m \u001b[0mheader\u001b[0m \u001b[1;32mis\u001b[0m \u001b[1;32mNone\u001b[0m \u001b[1;32melse\u001b[0m \u001b[0mheader\u001b[0m\u001b[1;33m\u001b[0m\u001b[0m\n\u001b[0m\u001b[0;32m    516\u001b[0m         \u001b[0mmsg\u001b[0m\u001b[1;33m[\u001b[0m\u001b[1;34m'header'\u001b[0m\u001b[1;33m]\u001b[0m \u001b[1;33m=\u001b[0m \u001b[0mheader\u001b[0m\u001b[1;33m\u001b[0m\u001b[0m\n\u001b[0;32m    517\u001b[0m         \u001b[0mmsg\u001b[0m\u001b[1;33m[\u001b[0m\u001b[1;34m'msg_id'\u001b[0m\u001b[1;33m]\u001b[0m \u001b[1;33m=\u001b[0m \u001b[0mheader\u001b[0m\u001b[1;33m[\u001b[0m\u001b[1;34m'msg_id'\u001b[0m\u001b[1;33m]\u001b[0m\u001b[1;33m\u001b[0m\u001b[0m\n",
      "\u001b[1;32m/home/andrey/programming/miniconda3/lib/python3.4/site-packages/jupyter_client/session.py\u001b[0m in \u001b[0;36mmsg_header\u001b[1;34m(self, msg_type)\u001b[0m\n\u001b[0;32m    503\u001b[0m \u001b[1;33m\u001b[0m\u001b[0m\n\u001b[0;32m    504\u001b[0m     \u001b[1;32mdef\u001b[0m \u001b[0mmsg_header\u001b[0m\u001b[1;33m(\u001b[0m\u001b[0mself\u001b[0m\u001b[1;33m,\u001b[0m \u001b[0mmsg_type\u001b[0m\u001b[1;33m)\u001b[0m\u001b[1;33m:\u001b[0m\u001b[1;33m\u001b[0m\u001b[0m\n\u001b[1;32m--> 505\u001b[1;33m         \u001b[1;32mreturn\u001b[0m \u001b[0mmsg_header\u001b[0m\u001b[1;33m(\u001b[0m\u001b[0mself\u001b[0m\u001b[1;33m.\u001b[0m\u001b[0mmsg_id\u001b[0m\u001b[1;33m,\u001b[0m \u001b[0mmsg_type\u001b[0m\u001b[1;33m,\u001b[0m \u001b[0mself\u001b[0m\u001b[1;33m.\u001b[0m\u001b[0musername\u001b[0m\u001b[1;33m,\u001b[0m \u001b[0mself\u001b[0m\u001b[1;33m.\u001b[0m\u001b[0msession\u001b[0m\u001b[1;33m)\u001b[0m\u001b[1;33m\u001b[0m\u001b[0m\n\u001b[0m\u001b[0;32m    506\u001b[0m \u001b[1;33m\u001b[0m\u001b[0m\n\u001b[0;32m    507\u001b[0m     \u001b[1;32mdef\u001b[0m \u001b[0mmsg\u001b[0m\u001b[1;33m(\u001b[0m\u001b[0mself\u001b[0m\u001b[1;33m,\u001b[0m \u001b[0mmsg_type\u001b[0m\u001b[1;33m,\u001b[0m \u001b[0mcontent\u001b[0m\u001b[1;33m=\u001b[0m\u001b[1;32mNone\u001b[0m\u001b[1;33m,\u001b[0m \u001b[0mparent\u001b[0m\u001b[1;33m=\u001b[0m\u001b[1;32mNone\u001b[0m\u001b[1;33m,\u001b[0m \u001b[0mheader\u001b[0m\u001b[1;33m=\u001b[0m\u001b[1;32mNone\u001b[0m\u001b[1;33m,\u001b[0m \u001b[0mmetadata\u001b[0m\u001b[1;33m=\u001b[0m\u001b[1;32mNone\u001b[0m\u001b[1;33m)\u001b[0m\u001b[1;33m:\u001b[0m\u001b[1;33m\u001b[0m\u001b[0m\n",
      "\u001b[1;32m/home/andrey/programming/miniconda3/lib/python3.4/site-packages/jupyter_client/session.py\u001b[0m in \u001b[0;36mmsg_id\u001b[1;34m(self)\u001b[0m\n\u001b[0;32m    453\u001b[0m     \u001b[1;32mdef\u001b[0m \u001b[0mmsg_id\u001b[0m\u001b[1;33m(\u001b[0m\u001b[0mself\u001b[0m\u001b[1;33m)\u001b[0m\u001b[1;33m:\u001b[0m\u001b[1;33m\u001b[0m\u001b[0m\n\u001b[0;32m    454\u001b[0m         \u001b[1;34m\"\"\"always return new uuid\"\"\"\u001b[0m\u001b[1;33m\u001b[0m\u001b[0m\n\u001b[1;32m--> 455\u001b[1;33m         \u001b[1;32mreturn\u001b[0m \u001b[0mstr\u001b[0m\u001b[1;33m(\u001b[0m\u001b[0muuid\u001b[0m\u001b[1;33m.\u001b[0m\u001b[0muuid4\u001b[0m\u001b[1;33m(\u001b[0m\u001b[1;33m)\u001b[0m\u001b[1;33m)\u001b[0m\u001b[1;33m\u001b[0m\u001b[0m\n\u001b[0m\u001b[0;32m    456\u001b[0m \u001b[1;33m\u001b[0m\u001b[0m\n\u001b[0;32m    457\u001b[0m     \u001b[1;32mdef\u001b[0m \u001b[0m_check_packers\u001b[0m\u001b[1;33m(\u001b[0m\u001b[0mself\u001b[0m\u001b[1;33m)\u001b[0m\u001b[1;33m:\u001b[0m\u001b[1;33m\u001b[0m\u001b[0m\n",
      "\u001b[1;32m/home/andrey/programming/miniconda3/lib/python3.4/uuid.py\u001b[0m in \u001b[0;36muuid4\u001b[1;34m()\u001b[0m\n\u001b[0;32m    600\u001b[0m     \u001b[1;32mif\u001b[0m \u001b[0m_uuid_generate_random\u001b[0m\u001b[1;33m:\u001b[0m\u001b[1;33m\u001b[0m\u001b[0m\n\u001b[0;32m    601\u001b[0m         \u001b[0m_buffer\u001b[0m \u001b[1;33m=\u001b[0m \u001b[0mctypes\u001b[0m\u001b[1;33m.\u001b[0m\u001b[0mcreate_string_buffer\u001b[0m\u001b[1;33m(\u001b[0m\u001b[1;36m16\u001b[0m\u001b[1;33m)\u001b[0m\u001b[1;33m\u001b[0m\u001b[0m\n\u001b[1;32m--> 602\u001b[1;33m         \u001b[0m_uuid_generate_random\u001b[0m\u001b[1;33m(\u001b[0m\u001b[0m_buffer\u001b[0m\u001b[1;33m)\u001b[0m\u001b[1;33m\u001b[0m\u001b[0m\n\u001b[0m\u001b[0;32m    603\u001b[0m         \u001b[1;32mreturn\u001b[0m \u001b[0mUUID\u001b[0m\u001b[1;33m(\u001b[0m\u001b[0mbytes\u001b[0m\u001b[1;33m=\u001b[0m\u001b[0mbytes_\u001b[0m\u001b[1;33m(\u001b[0m\u001b[0m_buffer\u001b[0m\u001b[1;33m.\u001b[0m\u001b[0mraw\u001b[0m\u001b[1;33m)\u001b[0m\u001b[1;33m)\u001b[0m\u001b[1;33m\u001b[0m\u001b[0m\n\u001b[0;32m    604\u001b[0m \u001b[1;33m\u001b[0m\u001b[0m\n",
      "\u001b[1;31mKeyboardInterrupt\u001b[0m: "
     ]
    }
   ],
   "source": [
    "sum_list = [] \n",
    "for name in tqdm_notebook(full_list, desc='1st loop'):\n",
    "    for i in tqdm_notebook(sum_list, desc='2st loop', leave = False):\n",
    "        sum_list.append(name + i)"
   ]
  },
  {
   "cell_type": "code",
   "execution_count": 20,
   "metadata": {
    "collapsed": false
   },
   "outputs": [
    {
     "name": "stderr",
     "output_type": "stream",
     "text": [
      "1st loop:   0%|                                         | 0/10 [00:00<?, ?it/s]\n",
      "2nd loop:   0%|                                          | 0/5 [00:00<?, ?it/s]\n",
      "\n",
      "3nd loop:   0%|                                        | 0/100 [00:00<?, ?it/s]\n",
      "\n",
      "3nd loop:  10%|███                            | 10/100 [00:00<00:01, 85.19it/s]\n",
      "\n",
      "3nd loop:  20%|██████▏                        | 20/100 [00:00<00:00, 87.49it/s]\n",
      "\n",
      "3nd loop:  29%|████████▉                      | 29/100 [00:00<00:00, 84.42it/s]\n",
      "\n",
      "3nd loop:  39%|████████████                   | 39/100 [00:00<00:00, 84.69it/s]\n",
      "\n",
      "3nd loop:  48%|██████████████▉                | 48/100 [00:00<00:00, 83.47it/s]\n",
      "\n",
      "3nd loop:  57%|█████████████████▋             | 57/100 [00:00<00:00, 83.18it/s]\n",
      "\n",
      "3nd loop:  66%|████████████████████▍          | 66/100 [00:00<00:00, 84.99it/s]\n",
      "\n",
      "3nd loop:  75%|███████████████████████▎       | 75/100 [00:00<00:00, 85.91it/s]\n",
      "\n",
      "3nd loop:  85%|██████████████████████████▎    | 85/100 [00:00<00:00, 87.82it/s]\n",
      "\n",
      "3nd loop:  94%|█████████████████████████████▏ | 94/100 [00:01<00:00, 88.14it/s]\n",
      "\n",
      "3nd loop: 100%|██████████████████████████████| 100/100 [00:01<00:00, 86.66it/s]\n",
      "2nd loop:  20%|██████▊                           | 1/5 [00:01<00:04,  1.16s/it]\n",
      "\n",
      "3nd loop:   0%|                                        | 0/100 [00:00<?, ?it/s]\n",
      "\n",
      "3nd loop:  10%|███                            | 10/100 [00:00<00:00, 95.75it/s]\n",
      "\n",
      "3nd loop:  19%|█████▉                         | 19/100 [00:00<00:00, 93.90it/s]\n",
      "\n",
      "3nd loop:  29%|████████▉                      | 29/100 [00:00<00:00, 92.85it/s]\n",
      "\n",
      "3nd loop:  38%|███████████▊                   | 38/100 [00:00<00:00, 90.50it/s]\n",
      "\n",
      "3nd loop:  48%|██████████████▉                | 48/100 [00:00<00:00, 90.28it/s]\n",
      "\n",
      "3nd loop:  57%|█████████████████▋             | 57/100 [00:00<00:00, 87.47it/s]\n",
      "\n",
      "3nd loop:  67%|████████████████████▊          | 67/100 [00:00<00:00, 89.36it/s]\n",
      "\n",
      "3nd loop:  77%|███████████████████████▊       | 77/100 [00:00<00:00, 89.26it/s]\n",
      "\n",
      "3nd loop:  87%|██████████████████████████▉    | 87/100 [00:00<00:00, 91.54it/s]\n",
      "\n",
      "3nd loop:  97%|██████████████████████████████ | 97/100 [00:01<00:00, 89.99it/s]\n",
      "\n",
      "3nd loop: 100%|██████████████████████████████| 100/100 [00:01<00:00, 89.95it/s]\n",
      "2nd loop:  40%|█████████████▌                    | 2/5 [00:02<00:03,  1.15s/it]\n",
      "\n",
      "3nd loop:   0%|                                        | 0/100 [00:00<?, ?it/s]\n",
      "\n",
      "3nd loop:   9%|██▉                             | 9/100 [00:00<00:01, 89.21it/s]\n",
      "\n",
      "3nd loop:  18%|█████▌                         | 18/100 [00:00<00:00, 87.96it/s]\n",
      "\n",
      "3nd loop:  27%|████████▎                      | 27/100 [00:00<00:00, 87.85it/s]\n",
      "\n",
      "3nd loop:  37%|███████████▍                   | 37/100 [00:00<00:00, 90.14it/s]\n",
      "\n",
      "3nd loop:  47%|██████████████▌                | 47/100 [00:00<00:00, 90.86it/s]\n",
      "\n",
      "3nd loop:  55%|█████████████████              | 55/100 [00:00<00:00, 86.07it/s]\n",
      "\n",
      "3nd loop:  64%|███████████████████▊           | 64/100 [00:00<00:00, 85.49it/s]\n",
      "\n",
      "3nd loop:  73%|██████████████████████▋        | 73/100 [00:00<00:00, 85.31it/s]\n",
      "\n",
      "3nd loop:  82%|█████████████████████████▍     | 82/100 [00:00<00:00, 86.40it/s]\n",
      "\n",
      "3nd loop:  92%|████████████████████████████▌  | 92/100 [00:01<00:00, 87.88it/s]\n",
      "\n",
      "3nd loop: 100%|██████████████████████████████| 100/100 [00:01<00:00, 87.33it/s]\n",
      "2nd loop:  60%|████████████████████▍             | 3/5 [00:03<00:02,  1.15s/it]\n",
      "\n",
      "3nd loop:   0%|                                        | 0/100 [00:00<?, ?it/s]\n",
      "\n",
      "3nd loop:  10%|███                            | 10/100 [00:00<00:01, 89.24it/s]\n",
      "\n",
      "3nd loop:  19%|█████▉                         | 19/100 [00:00<00:00, 88.62it/s]\n",
      "\n",
      "3nd loop:  29%|████████▉                      | 29/100 [00:00<00:00, 88.50it/s]\n",
      "\n",
      "3nd loop:  39%|████████████                   | 39/100 [00:00<00:00, 91.05it/s]\n",
      "\n",
      "3nd loop:  48%|██████████████▉                | 48/100 [00:00<00:00, 90.67it/s]\n",
      "\n",
      "3nd loop:  58%|█████████████████▉             | 58/100 [00:00<00:00, 88.98it/s]\n",
      "\n",
      "3nd loop:  68%|█████████████████████          | 68/100 [00:00<00:00, 91.07it/s]\n",
      "\n",
      "3nd loop:  77%|███████████████████████▊       | 77/100 [00:00<00:00, 90.05it/s]\n",
      "\n",
      "3nd loop:  87%|██████████████████████████▉    | 87/100 [00:00<00:00, 91.00it/s]\n",
      "\n",
      "3nd loop:  96%|█████████████████████████████▊ | 96/100 [00:01<00:00, 87.33it/s]\n",
      "\n",
      "3nd loop: 100%|██████████████████████████████| 100/100 [00:01<00:00, 89.46it/s]\n",
      "2nd loop:  80%|███████████████████████████▏      | 4/5 [00:04<00:01,  1.15s/it]\n",
      "\n",
      "3nd loop:   0%|                                        | 0/100 [00:00<?, ?it/s]\n",
      "\n",
      "3nd loop:  10%|███                            | 10/100 [00:00<00:01, 86.09it/s]\n",
      "\n",
      "3nd loop:  20%|██████▏                        | 20/100 [00:00<00:00, 89.07it/s]\n",
      "\n",
      "3nd loop:  30%|█████████▎                     | 30/100 [00:00<00:00, 89.83it/s]\n",
      "\n",
      "3nd loop:  39%|████████████                   | 39/100 [00:00<00:00, 88.46it/s]\n",
      "\n",
      "3nd loop:  48%|██████████████▉                | 48/100 [00:00<00:00, 87.96it/s]\n",
      "\n",
      "3nd loop:  58%|█████████████████▉             | 58/100 [00:00<00:00, 89.18it/s]\n",
      "\n",
      "3nd loop:  68%|█████████████████████          | 68/100 [00:00<00:00, 90.29it/s]\n",
      "\n",
      "3nd loop:  77%|███████████████████████▊       | 77/100 [00:00<00:00, 90.17it/s]\n",
      "\n",
      "3nd loop:  87%|██████████████████████████▉    | 87/100 [00:00<00:00, 92.59it/s]\n",
      "\n",
      "3nd loop:  97%|██████████████████████████████ | 97/100 [00:01<00:00, 92.90it/s]\n",
      "\n",
      "3nd loop: 100%|██████████████████████████████| 100/100 [00:01<00:00, 90.93it/s]\n",
      "2nd loop: 100%|██████████████████████████████████| 5/5 [00:05<00:00,  1.14s/it]\n",
      "1st loop:  10%|███▎                             | 1/10 [00:05<00:51,  5.70s/it]\n",
      "2nd loop:   0%|                                          | 0/5 [00:00<?, ?it/s]\n",
      "\n",
      "3nd loop:   0%|                                        | 0/100 [00:00<?, ?it/s]\n",
      "\n",
      "3nd loop:  10%|███                            | 10/100 [00:00<00:00, 96.83it/s]\n",
      "\n",
      "3nd loop:  20%|██████▏                        | 20/100 [00:00<00:00, 94.48it/s]\n",
      "\n",
      "3nd loop:  30%|█████████▎                     | 30/100 [00:00<00:00, 95.49it/s]\n",
      "\n",
      "3nd loop:  38%|███████████▊                   | 38/100 [00:00<00:00, 90.17it/s]\n",
      "\n",
      "3nd loop:  47%|██████████████▌                | 47/100 [00:00<00:00, 90.05it/s]\n",
      "\n",
      "3nd loop:  57%|█████████████████▋             | 57/100 [00:00<00:00, 91.01it/s]\n",
      "\n",
      "3nd loop:  65%|████████████████████▏          | 65/100 [00:00<00:00, 87.22it/s]\n",
      "\n",
      "3nd loop:  75%|███████████████████████▎       | 75/100 [00:00<00:00, 89.34it/s]\n",
      "\n",
      "3nd loop:  85%|██████████████████████████▎    | 85/100 [00:00<00:00, 90.78it/s]\n",
      "\n",
      "3nd loop:  95%|█████████████████████████████▍ | 95/100 [00:01<00:00, 90.63it/s]\n",
      "\n",
      "3nd loop: 100%|██████████████████████████████| 100/100 [00:01<00:00, 90.82it/s]\n",
      "2nd loop:  20%|██████▊                           | 1/5 [00:01<00:04,  1.11s/it]\n",
      "\n",
      "3nd loop:   0%|                                        | 0/100 [00:00<?, ?it/s]\n",
      "\n",
      "3nd loop:  10%|███                            | 10/100 [00:00<00:00, 97.53it/s]\n",
      "\n",
      "3nd loop:  20%|██████▏                        | 20/100 [00:00<00:00, 96.25it/s]\n",
      "\n",
      "3nd loop:  30%|█████████▎                     | 30/100 [00:00<00:00, 95.09it/s]\n",
      "\n",
      "3nd loop:  40%|████████████▍                  | 40/100 [00:00<00:00, 93.78it/s]\n",
      "\n",
      "3nd loop:  49%|███████████████▏               | 49/100 [00:00<00:00, 92.43it/s]\n",
      "\n",
      "3nd loop:  59%|██████████████████▎            | 59/100 [00:00<00:00, 93.26it/s]\n",
      "\n",
      "3nd loop:  68%|█████████████████████          | 68/100 [00:00<00:00, 87.64it/s]\n",
      "\n",
      "3nd loop:  77%|███████████████████████▊       | 77/100 [00:00<00:00, 86.50it/s]\n",
      "\n",
      "3nd loop:  86%|██████████████████████████▋    | 86/100 [00:00<00:00, 85.00it/s]\n",
      "\n",
      "3nd loop:  95%|█████████████████████████████▍ | 95/100 [00:01<00:00, 81.53it/s]\n",
      "\n",
      "3nd loop: 100%|██████████████████████████████| 100/100 [00:01<00:00, 87.43it/s]\n",
      "2nd loop:  40%|█████████████▌                    | 2/5 [00:02<00:03,  1.12s/it]\n",
      "\n",
      "3nd loop:   0%|                                        | 0/100 [00:00<?, ?it/s]\n",
      "\n",
      "3nd loop:  10%|███                            | 10/100 [00:00<00:00, 95.33it/s]\n",
      "\n",
      "3nd loop:  19%|█████▉                         | 19/100 [00:00<00:00, 92.79it/s]\n",
      "\n",
      "3nd loop:  29%|████████▉                      | 29/100 [00:00<00:00, 92.69it/s]\n",
      "\n",
      "3nd loop:  39%|████████████                   | 39/100 [00:00<00:00, 93.23it/s]\n",
      "\n",
      "3nd loop:  48%|██████████████▉                | 48/100 [00:00<00:00, 91.77it/s]\n",
      "\n",
      "3nd loop:  58%|█████████████████▉             | 58/100 [00:00<00:00, 91.48it/s]\n",
      "\n",
      "3nd loop:  68%|█████████████████████          | 68/100 [00:00<00:00, 92.35it/s]\n",
      "\n",
      "3nd loop:  78%|████████████████████████▏      | 78/100 [00:00<00:00, 93.70it/s]\n",
      "\n",
      "3nd loop:  88%|███████████████████████████▎   | 88/100 [00:00<00:00, 93.57it/s]\n",
      "\n",
      "3nd loop:  97%|██████████████████████████████ | 97/100 [00:01<00:00, 92.39it/s]\n",
      "\n",
      "3nd loop: 100%|██████████████████████████████| 100/100 [00:01<00:00, 91.80it/s]\n",
      "2nd loop:  60%|████████████████████▍             | 3/5 [00:03<00:02,  1.11s/it]\n",
      "\n",
      "3nd loop:   0%|                                        | 0/100 [00:00<?, ?it/s]\n",
      "\n",
      "3nd loop:  10%|███                            | 10/100 [00:00<00:00, 94.76it/s]\n",
      "\n",
      "3nd loop:  20%|██████▏                        | 20/100 [00:00<00:00, 95.81it/s]\n",
      "\n",
      "3nd loop:  29%|████████▉                      | 29/100 [00:00<00:00, 90.71it/s]\n",
      "\n",
      "3nd loop:  37%|███████████▍                   | 37/100 [00:00<00:00, 85.44it/s]\n",
      "\n",
      "3nd loop:  47%|██████████████▌                | 47/100 [00:00<00:00, 86.27it/s]\n",
      "\n",
      "3nd loop:  56%|█████████████████▎             | 56/100 [00:00<00:00, 85.50it/s]\n",
      "\n",
      "3nd loop:  65%|████████████████████▏          | 65/100 [00:00<00:00, 86.20it/s]\n",
      "\n",
      "3nd loop:  73%|██████████████████████▋        | 73/100 [00:00<00:00, 83.91it/s]\n",
      "\n",
      "3nd loop:  82%|█████████████████████████▍     | 82/100 [00:00<00:00, 81.24it/s]\n",
      "\n",
      "3nd loop:  92%|████████████████████████████▌  | 92/100 [00:01<00:00, 85.36it/s]\n",
      "\n",
      "3nd loop: 100%|██████████████████████████████| 100/100 [00:01<00:00, 86.03it/s]\n",
      "2nd loop:  80%|███████████████████████████▏      | 4/5 [00:04<00:01,  1.13s/it]\n",
      "\n",
      "3nd loop:   0%|                                        | 0/100 [00:00<?, ?it/s]\n",
      "\n",
      "3nd loop:  10%|███                            | 10/100 [00:00<00:00, 98.07it/s]\n",
      "\n",
      "3nd loop:  20%|██████▏                        | 20/100 [00:00<00:00, 93.29it/s]\n",
      "\n",
      "3nd loop:  29%|████████▉                      | 29/100 [00:00<00:00, 91.57it/s]\n",
      "\n",
      "3nd loop:  39%|████████████                   | 39/100 [00:00<00:00, 91.18it/s]\n",
      "\n",
      "3nd loop:  47%|██████████████▌                | 47/100 [00:00<00:00, 86.41it/s]\n",
      "\n",
      "3nd loop:  56%|█████████████████▎             | 56/100 [00:00<00:00, 86.09it/s]\n",
      "\n",
      "3nd loop:  65%|████████████████████▏          | 65/100 [00:00<00:00, 85.53it/s]\n",
      "\n",
      "3nd loop:  74%|██████████████████████▉        | 74/100 [00:00<00:00, 84.89it/s]\n",
      "\n",
      "3nd loop:  84%|██████████████████████████     | 84/100 [00:00<00:00, 86.94it/s]\n",
      "\n",
      "3nd loop:  93%|████████████████████████████▊  | 93/100 [00:01<00:00, 84.44it/s]\n",
      "\n",
      "3nd loop: 100%|██████████████████████████████| 100/100 [00:01<00:00, 86.19it/s]\n",
      "2nd loop: 100%|██████████████████████████████████| 5/5 [00:05<00:00,  1.14s/it]\n",
      "1st loop:  20%|██████▌                          | 2/10 [00:11<00:45,  5.71s/it]\n",
      "2nd loop:   0%|                                          | 0/5 [00:00<?, ?it/s]\n",
      "\n",
      "3nd loop:   0%|                                        | 0/100 [00:00<?, ?it/s]\n",
      "\n",
      "3nd loop:   9%|██▉                             | 9/100 [00:00<00:01, 89.74it/s]\n",
      "\n",
      "3nd loop:  19%|█████▉                         | 19/100 [00:00<00:00, 91.94it/s]\n",
      "\n",
      "3nd loop:  28%|████████▋                      | 28/100 [00:00<00:00, 91.32it/s]\n",
      "\n",
      "3nd loop:  38%|███████████▊                   | 38/100 [00:00<00:00, 91.90it/s]\n",
      "\n",
      "3nd loop:  47%|██████████████▌                | 47/100 [00:00<00:00, 89.25it/s]\n",
      "\n",
      "3nd loop:  57%|█████████████████▋             | 57/100 [00:00<00:00, 90.21it/s]\n",
      "\n",
      "3nd loop:  66%|████████████████████▍          | 66/100 [00:00<00:00, 86.92it/s]\n",
      "\n",
      "3nd loop:  75%|███████████████████████▎       | 75/100 [00:00<00:00, 87.48it/s]\n",
      "\n",
      "3nd loop:  84%|██████████████████████████     | 84/100 [00:00<00:00, 83.59it/s]\n",
      "\n",
      "3nd loop:  93%|████████████████████████████▊  | 93/100 [00:01<00:00, 84.76it/s]\n",
      "\n",
      "3nd loop: 100%|██████████████████████████████| 100/100 [00:01<00:00, 88.18it/s]\n",
      "2nd loop:  20%|██████▊                           | 1/5 [00:01<00:04,  1.14s/it]\n",
      "\n",
      "3nd loop:   0%|                                        | 0/100 [00:00<?, ?it/s]\n",
      "\n",
      "3nd loop:  10%|███                            | 10/100 [00:00<00:01, 85.65it/s]\n",
      "\n",
      "3nd loop:  20%|██████▏                        | 20/100 [00:00<00:00, 88.86it/s]\n",
      "\n",
      "3nd loop:  30%|█████████▎                     | 30/100 [00:00<00:00, 89.25it/s]\n",
      "\n",
      "3nd loop:  39%|████████████                   | 39/100 [00:00<00:00, 87.83it/s]\n",
      "\n",
      "3nd loop:  48%|██████████████▉                | 48/100 [00:00<00:00, 85.19it/s]\n",
      "\n",
      "3nd loop:  58%|█████████████████▉             | 58/100 [00:00<00:00, 87.43it/s]\n",
      "\n",
      "3nd loop:  67%|████████████████████▊          | 67/100 [00:00<00:00, 88.07it/s]\n",
      "\n",
      "3nd loop:  77%|███████████████████████▊       | 77/100 [00:00<00:00, 89.11it/s]\n",
      "\n",
      "3nd loop:  86%|██████████████████████████▋    | 86/100 [00:00<00:00, 87.49it/s]\n",
      "\n",
      "3nd loop:  96%|█████████████████████████████▊ | 96/100 [00:01<00:00, 89.94it/s]\n",
      "\n",
      "3nd loop: 100%|██████████████████████████████| 100/100 [00:01<00:00, 88.91it/s]\n",
      "2nd loop:  40%|█████████████▌                    | 2/5 [00:02<00:03,  1.14s/it]\n",
      "\n",
      "3nd loop:   0%|                                        | 0/100 [00:00<?, ?it/s]\n",
      "\n",
      "3nd loop:   9%|██▉                             | 9/100 [00:00<00:01, 85.54it/s]\n",
      "\n",
      "3nd loop:  19%|█████▉                         | 19/100 [00:00<00:00, 88.69it/s]\n",
      "\n",
      "3nd loop:  28%|████████▋                      | 28/100 [00:00<00:00, 88.88it/s]\n",
      "\n",
      "3nd loop:  38%|███████████▊                   | 38/100 [00:00<00:00, 87.38it/s]\n",
      "\n",
      "3nd loop:  48%|██████████████▉                | 48/100 [00:00<00:00, 89.07it/s]\n",
      "\n",
      "3nd loop:  58%|█████████████████▉             | 58/100 [00:00<00:00, 90.55it/s]\n",
      "\n",
      "3nd loop:  67%|████████████████████▊          | 67/100 [00:00<00:00, 90.22it/s]\n",
      "\n",
      "3nd loop:  76%|███████████████████████▌       | 76/100 [00:00<00:00, 86.07it/s]\n",
      "\n",
      "3nd loop:  86%|██████████████████████████▋    | 86/100 [00:00<00:00, 87.54it/s]\n",
      "\n",
      "3nd loop:  96%|█████████████████████████████▊ | 96/100 [00:01<00:00, 90.58it/s]\n",
      "\n",
      "3nd loop: 100%|██████████████████████████████| 100/100 [00:01<00:00, 89.80it/s]\n",
      "2nd loop:  60%|████████████████████▍             | 3/5 [00:03<00:02,  1.13s/it]\n",
      "\n",
      "3nd loop:   0%|                                        | 0/100 [00:00<?, ?it/s]\n",
      "\n",
      "3nd loop:  10%|███                            | 10/100 [00:00<00:00, 95.99it/s]\n",
      "\n",
      "3nd loop:  19%|█████▉                         | 19/100 [00:00<00:00, 93.08it/s]\n",
      "\n",
      "3nd loop:  29%|████████▉                      | 29/100 [00:00<00:00, 94.33it/s]\n",
      "\n",
      "3nd loop:  38%|███████████▊                   | 38/100 [00:00<00:00, 91.54it/s]\n",
      "\n",
      "3nd loop:  47%|██████████████▌                | 47/100 [00:00<00:00, 89.62it/s]\n",
      "\n",
      "3nd loop:  57%|█████████████████▋             | 57/100 [00:00<00:00, 91.89it/s]\n",
      "\n",
      "3nd loop:  67%|████████████████████▊          | 67/100 [00:00<00:00, 89.55it/s]\n",
      "\n",
      "3nd loop:  77%|███████████████████████▊       | 77/100 [00:00<00:00, 89.18it/s]\n",
      "\n",
      "3nd loop:  87%|██████████████████████████▉    | 87/100 [00:00<00:00, 88.02it/s]\n",
      "\n",
      "3nd loop:  97%|██████████████████████████████ | 97/100 [00:01<00:00, 90.02it/s]\n",
      "\n",
      "3nd loop: 100%|██████████████████████████████| 100/100 [00:01<00:00, 89.35it/s]\n",
      "2nd loop:  80%|███████████████████████████▏      | 4/5 [00:04<00:01,  1.13s/it]\n",
      "\n",
      "3nd loop:   0%|                                        | 0/100 [00:00<?, ?it/s]\n",
      "\n",
      "3nd loop:  10%|███                            | 10/100 [00:00<00:00, 96.72it/s]\n",
      "\n",
      "3nd loop:  20%|██████▏                        | 20/100 [00:00<00:00, 97.38it/s]\n",
      "\n",
      "3nd loop:  30%|█████████▎                     | 30/100 [00:00<00:00, 95.45it/s]\n",
      "\n",
      "3nd loop:  39%|████████████                   | 39/100 [00:00<00:00, 91.71it/s]\n",
      "\n",
      "3nd loop:  49%|███████████████▏               | 49/100 [00:00<00:00, 93.46it/s]\n",
      "\n",
      "3nd loop:  59%|██████████████████▎            | 59/100 [00:00<00:00, 92.83it/s]\n",
      "\n",
      "3nd loop:  69%|█████████████████████▍         | 69/100 [00:00<00:00, 91.89it/s]\n",
      "\n",
      "3nd loop:  78%|████████████████████████▏      | 78/100 [00:00<00:00, 87.85it/s]\n",
      "\n",
      "3nd loop:  87%|██████████████████████████▉    | 87/100 [00:00<00:00, 85.74it/s]\n",
      "\n",
      "3nd loop:  96%|█████████████████████████████▊ | 96/100 [00:01<00:00, 86.56it/s]\n",
      "\n",
      "3nd loop: 100%|██████████████████████████████| 100/100 [00:01<00:00, 90.01it/s]\n",
      "2nd loop: 100%|██████████████████████████████████| 5/5 [00:05<00:00,  1.13s/it]\n",
      "1st loop:  30%|█████████▉                       | 3/10 [00:17<00:39,  5.69s/it]\n",
      "2nd loop:   0%|                                          | 0/5 [00:00<?, ?it/s]\n",
      "\n",
      "3nd loop:   0%|                                        | 0/100 [00:00<?, ?it/s]\n",
      "\n",
      "3nd loop:  10%|███                            | 10/100 [00:00<00:00, 90.76it/s]\n",
      "\n",
      "3nd loop:  19%|█████▉                         | 19/100 [00:00<00:00, 89.19it/s]\n",
      "\n",
      "3nd loop:  27%|████████▎                      | 27/100 [00:00<00:00, 86.17it/s]\n",
      "\n",
      "3nd loop:  36%|███████████▏                   | 36/100 [00:00<00:00, 83.50it/s]\n",
      "\n",
      "3nd loop:  45%|█████████████▉                 | 45/100 [00:00<00:00, 83.94it/s]\n",
      "\n",
      "3nd loop:  53%|████████████████▍              | 53/100 [00:00<00:00, 80.12it/s]\n",
      "\n",
      "3nd loop:  62%|███████████████████▏           | 62/100 [00:00<00:00, 80.75it/s]\n",
      "\n",
      "3nd loop:  71%|██████████████████████         | 71/100 [00:00<00:00, 81.38it/s]\n",
      "\n",
      "3nd loop:  80%|████████████████████████▊      | 80/100 [00:00<00:00, 82.62it/s]\n",
      "\n",
      "3nd loop:  88%|███████████████████████████▎   | 88/100 [00:01<00:00, 78.52it/s]\n",
      "\n",
      "3nd loop:  98%|██████████████████████████████▍| 98/100 [00:01<00:00, 81.83it/s]\n",
      "\n",
      "3nd loop: 100%|██████████████████████████████| 100/100 [00:01<00:00, 82.21it/s]\n",
      "2nd loop:  20%|██████▊                           | 1/5 [00:01<00:04,  1.22s/it]\n",
      "\n",
      "3nd loop:   0%|                                        | 0/100 [00:00<?, ?it/s]\n",
      "\n",
      "3nd loop:  10%|███                            | 10/100 [00:00<00:00, 93.75it/s]\n",
      "\n",
      "3nd loop:  19%|█████▉                         | 19/100 [00:00<00:00, 89.21it/s]\n",
      "\n",
      "3nd loop:  29%|████████▉                      | 29/100 [00:00<00:00, 90.95it/s]\n",
      "\n",
      "3nd loop:  38%|███████████▊                   | 38/100 [00:00<00:00, 88.60it/s]\n",
      "\n",
      "3nd loop:  47%|██████████████▌                | 47/100 [00:00<00:00, 88.89it/s]\n",
      "\n",
      "3nd loop:  56%|█████████████████▎             | 56/100 [00:00<00:00, 89.19it/s]\n",
      "\n",
      "3nd loop:  66%|████████████████████▍          | 66/100 [00:00<00:00, 91.06it/s]\n",
      "\n",
      "3nd loop:  75%|███████████████████████▎       | 75/100 [00:00<00:00, 86.79it/s]\n",
      "\n",
      "3nd loop:  85%|██████████████████████████▎    | 85/100 [00:00<00:00, 88.11it/s]\n",
      "\n",
      "3nd loop:  94%|█████████████████████████████▏ | 94/100 [00:01<00:00, 86.29it/s]\n",
      "\n",
      "3nd loop: 100%|██████████████████████████████| 100/100 [00:01<00:00, 87.43it/s]\n",
      "2nd loop:  40%|█████████████▌                    | 2/5 [00:02<00:03,  1.20s/it]\n",
      "\n",
      "3nd loop:   0%|                                        | 0/100 [00:00<?, ?it/s]\n",
      "\n",
      "3nd loop:  10%|███                            | 10/100 [00:00<00:00, 96.83it/s]\n",
      "\n",
      "3nd loop:  20%|██████▏                        | 20/100 [00:00<00:00, 94.10it/s]\n",
      "\n",
      "3nd loop:  28%|████████▋                      | 28/100 [00:00<00:00, 87.89it/s]\n",
      "\n",
      "3nd loop:  37%|███████████▍                   | 37/100 [00:00<00:00, 87.65it/s]\n",
      "\n",
      "3nd loop:  46%|██████████████▎                | 46/100 [00:00<00:00, 86.89it/s]\n",
      "\n",
      "3nd loop:  55%|█████████████████              | 55/100 [00:00<00:00, 85.84it/s]\n",
      "\n",
      "3nd loop:  64%|███████████████████▊           | 64/100 [00:00<00:00, 85.32it/s]\n",
      "\n",
      "3nd loop:  73%|██████████████████████▋        | 73/100 [00:00<00:00, 86.52it/s]\n",
      "\n",
      "3nd loop:  82%|█████████████████████████▍     | 82/100 [00:00<00:00, 85.78it/s]\n",
      "\n",
      "3nd loop:  91%|████████████████████████████▏  | 91/100 [00:01<00:00, 84.53it/s]\n",
      "\n",
      "3nd loop: 100%|██████████████████████████████| 100/100 [00:01<00:00, 86.23it/s]\n",
      "2nd loop:  60%|████████████████████▍             | 3/5 [00:03<00:02,  1.20s/it]\n",
      "\n",
      "3nd loop:   0%|                                        | 0/100 [00:00<?, ?it/s]\n",
      "\n",
      "3nd loop:  10%|███                            | 10/100 [00:00<00:00, 94.31it/s]\n",
      "\n",
      "3nd loop:  20%|██████▏                        | 20/100 [00:00<00:00, 90.95it/s]\n",
      "\n",
      "3nd loop:  30%|█████████▎                     | 30/100 [00:00<00:00, 88.97it/s]\n",
      "\n",
      "3nd loop:  37%|███████████▍                   | 37/100 [00:00<00:00, 80.47it/s]\n",
      "\n",
      "3nd loop:  46%|██████████████▎                | 46/100 [00:00<00:00, 81.05it/s]\n",
      "\n",
      "3nd loop:  56%|█████████████████▎             | 56/100 [00:00<00:00, 82.88it/s]\n",
      "\n",
      "3nd loop:  65%|████████████████████▏          | 65/100 [00:00<00:00, 82.10it/s]\n",
      "\n",
      "3nd loop:  75%|███████████████████████▎       | 75/100 [00:00<00:00, 85.35it/s]\n",
      "\n",
      "3nd loop:  85%|██████████████████████████▎    | 85/100 [00:00<00:00, 88.07it/s]\n",
      "\n",
      "3nd loop:  94%|█████████████████████████████▏ | 94/100 [00:01<00:00, 87.60it/s]\n",
      "\n",
      "3nd loop: 100%|██████████████████████████████| 100/100 [00:01<00:00, 85.63it/s]\n",
      "2nd loop:  80%|███████████████████████████▏      | 4/5 [00:04<00:01,  1.19s/it]\n",
      "\n",
      "3nd loop:   0%|                                        | 0/100 [00:00<?, ?it/s]\n",
      "\n",
      "3nd loop:   9%|██▉                             | 9/100 [00:00<00:01, 82.49it/s]\n",
      "\n",
      "3nd loop:  17%|█████▎                         | 17/100 [00:00<00:01, 79.86it/s]\n",
      "\n",
      "3nd loop:  26%|████████                       | 26/100 [00:00<00:00, 81.63it/s]\n",
      "\n",
      "3nd loop:  36%|███████████▏                   | 36/100 [00:00<00:00, 83.38it/s]\n",
      "\n",
      "3nd loop:  44%|█████████████▋                 | 44/100 [00:00<00:00, 80.64it/s]\n",
      "\n",
      "3nd loop:  52%|████████████████               | 52/100 [00:00<00:00, 79.93it/s]\n",
      "\n",
      "3nd loop:  62%|███████████████████▏           | 62/100 [00:00<00:00, 83.09it/s]\n",
      "\n",
      "3nd loop:  72%|██████████████████████▎        | 72/100 [00:00<00:00, 85.63it/s]\n",
      "\n",
      "3nd loop:  81%|█████████████████████████      | 81/100 [00:00<00:00, 85.65it/s]\n",
      "\n",
      "3nd loop:  90%|███████████████████████████▉   | 90/100 [00:01<00:00, 86.58it/s]\n",
      "\n",
      "3nd loop: 100%|██████████████████████████████| 100/100 [00:01<00:00, 87.98it/s]\n",
      "\n",
      "\n",
      "2nd loop: 100%|██████████████████████████████████| 5/5 [00:05<00:00,  1.19s/it]\n",
      "1st loop:  40%|█████████████▏                   | 4/10 [00:23<00:34,  5.77s/it]\n",
      "2nd loop:   0%|                                          | 0/5 [00:00<?, ?it/s]\n",
      "\n",
      "3nd loop:   0%|                                        | 0/100 [00:00<?, ?it/s]\n",
      "\n",
      "3nd loop:  10%|███                            | 10/100 [00:00<00:01, 84.64it/s]\n",
      "\n",
      "3nd loop:  20%|██████▏                        | 20/100 [00:00<00:00, 87.71it/s]\n",
      "\n",
      "3nd loop:  29%|████████▉                      | 29/100 [00:00<00:00, 85.21it/s]\n",
      "\n",
      "3nd loop:  39%|████████████                   | 39/100 [00:00<00:00, 86.28it/s]\n",
      "\n",
      "3nd loop:  49%|███████████████▏               | 49/100 [00:00<00:00, 89.40it/s]\n",
      "\n",
      "3nd loop:  59%|██████████████████▎            | 59/100 [00:00<00:00, 89.99it/s]\n",
      "\n",
      "3nd loop:  68%|█████████████████████          | 68/100 [00:00<00:00, 88.66it/s]\n",
      "\n",
      "3nd loop:  77%|███████████████████████▊       | 77/100 [00:00<00:00, 86.33it/s]\n",
      "\n",
      "3nd loop:  86%|██████████████████████████▋    | 86/100 [00:00<00:00, 85.63it/s]\n",
      "\n",
      "3nd loop:  96%|█████████████████████████████▊ | 96/100 [00:01<00:00, 88.97it/s]\n",
      "\n",
      "3nd loop: 100%|██████████████████████████████| 100/100 [00:01<00:00, 88.63it/s]\n",
      "2nd loop:  20%|██████▊                           | 1/5 [00:01<00:04,  1.13s/it]\n",
      "\n",
      "3nd loop:   0%|                                        | 0/100 [00:00<?, ?it/s]\n",
      "\n",
      "3nd loop:  10%|███                            | 10/100 [00:00<00:01, 85.89it/s]\n",
      "\n",
      "3nd loop:  20%|██████▏                        | 20/100 [00:00<00:00, 85.90it/s]\n",
      "\n",
      "3nd loop:  29%|████████▉                      | 29/100 [00:00<00:00, 87.07it/s]\n",
      "\n",
      "3nd loop:  38%|███████████▊                   | 38/100 [00:00<00:00, 84.56it/s]\n",
      "\n",
      "3nd loop:  46%|██████████████▎                | 46/100 [00:00<00:00, 83.12it/s]\n",
      "\n",
      "3nd loop:  55%|█████████████████              | 55/100 [00:00<00:00, 83.72it/s]\n",
      "\n",
      "3nd loop:  65%|████████████████████▏          | 65/100 [00:00<00:00, 86.10it/s]\n",
      "\n",
      "3nd loop:  74%|██████████████████████▉        | 74/100 [00:00<00:00, 86.70it/s]\n",
      "\n",
      "3nd loop:  83%|█████████████████████████▋     | 83/100 [00:00<00:00, 82.83it/s]\n",
      "\n",
      "3nd loop:  93%|████████████████████████████▊  | 93/100 [00:01<00:00, 85.73it/s]\n",
      "\n",
      "3nd loop: 100%|██████████████████████████████| 100/100 [00:01<00:00, 85.93it/s]\n",
      "2nd loop:  40%|█████████████▌                    | 2/5 [00:02<00:03,  1.14s/it]\n",
      "\n",
      "3nd loop:   0%|                                        | 0/100 [00:00<?, ?it/s]\n",
      "\n",
      "3nd loop:  10%|███                            | 10/100 [00:00<00:00, 90.98it/s]\n",
      "\n",
      "3nd loop:  20%|██████▏                        | 20/100 [00:00<00:00, 92.39it/s]\n",
      "\n",
      "3nd loop:  30%|█████████▎                     | 30/100 [00:00<00:00, 93.16it/s]\n",
      "\n",
      "3nd loop:  38%|███████████▊                   | 38/100 [00:00<00:00, 88.30it/s]\n",
      "\n",
      "3nd loop:  48%|██████████████▉                | 48/100 [00:00<00:00, 87.85it/s]\n",
      "\n",
      "3nd loop:  58%|█████████████████▉             | 58/100 [00:00<00:00, 89.84it/s]\n",
      "\n",
      "3nd loop:  68%|█████████████████████          | 68/100 [00:00<00:00, 87.88it/s]\n",
      "\n",
      "3nd loop:  78%|████████████████████████▏      | 78/100 [00:00<00:00, 90.35it/s]\n",
      "\n",
      "3nd loop:  88%|███████████████████████████▎   | 88/100 [00:00<00:00, 89.57it/s]\n",
      "\n",
      "3nd loop:  97%|██████████████████████████████ | 97/100 [00:01<00:00, 87.79it/s]\n",
      "\n",
      "3nd loop: 100%|██████████████████████████████| 100/100 [00:01<00:00, 88.77it/s]\n",
      "2nd loop:  60%|████████████████████▍             | 3/5 [00:03<00:02,  1.14s/it]\n",
      "\n",
      "3nd loop:   0%|                                        | 0/100 [00:00<?, ?it/s]\n",
      "\n",
      "3nd loop:   9%|██▉                             | 9/100 [00:00<00:01, 82.21it/s]\n",
      "\n",
      "3nd loop:  18%|█████▌                         | 18/100 [00:00<00:00, 82.71it/s]\n",
      "\n",
      "3nd loop:  28%|████████▋                      | 28/100 [00:00<00:00, 83.83it/s]\n",
      "\n",
      "3nd loop:  37%|███████████▍                   | 37/100 [00:00<00:00, 81.41it/s]\n",
      "\n",
      "3nd loop:  47%|██████████████▌                | 47/100 [00:00<00:00, 85.03it/s]\n",
      "\n",
      "3nd loop:  56%|█████████████████▎             | 56/100 [00:00<00:00, 84.00it/s]\n",
      "\n",
      "3nd loop:  65%|████████████████████▏          | 65/100 [00:00<00:00, 84.67it/s]\n",
      "\n",
      "3nd loop:  73%|██████████████████████▋        | 73/100 [00:00<00:00, 81.54it/s]\n",
      "\n",
      "3nd loop:  82%|█████████████████████████▍     | 82/100 [00:00<00:00, 83.01it/s]\n",
      "\n",
      "3nd loop:  92%|████████████████████████████▌  | 92/100 [00:01<00:00, 84.50it/s]\n",
      "\n",
      "3nd loop: 100%|██████████████████████████████| 100/100 [00:01<00:00, 83.61it/s]\n",
      "2nd loop:  80%|███████████████████████████▏      | 4/5 [00:04<00:01,  1.16s/it]\n",
      "\n",
      "3nd loop:   0%|                                        | 0/100 [00:00<?, ?it/s]\n",
      "\n",
      "3nd loop:  10%|███                            | 10/100 [00:00<00:00, 94.89it/s]\n",
      "\n",
      "3nd loop:  18%|█████▌                         | 18/100 [00:00<00:00, 89.77it/s]\n",
      "\n",
      "3nd loop:  27%|████████▎                      | 27/100 [00:00<00:00, 89.21it/s]\n",
      "\n",
      "3nd loop:  36%|███████████▏                   | 36/100 [00:00<00:00, 87.75it/s]\n",
      "\n",
      "3nd loop:  46%|██████████████▎                | 46/100 [00:00<00:00, 87.06it/s]\n",
      "\n",
      "3nd loop:  56%|█████████████████▎             | 56/100 [00:00<00:00, 90.04it/s]\n",
      "\n",
      "3nd loop:  66%|████████████████████▍          | 66/100 [00:00<00:00, 89.29it/s]\n",
      "\n",
      "3nd loop:  75%|███████████████████████▎       | 75/100 [00:00<00:00, 85.37it/s]\n",
      "\n",
      "3nd loop:  85%|██████████████████████████▎    | 85/100 [00:00<00:00, 85.41it/s]\n",
      "\n",
      "3nd loop:  95%|█████████████████████████████▍ | 95/100 [00:01<00:00, 87.63it/s]\n",
      "\n",
      "3nd loop: 100%|██████████████████████████████| 100/100 [00:01<00:00, 86.62it/s]\n",
      "2nd loop: 100%|██████████████████████████████████| 5/5 [00:05<00:00,  1.17s/it]\n",
      "1st loop:  50%|████████████████▌                | 5/10 [00:28<00:28,  5.79s/it]\n",
      "2nd loop:   0%|                                          | 0/5 [00:00<?, ?it/s]\n",
      "\n",
      "3nd loop:   0%|                                        | 0/100 [00:00<?, ?it/s]\n",
      "\n",
      "3nd loop:   8%|██▌                             | 8/100 [00:00<00:01, 79.89it/s]\n",
      "\n",
      "3nd loop:  18%|█████▌                         | 18/100 [00:00<00:00, 84.50it/s]\n",
      "\n",
      "3nd loop:  28%|████████▋                      | 28/100 [00:00<00:00, 86.21it/s]\n",
      "\n",
      "3nd loop:  36%|███████████▏                   | 36/100 [00:00<00:00, 83.59it/s]\n",
      "\n",
      "3nd loop:  45%|█████████████▉                 | 45/100 [00:00<00:00, 83.61it/s]\n",
      "\n",
      "3nd loop:  55%|█████████████████              | 55/100 [00:00<00:00, 85.71it/s]\n",
      "\n",
      "3nd loop:  65%|████████████████████▏          | 65/100 [00:00<00:00, 86.45it/s]\n",
      "\n",
      "3nd loop:  74%|██████████████████████▉        | 74/100 [00:00<00:00, 77.88it/s]\n",
      "\n",
      "3nd loop:  83%|█████████████████████████▋     | 83/100 [00:01<00:00, 78.57it/s]\n",
      "\n",
      "3nd loop:  92%|████████████████████████████▌  | 92/100 [00:01<00:00, 77.50it/s]\n",
      "\n",
      "3nd loop: 100%|██████████████████████████████| 100/100 [00:01<00:00, 82.91it/s]\n",
      "2nd loop:  20%|██████▊                           | 1/5 [00:01<00:04,  1.21s/it]\n",
      "\n",
      "3nd loop:   0%|                                        | 0/100 [00:00<?, ?it/s]\n",
      "\n",
      "3nd loop:  10%|███                            | 10/100 [00:00<00:01, 87.36it/s]\n",
      "\n",
      "3nd loop:  20%|██████▏                        | 20/100 [00:00<00:00, 89.93it/s]\n",
      "\n",
      "3nd loop:  30%|█████████▎                     | 30/100 [00:00<00:00, 91.88it/s]\n",
      "\n",
      "3nd loop:  40%|████████████▍                  | 40/100 [00:00<00:00, 90.78it/s]\n",
      "\n",
      "3nd loop:  50%|███████████████▌               | 50/100 [00:00<00:00, 93.00it/s]\n",
      "\n",
      "3nd loop:  59%|██████████████████▎            | 59/100 [00:00<00:00, 89.16it/s]\n",
      "\n",
      "3nd loop:  68%|█████████████████████          | 68/100 [00:00<00:00, 87.97it/s]\n",
      "\n",
      "3nd loop:  78%|████████████████████████▏      | 78/100 [00:00<00:00, 89.16it/s]\n",
      "\n",
      "3nd loop:  88%|███████████████████████████▎   | 88/100 [00:00<00:00, 89.58it/s]\n",
      "\n",
      "3nd loop:  98%|██████████████████████████████▍| 98/100 [00:01<00:00, 91.80it/s]\n",
      "\n",
      "3nd loop: 100%|██████████████████████████████| 100/100 [00:01<00:00, 90.87it/s]\n",
      "2nd loop:  40%|█████████████▌                    | 2/5 [00:02<00:03,  1.18s/it]\n",
      "\n",
      "3nd loop:   0%|                                        | 0/100 [00:00<?, ?it/s]\n",
      "\n",
      "3nd loop:  10%|███                            | 10/100 [00:00<00:01, 88.38it/s]\n",
      "\n",
      "3nd loop:  20%|██████▏                        | 20/100 [00:00<00:00, 90.59it/s]\n",
      "\n",
      "3nd loop:  30%|█████████▎                     | 30/100 [00:00<00:00, 92.54it/s]\n",
      "\n",
      "3nd loop:  40%|████████████▍                  | 40/100 [00:00<00:00, 90.80it/s]\n",
      "\n",
      "3nd loop:  50%|███████████████▌               | 50/100 [00:00<00:00, 92.86it/s]\n",
      "\n",
      "3nd loop:  60%|██████████████████▌            | 60/100 [00:00<00:00, 91.62it/s]\n",
      "\n",
      "3nd loop:  70%|█████████████████████▋         | 70/100 [00:00<00:00, 90.51it/s]\n",
      "\n",
      "3nd loop:  79%|████████████████████████▍      | 79/100 [00:00<00:00, 89.39it/s]\n",
      "\n",
      "3nd loop:  88%|███████████████████████████▎   | 88/100 [00:00<00:00, 87.07it/s]\n",
      "\n",
      "3nd loop:  97%|██████████████████████████████ | 97/100 [00:01<00:00, 86.16it/s]\n",
      "\n",
      "3nd loop: 100%|██████████████████████████████| 100/100 [00:01<00:00, 89.25it/s]\n",
      "2nd loop:  60%|████████████████████▍             | 3/5 [00:03<00:02,  1.17s/it]\n",
      "\n",
      "3nd loop:   0%|                                        | 0/100 [00:00<?, ?it/s]\n",
      "\n",
      "3nd loop:  10%|███                            | 10/100 [00:00<00:00, 91.98it/s]\n",
      "\n",
      "3nd loop:  20%|██████▏                        | 20/100 [00:00<00:00, 93.64it/s]\n",
      "\n",
      "3nd loop:  30%|█████████▎                     | 30/100 [00:00<00:00, 91.51it/s]\n",
      "\n",
      "3nd loop:  40%|████████████▍                  | 40/100 [00:00<00:00, 93.26it/s]\n",
      "\n",
      "3nd loop:  50%|███████████████▌               | 50/100 [00:00<00:00, 93.08it/s]\n",
      "\n",
      "3nd loop:  60%|██████████████████▌            | 60/100 [00:00<00:00, 94.50it/s]\n",
      "\n",
      "3nd loop:  70%|█████████████████████▋         | 70/100 [00:00<00:00, 93.44it/s]\n",
      "\n",
      "3nd loop:  80%|████████████████████████▊      | 80/100 [00:00<00:00, 94.93it/s]\n",
      "\n",
      "3nd loop:  89%|███████████████████████████▌   | 89/100 [00:00<00:00, 91.67it/s]\n",
      "\n",
      "3nd loop:  99%|██████████████████████████████▋| 99/100 [00:01<00:00, 91.76it/s]\n",
      "\n",
      "3nd loop: 100%|██████████████████████████████| 100/100 [00:01<00:00, 92.34it/s]\n",
      "2nd loop:  80%|███████████████████████████▏      | 4/5 [00:04<00:01,  1.14s/it]\n",
      "\n",
      "3nd loop:   0%|                                        | 0/100 [00:00<?, ?it/s]\n",
      "\n",
      "3nd loop:  10%|███                            | 10/100 [00:00<00:01, 88.25it/s]\n",
      "\n",
      "3nd loop:  20%|██████▏                        | 20/100 [00:00<00:00, 87.04it/s]\n",
      "\n",
      "3nd loop:  30%|█████████▎                     | 30/100 [00:00<00:00, 87.05it/s]\n",
      "\n",
      "3nd loop:  40%|████████████▍                  | 40/100 [00:00<00:00, 89.63it/s]\n",
      "\n",
      "3nd loop:  50%|███████████████▌               | 50/100 [00:00<00:00, 89.85it/s]\n",
      "\n",
      "3nd loop:  60%|██████████████████▌            | 60/100 [00:00<00:00, 91.89it/s]\n",
      "\n",
      "3nd loop:  70%|█████████████████████▋         | 70/100 [00:00<00:00, 90.82it/s]\n",
      "\n",
      "3nd loop:  79%|████████████████████████▍      | 79/100 [00:00<00:00, 89.60it/s]\n",
      "\n",
      "3nd loop:  88%|███████████████████████████▎   | 88/100 [00:00<00:00, 89.32it/s]\n",
      "\n",
      "3nd loop:  97%|██████████████████████████████ | 97/100 [00:01<00:00, 87.85it/s]\n",
      "\n",
      "3nd loop: 100%|██████████████████████████████| 100/100 [00:01<00:00, 88.66it/s]\n",
      "2nd loop: 100%|██████████████████████████████████| 5/5 [00:05<00:00,  1.14s/it]\n",
      "1st loop:  60%|███████████████████▊             | 6/10 [00:34<00:23,  5.76s/it]\n",
      "2nd loop:   0%|                                          | 0/5 [00:00<?, ?it/s]\n",
      "\n",
      "3nd loop:   0%|                                        | 0/100 [00:00<?, ?it/s]\n",
      "\n",
      "3nd loop:  10%|███                            | 10/100 [00:00<00:00, 97.81it/s]\n",
      "\n",
      "3nd loop:  19%|█████▉                         | 19/100 [00:00<00:00, 95.11it/s]\n",
      "\n",
      "3nd loop:  29%|████████▉                      | 29/100 [00:00<00:00, 94.08it/s]\n",
      "\n",
      "3nd loop:  38%|███████████▊                   | 38/100 [00:00<00:00, 92.79it/s]\n",
      "\n",
      "3nd loop:  48%|██████████████▉                | 48/100 [00:00<00:00, 89.77it/s]\n",
      "\n",
      "3nd loop:  58%|█████████████████▉             | 58/100 [00:00<00:00, 91.99it/s]\n",
      "\n",
      "3nd loop:  67%|████████████████████▊          | 67/100 [00:00<00:00, 82.61it/s]\n",
      "\n",
      "3nd loop:  76%|███████████████████████▌       | 76/100 [00:00<00:00, 83.31it/s]\n",
      "\n",
      "3nd loop:  86%|██████████████████████████▋    | 86/100 [00:00<00:00, 86.43it/s]\n",
      "\n",
      "3nd loop:  96%|█████████████████████████████▊ | 96/100 [00:01<00:00, 86.20it/s]\n",
      "\n",
      "3nd loop: 100%|██████████████████████████████| 100/100 [00:01<00:00, 87.76it/s]\n",
      "2nd loop:  20%|██████▊                           | 1/5 [00:01<00:04,  1.15s/it]\n",
      "\n",
      "3nd loop:   0%|                                        | 0/100 [00:00<?, ?it/s]\n",
      "\n",
      "3nd loop:   9%|██▉                             | 9/100 [00:00<00:01, 89.92it/s]\n",
      "\n",
      "3nd loop:  18%|█████▌                         | 18/100 [00:00<00:00, 87.39it/s]\n",
      "\n",
      "3nd loop:  28%|████████▋                      | 28/100 [00:00<00:00, 89.29it/s]\n",
      "\n",
      "3nd loop:  36%|███████████▏                   | 36/100 [00:00<00:00, 83.60it/s]\n",
      "\n",
      "3nd loop:  44%|█████████████▋                 | 44/100 [00:00<00:00, 81.27it/s]\n",
      "\n",
      "3nd loop:  53%|████████████████▍              | 53/100 [00:00<00:00, 83.61it/s]\n",
      "\n",
      "3nd loop:  62%|███████████████████▏           | 62/100 [00:00<00:00, 85.13it/s]\n",
      "\n",
      "3nd loop:  71%|██████████████████████         | 71/100 [00:00<00:00, 86.40it/s]\n",
      "\n",
      "3nd loop:  80%|████████████████████████▊      | 80/100 [00:00<00:00, 82.47it/s]\n",
      "\n",
      "3nd loop:  90%|███████████████████████████▉   | 90/100 [00:01<00:00, 86.40it/s]\n",
      "\n",
      "3nd loop: 100%|██████████████████████████████| 100/100 [00:01<00:00, 85.52it/s]\n",
      "\n",
      "\n",
      "2nd loop:  40%|█████████████▌                    | 2/5 [00:02<00:03,  1.16s/it]\n",
      "\n",
      "3nd loop:   0%|                                        | 0/100 [00:00<?, ?it/s]\n",
      "\n",
      "3nd loop:   9%|██▉                             | 9/100 [00:00<00:01, 85.52it/s]\n",
      "\n",
      "3nd loop:  19%|█████▉                         | 19/100 [00:00<00:00, 87.83it/s]\n",
      "\n",
      "3nd loop:  29%|████████▉                      | 29/100 [00:00<00:00, 88.12it/s]\n",
      "\n",
      "3nd loop:  38%|███████████▊                   | 38/100 [00:00<00:00, 86.38it/s]\n",
      "\n",
      "3nd loop:  48%|██████████████▉                | 48/100 [00:00<00:00, 88.06it/s]\n",
      "\n",
      "3nd loop:  57%|█████████████████▋             | 57/100 [00:00<00:00, 88.08it/s]\n",
      "\n",
      "3nd loop:  67%|████████████████████▊          | 67/100 [00:00<00:00, 90.51it/s]\n",
      "\n",
      "3nd loop:  76%|███████████████████████▌       | 76/100 [00:00<00:00, 86.78it/s]\n",
      "\n",
      "3nd loop:  85%|██████████████████████████▎    | 85/100 [00:00<00:00, 83.20it/s]\n",
      "\n",
      "3nd loop:  95%|█████████████████████████████▍ | 95/100 [00:01<00:00, 85.13it/s]\n",
      "\n",
      "3nd loop: 100%|██████████████████████████████| 100/100 [00:01<00:00, 87.28it/s]\n",
      "2nd loop:  60%|████████████████████▍             | 3/5 [00:03<00:02,  1.16s/it]\n",
      "\n",
      "3nd loop:   0%|                                        | 0/100 [00:00<?, ?it/s]\n",
      "\n",
      "3nd loop:   9%|██▉                             | 9/100 [00:00<00:01, 81.34it/s]\n",
      "\n",
      "3nd loop:  19%|█████▉                         | 19/100 [00:00<00:00, 82.64it/s]\n",
      "\n",
      "3nd loop:  29%|████████▉                      | 29/100 [00:00<00:00, 86.23it/s]\n",
      "\n",
      "3nd loop:  39%|████████████                   | 39/100 [00:00<00:00, 87.00it/s]\n",
      "\n",
      "3nd loop:  48%|██████████████▉                | 48/100 [00:00<00:00, 87.55it/s]\n",
      "\n",
      "3nd loop:  58%|█████████████████▉             | 58/100 [00:00<00:00, 86.73it/s]\n",
      "\n",
      "3nd loop:  68%|█████████████████████          | 68/100 [00:00<00:00, 88.93it/s]\n",
      "\n",
      "3nd loop:  78%|████████████████████████▏      | 78/100 [00:00<00:00, 89.93it/s]\n",
      "\n",
      "3nd loop:  87%|██████████████████████████▉    | 87/100 [00:00<00:00, 89.94it/s]\n",
      "\n",
      "3nd loop:  96%|█████████████████████████████▊ | 96/100 [00:01<00:00, 89.34it/s]\n",
      "\n",
      "3nd loop: 100%|██████████████████████████████| 100/100 [00:01<00:00, 88.66it/s]\n",
      "2nd loop:  80%|███████████████████████████▏      | 4/5 [00:04<00:01,  1.16s/it]\n",
      "\n",
      "3nd loop:   0%|                                        | 0/100 [00:00<?, ?it/s]\n",
      "\n",
      "3nd loop:   9%|██▉                             | 9/100 [00:00<00:01, 82.08it/s]\n",
      "\n",
      "3nd loop:  19%|█████▉                         | 19/100 [00:00<00:00, 85.35it/s]\n",
      "\n",
      "3nd loop:  29%|████████▉                      | 29/100 [00:00<00:00, 87.77it/s]\n",
      "\n",
      "3nd loop:  38%|███████████▊                   | 38/100 [00:00<00:00, 85.90it/s]\n",
      "\n",
      "3nd loop:  47%|██████████████▌                | 47/100 [00:00<00:00, 84.44it/s]\n",
      "\n",
      "3nd loop:  55%|█████████████████              | 55/100 [00:00<00:00, 79.75it/s]\n",
      "\n",
      "3nd loop:  63%|███████████████████▌           | 63/100 [00:00<00:00, 74.57it/s]\n",
      "\n",
      "3nd loop:  71%|██████████████████████         | 71/100 [00:00<00:00, 72.29it/s]\n",
      "\n",
      "3nd loop:  79%|████████████████████████▍      | 79/100 [00:01<00:00, 72.47it/s]\n",
      "\n",
      "3nd loop:  88%|███████████████████████████▎   | 88/100 [00:01<00:00, 76.68it/s]\n",
      "\n",
      "3nd loop:  98%|██████████████████████████████▍| 98/100 [00:01<00:00, 81.06it/s]\n",
      "\n",
      "3nd loop: 100%|██████████████████████████████| 100/100 [00:01<00:00, 80.34it/s]\n",
      "2nd loop: 100%|██████████████████████████████████| 5/5 [00:05<00:00,  1.19s/it]\n",
      "1st loop:  70%|███████████████████████          | 7/10 [00:40<00:17,  5.81s/it]\n",
      "2nd loop:   0%|                                          | 0/5 [00:00<?, ?it/s]\n",
      "\n",
      "3nd loop:   0%|                                        | 0/100 [00:00<?, ?it/s]\n",
      "\n",
      "3nd loop:  10%|███                            | 10/100 [00:00<00:00, 91.06it/s]\n",
      "\n",
      "3nd loop:  19%|█████▉                         | 19/100 [00:00<00:00, 90.63it/s]\n",
      "\n",
      "3nd loop:  28%|████████▋                      | 28/100 [00:00<00:00, 88.20it/s]\n",
      "\n",
      "3nd loop:  37%|███████████▍                   | 37/100 [00:00<00:00, 86.36it/s]\n",
      "\n",
      "3nd loop:  46%|██████████████▎                | 46/100 [00:00<00:00, 85.12it/s]\n",
      "\n",
      "3nd loop:  56%|█████████████████▎             | 56/100 [00:00<00:00, 86.79it/s]\n",
      "\n",
      "3nd loop:  66%|████████████████████▍          | 66/100 [00:00<00:00, 87.92it/s]\n",
      "\n",
      "3nd loop:  75%|███████████████████████▎       | 75/100 [00:00<00:00, 84.60it/s]\n",
      "\n",
      "3nd loop:  85%|██████████████████████████▎    | 85/100 [00:00<00:00, 87.05it/s]\n",
      "\n",
      "3nd loop:  94%|█████████████████████████████▏ | 94/100 [00:01<00:00, 87.79it/s]\n",
      "\n",
      "3nd loop: 100%|██████████████████████████████| 100/100 [00:01<00:00, 86.89it/s]\n",
      "2nd loop:  20%|██████▊                           | 1/5 [00:01<00:04,  1.16s/it]\n",
      "\n",
      "3nd loop:   0%|                                        | 0/100 [00:00<?, ?it/s]\n",
      "\n",
      "3nd loop:  10%|███                            | 10/100 [00:00<00:00, 92.77it/s]\n",
      "\n",
      "3nd loop:  20%|██████▏                        | 20/100 [00:00<00:00, 93.83it/s]\n",
      "\n",
      "3nd loop:  29%|████████▉                      | 29/100 [00:00<00:00, 92.22it/s]\n",
      "\n",
      "3nd loop:  39%|████████████                   | 39/100 [00:00<00:00, 92.68it/s]\n",
      "\n",
      "3nd loop:  49%|███████████████▏               | 49/100 [00:00<00:00, 93.47it/s]\n",
      "\n",
      "3nd loop:  59%|██████████████████▎            | 59/100 [00:00<00:00, 93.92it/s]\n",
      "\n",
      "3nd loop:  69%|█████████████████████▍         | 69/100 [00:00<00:00, 93.51it/s]\n",
      "\n",
      "3nd loop:  78%|████████████████████████▏      | 78/100 [00:00<00:00, 92.35it/s]\n",
      "\n",
      "3nd loop:  88%|███████████████████████████▎   | 88/100 [00:00<00:00, 92.42it/s]\n",
      "\n",
      "3nd loop:  97%|██████████████████████████████ | 97/100 [00:01<00:00, 89.43it/s]\n",
      "\n",
      "3nd loop: 100%|██████████████████████████████| 100/100 [00:01<00:00, 91.90it/s]\n",
      "2nd loop:  40%|█████████████▌                    | 2/5 [00:02<00:03,  1.14s/it]\n",
      "\n",
      "3nd loop:   0%|                                        | 0/100 [00:00<?, ?it/s]\n",
      "\n",
      "3nd loop:   9%|██▉                             | 9/100 [00:00<00:01, 86.67it/s]\n",
      "\n",
      "3nd loop:  19%|█████▉                         | 19/100 [00:00<00:00, 85.99it/s]\n",
      "\n",
      "3nd loop:  28%|████████▋                      | 28/100 [00:00<00:00, 85.15it/s]\n",
      "\n",
      "3nd loop:  38%|███████████▊                   | 38/100 [00:00<00:00, 86.84it/s]\n",
      "\n",
      "3nd loop:  48%|██████████████▉                | 48/100 [00:00<00:00, 88.94it/s]\n",
      "\n",
      "3nd loop:  58%|█████████████████▉             | 58/100 [00:00<00:00, 91.38it/s]\n",
      "\n",
      "3nd loop:  68%|█████████████████████          | 68/100 [00:00<00:00, 91.71it/s]\n",
      "\n",
      "3nd loop:  78%|████████████████████████▏      | 78/100 [00:00<00:00, 92.93it/s]\n",
      "\n",
      "3nd loop:  87%|██████████████████████████▉    | 87/100 [00:00<00:00, 91.33it/s]\n",
      "\n",
      "3nd loop:  96%|█████████████████████████████▊ | 96/100 [00:01<00:00, 89.77it/s]\n",
      "\n",
      "3nd loop: 100%|██████████████████████████████| 100/100 [00:01<00:00, 89.82it/s]\n",
      "2nd loop:  60%|████████████████████▍             | 3/5 [00:03<00:02,  1.13s/it]\n",
      "\n",
      "3nd loop:   0%|                                        | 0/100 [00:00<?, ?it/s]\n",
      "\n",
      "3nd loop:   9%|██▉                             | 9/100 [00:00<00:01, 81.24it/s]\n",
      "\n",
      "3nd loop:  18%|█████▌                         | 18/100 [00:00<00:00, 82.86it/s]\n",
      "\n",
      "3nd loop:  28%|████████▋                      | 28/100 [00:00<00:00, 83.92it/s]\n",
      "\n",
      "3nd loop:  37%|███████████▍                   | 37/100 [00:00<00:00, 84.40it/s]\n",
      "\n",
      "3nd loop:  46%|██████████████▎                | 46/100 [00:00<00:00, 84.46it/s]\n",
      "\n",
      "3nd loop:  56%|█████████████████▎             | 56/100 [00:00<00:00, 84.15it/s]\n",
      "\n",
      "3nd loop:  65%|████████████████████▏          | 65/100 [00:00<00:00, 83.62it/s]\n",
      "\n",
      "3nd loop:  75%|███████████████████████▎       | 75/100 [00:00<00:00, 87.02it/s]\n",
      "\n",
      "3nd loop:  84%|██████████████████████████     | 84/100 [00:00<00:00, 87.86it/s]\n",
      "\n",
      "3nd loop:  94%|█████████████████████████████▏ | 94/100 [00:01<00:00, 86.45it/s]\n",
      "\n",
      "3nd loop: 100%|██████████████████████████████| 100/100 [00:01<00:00, 85.89it/s]\n",
      "2nd loop:  80%|███████████████████████████▏      | 4/5 [00:04<00:01,  1.15s/it]\n",
      "\n",
      "3nd loop:   0%|                                        | 0/100 [00:00<?, ?it/s]\n",
      "\n",
      "3nd loop:  10%|███                            | 10/100 [00:00<00:01, 89.22it/s]\n",
      "\n",
      "3nd loop:  19%|█████▉                         | 19/100 [00:00<00:00, 89.45it/s]\n",
      "\n",
      "3nd loop:  28%|████████▋                      | 28/100 [00:00<00:00, 86.92it/s]\n",
      "\n",
      "3nd loop:  37%|███████████▍                   | 37/100 [00:00<00:00, 86.44it/s]\n",
      "\n",
      "3nd loop:  45%|█████████████▉                 | 45/100 [00:00<00:00, 84.34it/s]\n",
      "\n",
      "3nd loop:  54%|████████████████▋              | 54/100 [00:00<00:00, 85.93it/s]\n",
      "\n",
      "3nd loop:  64%|███████████████████▊           | 64/100 [00:00<00:00, 87.08it/s]\n",
      "\n",
      "3nd loop:  74%|██████████████████████▉        | 74/100 [00:00<00:00, 88.89it/s]\n",
      "\n",
      "3nd loop:  83%|█████████████████████████▋     | 83/100 [00:00<00:00, 88.53it/s]\n",
      "\n",
      "3nd loop:  92%|████████████████████████████▌  | 92/100 [00:01<00:00, 85.32it/s]\n",
      "\n",
      "3nd loop: 100%|██████████████████████████████| 100/100 [00:01<00:00, 86.07it/s]\n",
      "2nd loop: 100%|██████████████████████████████████| 5/5 [00:05<00:00,  1.16s/it]\n",
      "1st loop:  80%|██████████████████████████▍      | 8/10 [00:46<00:11,  5.80s/it]\n",
      "2nd loop:   0%|                                          | 0/5 [00:00<?, ?it/s]\n",
      "\n",
      "3nd loop:   0%|                                        | 0/100 [00:00<?, ?it/s]\n",
      "\n",
      "3nd loop:  10%|███                            | 10/100 [00:00<00:00, 91.92it/s]\n",
      "\n",
      "3nd loop:  20%|██████▏                        | 20/100 [00:00<00:00, 91.82it/s]\n",
      "\n",
      "3nd loop:  30%|█████████▎                     | 30/100 [00:00<00:00, 92.79it/s]\n",
      "\n",
      "3nd loop:  39%|████████████                   | 39/100 [00:00<00:00, 91.93it/s]\n",
      "\n",
      "3nd loop:  49%|███████████████▏               | 49/100 [00:00<00:00, 91.64it/s]\n",
      "\n",
      "3nd loop:  59%|██████████████████▎            | 59/100 [00:00<00:00, 92.33it/s]\n",
      "\n",
      "3nd loop:  69%|█████████████████████▍         | 69/100 [00:00<00:00, 93.81it/s]\n",
      "\n",
      "3nd loop:  79%|████████████████████████▍      | 79/100 [00:00<00:00, 93.44it/s]\n",
      "\n",
      "3nd loop:  88%|███████████████████████████▎   | 88/100 [00:00<00:00, 84.58it/s]\n",
      "\n",
      "3nd loop:  98%|██████████████████████████████▍| 98/100 [00:01<00:00, 86.52it/s]\n",
      "\n",
      "3nd loop: 100%|██████████████████████████████| 100/100 [00:01<00:00, 89.82it/s]\n",
      "2nd loop:  20%|██████▊                           | 1/5 [00:01<00:04,  1.12s/it]\n",
      "\n",
      "3nd loop:   0%|                                        | 0/100 [00:00<?, ?it/s]\n",
      "\n",
      "3nd loop:   9%|██▉                             | 9/100 [00:00<00:01, 86.44it/s]\n",
      "\n",
      "3nd loop:  18%|█████▌                         | 18/100 [00:00<00:00, 85.05it/s]\n",
      "\n",
      "3nd loop:  28%|████████▋                      | 28/100 [00:00<00:00, 88.21it/s]\n",
      "\n",
      "3nd loop:  37%|███████████▍                   | 37/100 [00:00<00:00, 88.59it/s]\n",
      "\n",
      "3nd loop:  46%|██████████████▎                | 46/100 [00:00<00:00, 86.43it/s]\n",
      "\n",
      "3nd loop:  56%|█████████████████▎             | 56/100 [00:00<00:00, 88.72it/s]\n",
      "\n",
      "3nd loop:  66%|████████████████████▍          | 66/100 [00:00<00:00, 89.44it/s]\n",
      "\n",
      "3nd loop:  76%|███████████████████████▌       | 76/100 [00:00<00:00, 90.31it/s]\n",
      "\n",
      "3nd loop:  85%|██████████████████████████▎    | 85/100 [00:00<00:00, 87.79it/s]\n",
      "\n",
      "3nd loop:  95%|█████████████████████████████▍ | 95/100 [00:01<00:00, 89.25it/s]\n",
      "\n",
      "3nd loop: 100%|██████████████████████████████| 100/100 [00:01<00:00, 89.13it/s]\n",
      "2nd loop:  40%|█████████████▌                    | 2/5 [00:02<00:03,  1.12s/it]\n",
      "\n",
      "3nd loop:   0%|                                        | 0/100 [00:00<?, ?it/s]\n",
      "\n",
      "3nd loop:  10%|███                            | 10/100 [00:00<00:00, 97.22it/s]\n",
      "\n",
      "3nd loop:  18%|█████▌                         | 18/100 [00:00<00:00, 90.41it/s]\n",
      "\n",
      "3nd loop:  27%|████████▎                      | 27/100 [00:00<00:00, 89.86it/s]\n",
      "\n",
      "3nd loop:  36%|███████████▏                   | 36/100 [00:00<00:00, 89.69it/s]\n",
      "\n",
      "3nd loop:  45%|█████████████▉                 | 45/100 [00:00<00:00, 86.96it/s]\n",
      "\n",
      "3nd loop:  54%|████████████████▋              | 54/100 [00:00<00:00, 85.56it/s]\n",
      "\n",
      "3nd loop:  64%|███████████████████▊           | 64/100 [00:00<00:00, 88.44it/s]\n",
      "\n",
      "3nd loop:  74%|██████████████████████▉        | 74/100 [00:00<00:00, 90.06it/s]\n",
      "\n",
      "3nd loop:  83%|█████████████████████████▋     | 83/100 [00:00<00:00, 89.93it/s]\n",
      "\n",
      "3nd loop:  93%|████████████████████████████▊  | 93/100 [00:01<00:00, 92.13it/s]\n",
      "\n",
      "3nd loop: 100%|██████████████████████████████| 100/100 [00:01<00:00, 89.43it/s]\n",
      "2nd loop:  60%|████████████████████▍             | 3/5 [00:03<00:02,  1.12s/it]\n",
      "\n",
      "3nd loop:   0%|                                        | 0/100 [00:00<?, ?it/s]\n",
      "\n",
      "3nd loop:  10%|███                            | 10/100 [00:00<00:00, 98.70it/s]\n",
      "\n",
      "3nd loop:  20%|██████▏                        | 20/100 [00:00<00:00, 94.52it/s]\n",
      "\n",
      "3nd loop:  30%|█████████▎                     | 30/100 [00:00<00:00, 94.42it/s]\n",
      "\n",
      "3nd loop:  39%|████████████                   | 39/100 [00:00<00:00, 90.33it/s]\n",
      "\n",
      "3nd loop:  47%|██████████████▌                | 47/100 [00:00<00:00, 83.49it/s]\n",
      "\n",
      "3nd loop:  57%|█████████████████▋             | 57/100 [00:00<00:00, 84.94it/s]\n",
      "\n",
      "3nd loop:  67%|████████████████████▊          | 67/100 [00:00<00:00, 87.80it/s]\n",
      "\n",
      "3nd loop:  76%|███████████████████████▌       | 76/100 [00:00<00:00, 87.88it/s]\n",
      "\n",
      "3nd loop:  86%|██████████████████████████▋    | 86/100 [00:00<00:00, 89.35it/s]\n",
      "\n",
      "3nd loop:  95%|█████████████████████████████▍ | 95/100 [00:01<00:00, 85.99it/s]\n",
      "\n",
      "3nd loop: 100%|██████████████████████████████| 100/100 [00:01<00:00, 87.57it/s]\n",
      "2nd loop:  80%|███████████████████████████▏      | 4/5 [00:04<00:01,  1.14s/it]\n",
      "\n",
      "3nd loop:   0%|                                        | 0/100 [00:00<?, ?it/s]\n",
      "\n",
      "3nd loop:  10%|███                            | 10/100 [00:00<00:00, 96.13it/s]\n",
      "\n",
      "3nd loop:  20%|██████▏                        | 20/100 [00:00<00:00, 96.17it/s]\n",
      "\n",
      "3nd loop:  30%|█████████▎                     | 30/100 [00:00<00:00, 95.22it/s]\n",
      "\n",
      "3nd loop:  40%|████████████▍                  | 40/100 [00:00<00:00, 95.67it/s]\n",
      "\n",
      "3nd loop:  49%|███████████████▏               | 49/100 [00:00<00:00, 93.59it/s]\n",
      "\n",
      "3nd loop:  58%|█████████████████▉             | 58/100 [00:00<00:00, 92.01it/s]\n",
      "\n",
      "3nd loop:  67%|████████████████████▊          | 67/100 [00:00<00:00, 90.73it/s]\n",
      "\n",
      "3nd loop:  77%|███████████████████████▊       | 77/100 [00:00<00:00, 91.27it/s]\n",
      "\n",
      "3nd loop:  86%|██████████████████████████▋    | 86/100 [00:00<00:00, 89.44it/s]\n",
      "\n",
      "3nd loop:  96%|█████████████████████████████▊ | 96/100 [00:01<00:00, 88.43it/s]\n",
      "\n",
      "3nd loop: 100%|██████████████████████████████| 100/100 [00:01<00:00, 91.35it/s]\n",
      "2nd loop: 100%|██████████████████████████████████| 5/5 [00:05<00:00,  1.13s/it]\n",
      "1st loop:  90%|█████████████████████████████▋   | 9/10 [00:51<00:05,  5.76s/it]\n",
      "2nd loop:   0%|                                          | 0/5 [00:00<?, ?it/s]\n",
      "\n",
      "3nd loop:   0%|                                        | 0/100 [00:00<?, ?it/s]\n",
      "\n",
      "3nd loop:  10%|███                            | 10/100 [00:00<00:00, 91.40it/s]\n",
      "\n",
      "3nd loop:  18%|█████▌                         | 18/100 [00:00<00:00, 86.92it/s]\n",
      "\n",
      "3nd loop:  28%|████████▋                      | 28/100 [00:00<00:00, 88.77it/s]\n",
      "\n",
      "3nd loop:  37%|███████████▍                   | 37/100 [00:00<00:00, 85.68it/s]\n",
      "\n",
      "3nd loop:  46%|██████████████▎                | 46/100 [00:00<00:00, 85.07it/s]\n",
      "\n",
      "3nd loop:  54%|████████████████▋              | 54/100 [00:00<00:00, 80.95it/s]\n",
      "\n",
      "3nd loop:  62%|███████████████████▏           | 62/100 [00:00<00:00, 79.35it/s]\n",
      "\n",
      "3nd loop:  70%|█████████████████████▋         | 70/100 [00:00<00:00, 79.21it/s]\n",
      "\n",
      "3nd loop:  79%|████████████████████████▍      | 79/100 [00:00<00:00, 80.20it/s]\n",
      "\n",
      "3nd loop:  89%|███████████████████████████▌   | 89/100 [00:01<00:00, 84.03it/s]\n",
      "\n",
      "3nd loop:  98%|██████████████████████████████▍| 98/100 [00:01<00:00, 81.76it/s]\n",
      "\n",
      "3nd loop: 100%|██████████████████████████████| 100/100 [00:01<00:00, 82.56it/s]\n",
      "2nd loop:  20%|██████▊                           | 1/5 [00:01<00:04,  1.21s/it]\n",
      "\n",
      "3nd loop:   0%|                                        | 0/100 [00:00<?, ?it/s]\n",
      "\n",
      "3nd loop:   9%|██▉                             | 9/100 [00:00<00:01, 80.10it/s]\n",
      "\n",
      "3nd loop:  19%|█████▉                         | 19/100 [00:00<00:00, 83.99it/s]\n",
      "\n",
      "3nd loop:  29%|████████▉                      | 29/100 [00:00<00:00, 85.28it/s]\n",
      "\n",
      "3nd loop:  37%|███████████▍                   | 37/100 [00:00<00:00, 82.11it/s]\n",
      "\n",
      "3nd loop:  46%|██████████████▎                | 46/100 [00:00<00:00, 82.92it/s]\n",
      "\n",
      "3nd loop:  55%|█████████████████              | 55/100 [00:00<00:00, 81.45it/s]\n",
      "\n",
      "3nd loop:  65%|████████████████████▏          | 65/100 [00:00<00:00, 84.42it/s]\n",
      "\n",
      "3nd loop:  73%|██████████████████████▋        | 73/100 [00:00<00:00, 81.61it/s]\n",
      "\n",
      "3nd loop:  82%|█████████████████████████▍     | 82/100 [00:00<00:00, 80.36it/s]\n",
      "\n",
      "3nd loop:  91%|████████████████████████████▏  | 91/100 [00:01<00:00, 82.64it/s]\n",
      "\n",
      "3nd loop: 100%|██████████████████████████████| 100/100 [00:01<00:00, 84.56it/s]\n",
      "\n",
      "\n",
      "2nd loop:  40%|█████████████▌                    | 2/5 [00:02<00:03,  1.21s/it]\n",
      "\n",
      "3nd loop:   0%|                                        | 0/100 [00:00<?, ?it/s]\n",
      "\n",
      "3nd loop:   9%|██▉                             | 9/100 [00:00<00:01, 89.01it/s]\n",
      "\n",
      "3nd loop:  19%|█████▉                         | 19/100 [00:00<00:00, 87.37it/s]\n",
      "\n",
      "3nd loop:  27%|████████▎                      | 27/100 [00:00<00:00, 83.29it/s]\n",
      "\n",
      "3nd loop:  36%|███████████▏                   | 36/100 [00:00<00:00, 82.82it/s]\n",
      "\n",
      "3nd loop:  46%|██████████████▎                | 46/100 [00:00<00:00, 84.97it/s]\n",
      "\n",
      "3nd loop:  55%|█████████████████              | 55/100 [00:00<00:00, 84.80it/s]\n",
      "\n",
      "3nd loop:  63%|███████████████████▌           | 63/100 [00:00<00:00, 81.73it/s]\n",
      "\n",
      "3nd loop:  73%|██████████████████████▋        | 73/100 [00:00<00:00, 82.71it/s]\n",
      "\n",
      "3nd loop:  82%|█████████████████████████▍     | 82/100 [00:00<00:00, 82.52it/s]\n",
      "\n",
      "3nd loop:  92%|████████████████████████████▌  | 92/100 [00:01<00:00, 85.51it/s]\n",
      "\n",
      "3nd loop: 100%|██████████████████████████████| 100/100 [00:01<00:00, 84.51it/s]\n",
      "2nd loop:  60%|████████████████████▍             | 3/5 [00:03<00:02,  1.20s/it]\n",
      "\n",
      "3nd loop:   0%|                                        | 0/100 [00:00<?, ?it/s]\n",
      "\n",
      "3nd loop:   9%|██▉                             | 9/100 [00:00<00:01, 89.25it/s]\n",
      "\n",
      "3nd loop:  18%|█████▌                         | 18/100 [00:00<00:00, 88.82it/s]\n",
      "\n",
      "3nd loop:  27%|████████▎                      | 27/100 [00:00<00:00, 85.07it/s]\n",
      "\n",
      "3nd loop:  36%|███████████▏                   | 36/100 [00:00<00:00, 85.00it/s]\n",
      "\n",
      "3nd loop:  45%|█████████████▉                 | 45/100 [00:00<00:00, 86.33it/s]\n",
      "\n",
      "3nd loop:  55%|█████████████████              | 55/100 [00:00<00:00, 88.63it/s]\n",
      "\n",
      "3nd loop:  65%|████████████████████▏          | 65/100 [00:00<00:00, 87.92it/s]\n",
      "\n",
      "3nd loop:  74%|██████████████████████▉        | 74/100 [00:00<00:00, 84.99it/s]\n",
      "\n",
      "3nd loop:  84%|██████████████████████████     | 84/100 [00:00<00:00, 84.93it/s]\n",
      "\n",
      "3nd loop:  94%|█████████████████████████████▏ | 94/100 [00:01<00:00, 87.03it/s]\n",
      "\n",
      "3nd loop: 100%|██████████████████████████████| 100/100 [00:01<00:00, 86.73it/s]\n",
      "2nd loop:  80%|███████████████████████████▏      | 4/5 [00:04<00:01,  1.19s/it]\n",
      "\n",
      "3nd loop:   0%|                                        | 0/100 [00:00<?, ?it/s]\n",
      "\n",
      "3nd loop:   9%|██▉                             | 9/100 [00:00<00:01, 85.68it/s]\n",
      "\n",
      "3nd loop:  18%|█████▌                         | 18/100 [00:00<00:00, 84.35it/s]\n",
      "\n",
      "3nd loop:  27%|████████▎                      | 27/100 [00:00<00:00, 84.41it/s]\n",
      "\n",
      "3nd loop:  36%|███████████▏                   | 36/100 [00:00<00:00, 83.60it/s]\n",
      "\n",
      "3nd loop:  46%|██████████████▎                | 46/100 [00:00<00:00, 86.45it/s]\n",
      "\n",
      "3nd loop:  56%|█████████████████▎             | 56/100 [00:00<00:00, 88.36it/s]\n",
      "\n",
      "3nd loop:  64%|███████████████████▊           | 64/100 [00:00<00:00, 84.82it/s]\n",
      "\n",
      "3nd loop:  74%|██████████████████████▉        | 74/100 [00:00<00:00, 87.06it/s]\n",
      "\n",
      "3nd loop:  83%|█████████████████████████▋     | 83/100 [00:00<00:00, 82.90it/s]\n",
      "\n",
      "3nd loop:  92%|████████████████████████████▌  | 92/100 [00:01<00:00, 82.80it/s]\n",
      "\n",
      "3nd loop: 100%|██████████████████████████████| 100/100 [00:01<00:00, 84.85it/s]\n",
      "2nd loop: 100%|██████████████████████████████████| 5/5 [00:05<00:00,  1.19s/it]\n",
      "1st loop: 100%|████████████████████████████████| 10/10 [00:57<00:00,  5.82s/it]\n"
     ]
    }
   ],
   "source": [
    "from tqdm import trange\n",
    "from time import sleep\n",
    "\n",
    "for i in trange(10, desc='1st loop'):\n",
    "    for j in trange(5, desc='2nd loop', leave=False):\n",
    "        for k in trange(100, desc='3nd loop'):\n",
    "            sleep(0.01)"
   ]
  },
  {
   "cell_type": "code",
   "execution_count": 22,
   "metadata": {
    "collapsed": true
   },
   "outputs": [],
   "source": [
    "import pandas as pd\n",
    "import numpy as np\n",
    "\n",
    "randn = np.random.randn"
   ]
  },
  {
   "cell_type": "code",
   "execution_count": 25,
   "metadata": {
    "collapsed": true
   },
   "outputs": [],
   "source": [
    "pd.set_option('display.max_rows', 8)\n",
    "\n",
    "from pandas_datareader.data import get_data_yahoo"
   ]
  },
  {
   "cell_type": "code",
   "execution_count": 26,
   "metadata": {
    "collapsed": true
   },
   "outputs": [],
   "source": [
    "spy = get_data_yahoo(symbols = 'SPY', start=pd.Timestamp('2011-01-01'), end = pd.Timestamp('2014-01-01'), adjust_price=True)"
   ]
  },
  {
   "cell_type": "code",
   "execution_count": 27,
   "metadata": {
    "collapsed": false
   },
   "outputs": [
    {
     "data": {
      "text/html": [
       "<div>\n",
       "<table border=\"1\" class=\"dataframe\">\n",
       "  <thead>\n",
       "    <tr style=\"text-align: right;\">\n",
       "      <th></th>\n",
       "      <th>Open</th>\n",
       "      <th>High</th>\n",
       "      <th>Low</th>\n",
       "      <th>Close</th>\n",
       "      <th>Volume</th>\n",
       "      <th>Adj_Ratio</th>\n",
       "    </tr>\n",
       "    <tr>\n",
       "      <th>Date</th>\n",
       "      <th></th>\n",
       "      <th></th>\n",
       "      <th></th>\n",
       "      <th></th>\n",
       "      <th></th>\n",
       "      <th></th>\n",
       "    </tr>\n",
       "  </thead>\n",
       "  <tbody>\n",
       "    <tr>\n",
       "      <th>2010-12-31</th>\n",
       "      <td>108.807140</td>\n",
       "      <td>109.101849</td>\n",
       "      <td>108.633786</td>\n",
       "      <td>108.997833</td>\n",
       "      <td>91218900</td>\n",
       "      <td>0.866782</td>\n",
       "    </tr>\n",
       "    <tr>\n",
       "      <th>2011-01-03</th>\n",
       "      <td>109.829925</td>\n",
       "      <td>110.601360</td>\n",
       "      <td>108.954473</td>\n",
       "      <td>110.124634</td>\n",
       "      <td>138725200</td>\n",
       "      <td>0.866782</td>\n",
       "    </tr>\n",
       "    <tr>\n",
       "      <th>2011-01-04</th>\n",
       "      <td>110.367323</td>\n",
       "      <td>110.401995</td>\n",
       "      <td>109.379192</td>\n",
       "      <td>110.063950</td>\n",
       "      <td>137409700</td>\n",
       "      <td>0.866782</td>\n",
       "    </tr>\n",
       "    <tr>\n",
       "      <th>2011-01-05</th>\n",
       "      <td>109.717254</td>\n",
       "      <td>110.705384</td>\n",
       "      <td>109.613237</td>\n",
       "      <td>110.636040</td>\n",
       "      <td>133975300</td>\n",
       "      <td>0.866782</td>\n",
       "    </tr>\n",
       "    <tr>\n",
       "      <th>...</th>\n",
       "      <td>...</td>\n",
       "      <td>...</td>\n",
       "      <td>...</td>\n",
       "      <td>...</td>\n",
       "      <td>...</td>\n",
       "      <td>...</td>\n",
       "    </tr>\n",
       "    <tr>\n",
       "      <th>2013-12-26</th>\n",
       "      <td>169.196608</td>\n",
       "      <td>169.768789</td>\n",
       "      <td>169.178161</td>\n",
       "      <td>169.676498</td>\n",
       "      <td>63365000</td>\n",
       "      <td>0.922857</td>\n",
       "    </tr>\n",
       "    <tr>\n",
       "      <th>2013-12-27</th>\n",
       "      <td>169.897981</td>\n",
       "      <td>169.971798</td>\n",
       "      <td>169.491922</td>\n",
       "      <td>169.667267</td>\n",
       "      <td>61814000</td>\n",
       "      <td>0.922857</td>\n",
       "    </tr>\n",
       "    <tr>\n",
       "      <th>2013-12-30</th>\n",
       "      <td>169.685719</td>\n",
       "      <td>169.824156</td>\n",
       "      <td>169.418097</td>\n",
       "      <td>169.639587</td>\n",
       "      <td>56857000</td>\n",
       "      <td>0.922857</td>\n",
       "    </tr>\n",
       "    <tr>\n",
       "      <th>2013-12-31</th>\n",
       "      <td>169.870292</td>\n",
       "      <td>170.442459</td>\n",
       "      <td>169.741079</td>\n",
       "      <td>170.442459</td>\n",
       "      <td>86119900</td>\n",
       "      <td>0.922857</td>\n",
       "    </tr>\n",
       "  </tbody>\n",
       "</table>\n",
       "<p>755 rows × 6 columns</p>\n",
       "</div>"
      ],
      "text/plain": [
       "                  Open        High         Low       Close     Volume  \\\n",
       "Date                                                                    \n",
       "2010-12-31  108.807140  109.101849  108.633786  108.997833   91218900   \n",
       "2011-01-03  109.829925  110.601360  108.954473  110.124634  138725200   \n",
       "2011-01-04  110.367323  110.401995  109.379192  110.063950  137409700   \n",
       "2011-01-05  109.717254  110.705384  109.613237  110.636040  133975300   \n",
       "...                ...         ...         ...         ...        ...   \n",
       "2013-12-26  169.196608  169.768789  169.178161  169.676498   63365000   \n",
       "2013-12-27  169.897981  169.971798  169.491922  169.667267   61814000   \n",
       "2013-12-30  169.685719  169.824156  169.418097  169.639587   56857000   \n",
       "2013-12-31  169.870292  170.442459  169.741079  170.442459   86119900   \n",
       "\n",
       "            Adj_Ratio  \n",
       "Date                   \n",
       "2010-12-31   0.866782  \n",
       "2011-01-03   0.866782  \n",
       "2011-01-04   0.866782  \n",
       "2011-01-05   0.866782  \n",
       "...               ...  \n",
       "2013-12-26   0.922857  \n",
       "2013-12-27   0.922857  \n",
       "2013-12-30   0.922857  \n",
       "2013-12-31   0.922857  \n",
       "\n",
       "[755 rows x 6 columns]"
      ]
     },
     "execution_count": 27,
     "metadata": {},
     "output_type": "execute_result"
    }
   ],
   "source": [
    "spy"
   ]
  },
  {
   "cell_type": "code",
   "execution_count": 31,
   "metadata": {
    "collapsed": true
   },
   "outputs": [],
   "source": [
    "import qgrid"
   ]
  },
  {
   "cell_type": "code",
   "execution_count": 33,
   "metadata": {
    "collapsed": true
   },
   "outputs": [],
   "source": [
    "qgrid.nbinstall(overwrite=True)"
   ]
  },
  {
   "cell_type": "code",
   "execution_count": 34,
   "metadata": {
    "collapsed": false
   },
   "outputs": [
    {
     "data": {
      "application/vnd.jupyter.widget-view+json": {
       "model_id": "b35de6375ef74775b2b11134d86688d5"
      }
     },
     "metadata": {},
     "output_type": "display_data"
    }
   ],
   "source": [
    "qgrid.show_grid(spy)"
   ]
  },
  {
   "cell_type": "code",
   "execution_count": null,
   "metadata": {
    "collapsed": true
   },
   "outputs": [],
   "source": []
  }
 ],
 "metadata": {
  "kernelspec": {
   "display_name": "Python 3",
   "language": "python",
   "name": "python3"
  },
  "language_info": {
   "codemirror_mode": {
    "name": "ipython",
    "version": 3
   },
   "file_extension": ".py",
   "mimetype": "text/x-python",
   "name": "python",
   "nbconvert_exporter": "python",
   "pygments_lexer": "ipython3",
   "version": "3.4.5"
  },
  "widgets": {
   "state": {
    "00ad2212c8c84f79867ad77d3e34cd10": {
     "views": [
      {
       "cell_index": 7
      }
     ]
    },
    "031a38273356479c881f7cc84048ef31": {
     "views": [
      {
       "cell_index": 7
      }
     ]
    },
    "042a60f896b34a0a84af85b43627ef76": {
     "views": [
      {
       "cell_index": 7
      }
     ]
    },
    "06eb2d2df1544b4eab88eb22f0cd89c6": {
     "views": [
      {
       "cell_index": 7
      }
     ]
    },
    "1288e749b2714da2bec474c5900d6008": {
     "views": [
      {
       "cell_index": 7
      }
     ]
    },
    "1582e1b0aae04575b098d497eb5fa44d": {
     "views": [
      {
       "cell_index": 7
      }
     ]
    },
    "1d5880674efa42caad948ff094741908": {
     "views": [
      {
       "cell_index": 7
      }
     ]
    },
    "1e0fd9addf89493c9adb722132cd9d77": {
     "views": [
      {
       "cell_index": 7
      }
     ]
    },
    "27688f79070e4f91b3261f9ece19903c": {
     "views": [
      {
       "cell_index": 7
      }
     ]
    },
    "2cac4c86265e46c9b9ce7c9aa17ed2c9": {
     "views": [
      {
       "cell_index": 7
      }
     ]
    },
    "3a9d84099f6b486aa22ecc0572b682d5": {
     "views": [
      {
       "cell_index": 7
      }
     ]
    },
    "4b3f80ed68c544b3ab6106deeefcb6b9": {
     "views": [
      {
       "cell_index": 7
      }
     ]
    },
    "5473e125203b4970ba446c49db22f559": {
     "views": [
      {
       "cell_index": 7
      }
     ]
    },
    "54846005dcf5432f830c821fab1e1fbb": {
     "views": [
      {
       "cell_index": 7
      }
     ]
    },
    "56231f1702cb4feea7e3dcc7a958bb8d": {
     "views": [
      {
       "cell_index": 7
      }
     ]
    },
    "57e6218ae89a420aa59692d8006464f9": {
     "views": [
      {
       "cell_index": 7
      }
     ]
    },
    "598a6911e0d5443fa860a1b6c12078f0": {
     "views": [
      {
       "cell_index": 7
      }
     ]
    },
    "5b7d55b8890d4aa0938def6531342d49": {
     "views": [
      {
       "cell_index": 7
      }
     ]
    },
    "6187f1afdaaf423cba3a1737c9ced0b9": {
     "views": [
      {
       "cell_index": 7
      }
     ]
    },
    "6721b73955074311bd8be06990d2c016": {
     "views": [
      {
       "cell_index": 7
      }
     ]
    },
    "6b494d565cf7447580746f1257a7ca37": {
     "views": [
      {
       "cell_index": 7
      }
     ]
    },
    "714520d179f644548d901607267df712": {
     "views": [
      {
       "cell_index": 7
      }
     ]
    },
    "785d60ec43424df0a670e321d8772aef": {
     "views": [
      {
       "cell_index": 7
      }
     ]
    },
    "78ea44ff6f8a462d8f7943c9852ac61f": {
     "views": [
      {
       "cell_index": 7
      }
     ]
    },
    "7a2f1d99da4847789bc56edd0259151a": {
     "views": [
      {
       "cell_index": 7
      }
     ]
    },
    "7a42d8821cfa4d42ad4608f95f78f0b3": {
     "views": [
      {
       "cell_index": 7
      }
     ]
    },
    "7c0946a44f6044db8be70530f390d939": {
     "views": [
      {
       "cell_index": 7
      }
     ]
    },
    "7d4a835af8ba43f9b29e1271078d004e": {
     "views": [
      {
       "cell_index": 7
      }
     ]
    },
    "7d4f97acd77440d3ab1bf4750231d285": {
     "views": [
      {
       "cell_index": 7
      }
     ]
    },
    "7f3924f335b14b788f87a47f510f959e": {
     "views": [
      {
       "cell_index": 7
      }
     ]
    },
    "802381905dbd473e82d74acb64579d04": {
     "views": [
      {
       "cell_index": 7
      }
     ]
    },
    "823609b4df0d47409cc8e6cc6de94063": {
     "views": [
      {
       "cell_index": 7
      }
     ]
    },
    "88d341968a1043e39aa7881cf06f7f50": {
     "views": [
      {
       "cell_index": 7
      }
     ]
    },
    "8fcd846a450f499bacf0cd22ed40d6c1": {
     "views": [
      {
       "cell_index": 7
      }
     ]
    },
    "909ad26986944eab96e4d47cc38f80ba": {
     "views": [
      {
       "cell_index": 7
      }
     ]
    },
    "94f10220067e46558eb2c8ffde9943d0": {
     "views": [
      {
       "cell_index": 7
      }
     ]
    },
    "95fdaee1f4634a829d2a5985c6e8ba32": {
     "views": [
      {
       "cell_index": 7
      }
     ]
    },
    "9646a32521f643cd95e415b7b2ee4aba": {
     "views": [
      {
       "cell_index": 7
      }
     ]
    },
    "9796ccc508ba48f2a18b2279cc1e5f2e": {
     "views": [
      {
       "cell_index": 7
      }
     ]
    },
    "9b5461ee60fc45998d1974fa094ea48c": {
     "views": [
      {
       "cell_index": 7
      }
     ]
    },
    "9da1d6429adc4f91b6a507a21ff8f379": {
     "views": [
      {
       "cell_index": 7
      }
     ]
    },
    "9e48b1a1001c412dbda8f9040a26393c": {
     "views": [
      {
       "cell_index": 7
      }
     ]
    },
    "9f3b821797fe40ba8d566ea427d0b63e": {
     "views": [
      {
       "cell_index": 7
      }
     ]
    },
    "a2618cf9b1d6484db5231386a0006a62": {
     "views": [
      {
       "cell_index": 7
      }
     ]
    },
    "a480596e4e624b2fa81d89d51ea5e020": {
     "views": [
      {
       "cell_index": 7
      }
     ]
    },
    "a60ed9aa01f444a591e1dac44e8f3d20": {
     "views": [
      {
       "cell_index": 7
      }
     ]
    },
    "a69e3a26b5d045d1b1e028c9f6ccfd9e": {
     "views": [
      {
       "cell_index": 7
      }
     ]
    },
    "a6dd0e0c33ed46dd9a1707c85f5ffcf1": {
     "views": [
      {
       "cell_index": 7
      }
     ]
    },
    "a7b49a5ad1d94d88b4f464dcb029571b": {
     "views": [
      {
       "cell_index": 7
      }
     ]
    },
    "a90e6ff4aa104cc58b8719daac0e2ace": {
     "views": [
      {
       "cell_index": 7
      }
     ]
    },
    "af8cd6914dd644359d46d4bb4dbc761e": {
     "views": [
      {
       "cell_index": 7
      }
     ]
    },
    "b18aa61ef75e462b9c1065165e7eb233": {
     "views": [
      {
       "cell_index": 7
      }
     ]
    },
    "b6ac278231e54c72856f213fda4b3615": {
     "views": [
      {
       "cell_index": 7
      }
     ]
    },
    "b8261430a77741aebc67c66ee92d1e27": {
     "views": [
      {
       "cell_index": 7
      }
     ]
    },
    "b8f34d315d794923b19089efbf7df77e": {
     "views": [
      {
       "cell_index": 7
      }
     ]
    },
    "b90bc57f281c4e20a0176fa55432d986": {
     "views": [
      {
       "cell_index": 7
      }
     ]
    },
    "bd48c3990d5442cfb915b29bb74491b2": {
     "views": [
      {
       "cell_index": 7
      }
     ]
    },
    "beee4980f6944a599e697d314127239b": {
     "views": [
      {
       "cell_index": 7
      }
     ]
    },
    "c03f6db2599f42dd85910cf6c686ef01": {
     "views": [
      {
       "cell_index": 7
      }
     ]
    },
    "ce85405423eb4e9da6a4390ebf4dadb9": {
     "views": [
      {
       "cell_index": 7
      }
     ]
    },
    "d0518fd3c28a4ba69b8bf6262255973b": {
     "views": [
      {
       "cell_index": 7
      }
     ]
    },
    "d070f92fb7424a6281d61ff65ce77610": {
     "views": [
      {
       "cell_index": 7
      }
     ]
    },
    "d4ce2df3d5464e41b3a9f6a895a9da8c": {
     "views": [
      {
       "cell_index": 7
      }
     ]
    },
    "d735da0eb9f641238ecf441813cadda7": {
     "views": [
      {
       "cell_index": 7
      }
     ]
    },
    "d9303069658949f4bfbc63e6808bf589": {
     "views": [
      {
       "cell_index": 7
      }
     ]
    },
    "da8da9be26be475fb65b8dbee38a54ff": {
     "views": [
      {
       "cell_index": 7
      }
     ]
    },
    "dcf5225b31494a0081d843243d289a71": {
     "views": [
      {
       "cell_index": 5
      }
     ]
    },
    "dd6aca85e8674245b5b302cd55caad1e": {
     "views": [
      {
       "cell_index": 7
      }
     ]
    },
    "df7054a287394ffaa8b9a022b5cee75f": {
     "views": [
      {
       "cell_index": 7
      }
     ]
    },
    "e9c0ac6db1494fbc8173fa4768457f15": {
     "views": [
      {
       "cell_index": 7
      }
     ]
    },
    "e9d78d267ea74f9dbb21a1a97b15fe0c": {
     "views": [
      {
       "cell_index": 7
      }
     ]
    },
    "efc91a1365394a37bd85a4a03d95b292": {
     "views": [
      {
       "cell_index": 7
      }
     ]
    },
    "eff417caa8b848ff89526520f5ae7398": {
     "views": [
      {
       "cell_index": 7
      }
     ]
    },
    "fbc1938a05264dc6921a217f8e202f9f": {
     "views": [
      {
       "cell_index": 7
      }
     ]
    },
    "ff1f9ac6af764e8d90e37371a81e4a95": {
     "views": [
      {
       "cell_index": 7
      }
     ]
    },
    "ffe3da3752914e9686f0095968588306": {
     "views": [
      {
       "cell_index": 7
      }
     ]
    }
   },
   "version": "1.2.0"
  }
 },
 "nbformat": 4,
 "nbformat_minor": 1
}
