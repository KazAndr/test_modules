{
 "cells": [
  {
   "cell_type": "code",
   "execution_count": 17,
   "metadata": {},
   "outputs": [],
   "source": [
    "from selenium import webdriver\n",
    "from selenium.webdriver.common.by import By\n",
    "from selenium.webdriver.support.ui import WebDriverWait\n",
    "from selenium.webdriver.support import expected_conditions as EC\n",
    "from selenium.common.exceptions import TimeoutException"
   ]
  },
  {
   "cell_type": "code",
   "execution_count": 25,
   "metadata": {},
   "outputs": [],
   "source": [
    "driver = webdriver.Chrome()\n",
    "driver.wait = WebDriverWait(driver, 5)\n",
    "driver.get(f\"https://blast.ncbi.nlm.nih.gov/\"\n",
    "           f\"Blast.cgi?PROGRAM=blastp&PAGE_TYPE=BlastSearch&LINK_LOC=blasthome\")\n",
    "box = driver.wait.until(EC.presence_of_element_located(\n",
    "            (By.NAME, \"QUERY\")))\n",
    "button = driver.wait.until(EC.element_to_be_clickable(\n",
    "            (By.CLASS_NAME, \"blastbutton\")))\n",
    "box.send_keys(f'MKLLEEWKSERYYLKVGEMFVKEVSFDVISL'\n",
    "              f'TANQSYADEFDKNRGTFKDVYLHTKLHAEKN'\n",
    "              f'NLGKVRLIKIVRTVTEVEMDADKLTVEVLEQYVKEEKEKHNL')\n",
    "button.click()"
   ]
  },
  {
   "cell_type": "code",
   "execution_count": null,
   "metadata": {},
   "outputs": [],
   "source": []
  }
 ],
 "metadata": {
  "kernelspec": {
   "display_name": "Python 3",
   "language": "python",
   "name": "python3"
  },
  "language_info": {
   "codemirror_mode": {
    "name": "ipython",
    "version": 3
   },
   "file_extension": ".py",
   "mimetype": "text/x-python",
   "name": "python",
   "nbconvert_exporter": "python",
   "pygments_lexer": "ipython3",
   "version": "3.7.4"
  }
 },
 "nbformat": 4,
 "nbformat_minor": 4
}
