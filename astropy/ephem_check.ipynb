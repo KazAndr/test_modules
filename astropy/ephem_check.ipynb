{
 "cells": [
  {
   "cell_type": "code",
   "execution_count": 1,
   "metadata": {
    "collapsed": false
   },
   "outputs": [
    {
     "name": "stdout",
     "output_type": "stream",
     "text": [
      "Once deleted, variables cannot be recovered. Proceed (y/[n])? y\n"
     ]
    }
   ],
   "source": [
    "reset"
   ]
  },
  {
   "cell_type": "code",
   "execution_count": 2,
   "metadata": {
    "collapsed": true
   },
   "outputs": [],
   "source": [
    "import ephem"
   ]
  },
  {
   "cell_type": "code",
   "execution_count": 4,
   "metadata": {
    "collapsed": false
   },
   "outputs": [
    {
     "name": "stdout",
     "output_type": "stream",
     "text": [
      "1.5840696096420288\n"
     ]
    }
   ],
   "source": [
    "mars = ephem.Mars()\n",
    "mars.compute('2008/1/1')\n",
    "print(mars.sun_distance)"
   ]
  },
  {
   "cell_type": "code",
   "execution_count": 5,
   "metadata": {
    "collapsed": false
   },
   "outputs": [
    {
     "name": "stderr",
     "output_type": "stream",
     "text": [
      "WARNING: Could not access the online site list. Falling back on the built-in version, which is rather limited. If you want to retry the download, do EarthLocation._get_site_registry(force_download=True) [astropy.coordinates.earth]\n"
     ]
    },
    {
     "name": "stdout",
     "output_type": "stream",
     "text": [
      "5h58m53.8017s\n",
      "26d56m13.808s\n",
      "<SkyCoord (GCRS: obstime=2008-01-01 00:00:00.000, obsgeoloc=(-682108.51825429,  3921221.96965137,  4967263.26920384) m, obsgeovel=(-285.94004897, -49.74014341,  0.) m / s): (ra, dec, distance) in (deg, deg, AU)\n",
      "    ( 89.7241738,  26.93716888,  0.60717661)>\n"
     ]
    }
   ],
   "source": [
    "from astropy.time import Time\n",
    "from astropy.coordinates import solar_system_ephemeris, EarthLocation, Angle\n",
    "from astropy.coordinates import get_body_barycentric, get_body, get_moon\n",
    "t = Time(\"2008-01-01\")\n",
    "loc = EarthLocation.of_site('greenwich') \n",
    "with solar_system_ephemeris.set('builtin'):\n",
    "    mars = get_body('mars', t, loc) \n",
    "mars_ra = Angle(mars.ra, unit='hourangle')\n",
    "print(mars_ra)\n",
    "print(mars.dec)\n",
    "print(mars)"
   ]
  },
  {
   "cell_type": "code",
   "execution_count": null,
   "metadata": {
    "collapsed": true
   },
   "outputs": [],
   "source": []
  }
 ],
 "metadata": {
  "kernelspec": {
   "display_name": "Python 3",
   "language": "python",
   "name": "python3"
  },
  "language_info": {
   "codemirror_mode": {
    "name": "ipython",
    "version": 3
   },
   "file_extension": ".py",
   "mimetype": "text/x-python",
   "name": "python",
   "nbconvert_exporter": "python",
   "pygments_lexer": "ipython3",
   "version": "3.4.5"
  }
 },
 "nbformat": 4,
 "nbformat_minor": 0
}
