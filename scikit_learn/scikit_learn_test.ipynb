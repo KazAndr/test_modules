{
 "cells": [
  {
   "cell_type": "markdown",
   "metadata": {},
   "source": [
    "#### Scikit Learn\n",
    "\n",
    "**Scikit Learn** - это один из пакетов scikit и очень простой в использовании пакет для машинного обучения. Он реализует множество алгоритмов машинного обучения. Машинное обучение - это статическое поле, алгоритм изучается на основе предоставленных данных и помогает предсказать результат не предоставленных данных.\n",
    "\n",
    "Чтобы понять машинное обучение и его использовать применение, лучше всего рассмотреть простой пример:\n",
    "\n",
    "Сначала нам нужно импортировать все необходимые пакеты:"
   ]
  },
  {
   "cell_type": "code",
   "execution_count": 1,
   "metadata": {
    "collapsed": true
   },
   "outputs": [],
   "source": [
    "import numpy as np\n",
    "import sklearn.linear_model as skl\n",
    "import pylab as py\n",
    "import pandas as pd\n",
    "import seaborn as sb"
   ]
  },
  {
   "cell_type": "markdown",
   "metadata": {},
   "source": [
    "Мы будем использовать модель линейной регрессии. Это самый простой алгоритм, с которого можно начать: у нас есть функция **f(x) = y**, имеется несколько пар (x, y), которые соответствуют этой функции, и мы хотим предсказать **y** для других значений **x**. Это может работать и для более чем одного измерения, например, при наличии функции **f (x, y, z) = w**, и мы хотим предсказать **w** для новых кортежей **(x, y, z)**"
   ]
  },
  {
   "cell_type": "markdown",
   "metadata": {},
   "source": [
    "Чтобы создать модель линейной регрессии:"
   ]
  },
  {
   "cell_type": "code",
   "execution_count": 2,
   "metadata": {
    "collapsed": true
   },
   "outputs": [],
   "source": [
    "model = skl.LinearRegression()"
   ]
  },
  {
   "cell_type": "markdown",
   "metadata": {},
   "source": [
    "Каждый алгоритм в **scikit-learn** имеет подходящую функцию для обучения модели и функции прогнозирования для прогнозирования вывода для новых значений.\n",
    "\n",
    "Создадим некоторые данные для модели:"
   ]
  },
  {
   "cell_type": "code",
   "execution_count": 5,
   "metadata": {
    "collapsed": true
   },
   "outputs": [],
   "source": [
    "xval = np.array([1,2,3,4,5]).reshape(-1,1)\n",
    "yval = [1,2,3,4,5]"
   ]
  },
  {
   "cell_type": "markdown",
   "metadata": {},
   "source": [
    "Мы сообщаем модели что *f(1) = 1* , *f(2) = 2* , *f(3) = 3*, и так далее – очень просто\n",
    "\n",
    "Начнем тренировку:"
   ]
  },
  {
   "cell_type": "code",
   "execution_count": 8,
   "metadata": {},
   "outputs": [
    {
     "data": {
      "text/plain": [
       "LinearRegression(copy_X=True, fit_intercept=True, n_jobs=1, normalize=False)"
      ]
     },
     "execution_count": 8,
     "metadata": {},
     "output_type": "execute_result"
    }
   ],
   "source": [
    "model.fit(xval,yval)"
   ]
  },
  {
   "cell_type": "markdown",
   "metadata": {},
   "source": [
    "Попробуем предсказать значение **y** для новых данных:"
   ]
  },
  {
   "cell_type": "code",
   "execution_count": 9,
   "metadata": {},
   "outputs": [
    {
     "data": {
      "text/plain": [
       "array([ 12.])"
      ]
     },
     "execution_count": 9,
     "metadata": {},
     "output_type": "execute_result"
    }
   ],
   "source": [
    "model.predict(12)"
   ]
  },
  {
   "cell_type": "code",
   "execution_count": 10,
   "metadata": {},
   "outputs": [
    {
     "data": {
      "text/plain": [
       "array([ 44.])"
      ]
     },
     "execution_count": 10,
     "metadata": {},
     "output_type": "execute_result"
    }
   ],
   "source": [
    "model.predict(44)"
   ]
  },
  {
   "cell_type": "markdown",
   "metadata": {},
   "source": [
    "Мы можем видеть, что наблюдается 100% точность, поскольку все слишком тривиально. Добавим несколько ошибок:"
   ]
  },
  {
   "cell_type": "code",
   "execution_count": 11,
   "metadata": {},
   "outputs": [
    {
     "data": {
      "text/plain": [
       "LinearRegression(copy_X=True, fit_intercept=True, n_jobs=1, normalize=False)"
      ]
     },
     "execution_count": 11,
     "metadata": {},
     "output_type": "execute_result"
    }
   ],
   "source": [
    "xval = np.array([1,2,3,3,4,3,6,8,9,10]).reshape(-1,1)\n",
    "yval = [1,2,3,4,5,6,7,7,9,10]\n",
    "model.fit(xval,yval)"
   ]
  },
  {
   "cell_type": "markdown",
   "metadata": {},
   "source": [
    "Используем matplotlib для визуализации данных:"
   ]
  },
  {
   "cell_type": "code",
   "execution_count": 13,
   "metadata": {},
   "outputs": [
    {
     "data": {
      "image/png": "[encoded data removed]",
      "text/plain": [
       "<matplotlib.figure.Figure at 0x7fa5861a6048>"
      ]
     },
     "metadata": {},
     "output_type": "display_data"
    }
   ],
   "source": [
    "py.scatter(xval,yval)\n",
    "py.show()"
   ]
  },
  {
   "cell_type": "markdown",
   "metadata": {},
   "source": [
    "Из графика видно, что существует линейная корреляция между **x** и **y**, но она имеет некоторые ошибки.\n",
    "\n",
    "Попробуем предсказать поведение функции:"
   ]
  },
  {
   "cell_type": "code",
   "execution_count": 14,
   "metadata": {},
   "outputs": [
    {
     "data": {
      "text/plain": [
       "array([ 11.66141732])"
      ]
     },
     "execution_count": 14,
     "metadata": {},
     "output_type": "execute_result"
    }
   ],
   "source": [
    "model.predict(12)"
   ]
  },
  {
   "cell_type": "code",
   "execution_count": 15,
   "metadata": {},
   "outputs": [
    {
     "data": {
      "text/plain": [
       "array([ 39.88188976])"
      ]
     },
     "execution_count": 15,
     "metadata": {},
     "output_type": "execute_result"
    }
   ],
   "source": [
    "model.predict(44)"
   ]
  },
  {
   "cell_type": "markdown",
   "metadata": {},
   "source": [
    "Мы видим, что результаты ошибочны, но тем не менее близки к реальным результатам"
   ]
  },
  {
   "cell_type": "markdown",
   "metadata": {},
   "source": [
    "#### Больше измерений\n",
    "\n",
    "Реальные проблемы имеют куда больше одного измерения, к примеру: даны рост, вес, и размер обуви - необходимо определить по предоставленным данным, пол *хозяина* данных.\n",
    "\n",
    "Создадим массив данных с большим количеством измерений:"
   ]
  },
  {
   "cell_type": "code",
   "execution_count": 16,
   "metadata": {
    "collapsed": true
   },
   "outputs": [],
   "source": [
    "samp=np.array([[1,2,300,14],\n",
    "               [9,3,1,95],\n",
    "               [5,7,11,58],\n",
    "               [4,8,14,57],\n",
    "               [2,1,2,27],\n",
    "               [9,9,7,100],\n",
    "               [12,3,21,126],\n",
    "               [29,12,3,309],\n",
    "               [2,40,11,90],\n",
    "               [21,32,4,270],\n",
    "               [7,13,8,79],\n",
    "               [17,2,19,172],\n",
    "               [13,24,13,159]])\n",
    "df=pd.DataFrame(samp, columns=['X','Y','Z','W'])"
   ]
  },
  {
   "cell_type": "markdown",
   "metadata": {},
   "source": [
    "Чтобы обрабатывать несколько измерений, используем объект dataframe из пакета Pandas:"
   ]
  },
  {
   "cell_type": "code",
   "execution_count": 17,
   "metadata": {},
   "outputs": [
    {
     "data": {
      "text/html": [
       "<div>\n",
       "<table border=\"1\" class=\"dataframe\">\n",
       "  <thead>\n",
       "    <tr style=\"text-align: right;\">\n",
       "      <th></th>\n",
       "      <th>X</th>\n",
       "      <th>Y</th>\n",
       "      <th>Z</th>\n",
       "      <th>W</th>\n",
       "    </tr>\n",
       "  </thead>\n",
       "  <tbody>\n",
       "    <tr>\n",
       "      <th>0</th>\n",
       "      <td>1</td>\n",
       "      <td>2</td>\n",
       "      <td>300</td>\n",
       "      <td>14</td>\n",
       "    </tr>\n",
       "    <tr>\n",
       "      <th>1</th>\n",
       "      <td>9</td>\n",
       "      <td>3</td>\n",
       "      <td>1</td>\n",
       "      <td>95</td>\n",
       "    </tr>\n",
       "    <tr>\n",
       "      <th>2</th>\n",
       "      <td>5</td>\n",
       "      <td>7</td>\n",
       "      <td>11</td>\n",
       "      <td>58</td>\n",
       "    </tr>\n",
       "    <tr>\n",
       "      <th>3</th>\n",
       "      <td>4</td>\n",
       "      <td>8</td>\n",
       "      <td>14</td>\n",
       "      <td>57</td>\n",
       "    </tr>\n",
       "    <tr>\n",
       "      <th>4</th>\n",
       "      <td>2</td>\n",
       "      <td>1</td>\n",
       "      <td>2</td>\n",
       "      <td>27</td>\n",
       "    </tr>\n",
       "  </tbody>\n",
       "</table>\n",
       "</div>"
      ],
      "text/plain": [
       "   X  Y    Z   W\n",
       "0  1  2  300  14\n",
       "1  9  3    1  95\n",
       "2  5  7   11  58\n",
       "3  4  8   14  57\n",
       "4  2  1    2  27"
      ]
     },
     "execution_count": 17,
     "metadata": {},
     "output_type": "execute_result"
    }
   ],
   "source": [
    "df.head()"
   ]
  },
  {
   "cell_type": "markdown",
   "metadata": {},
   "source": [
    "Теперь мы можем использовать диаграмму парного графика, чтобы найти отношения между столбцами:"
   ]
  },
  {
   "cell_type": "code",
   "execution_count": 21,
   "metadata": {},
   "outputs": [
    {
     "data": {
      "image/png": "[encoded data removed]",
      "text/plain": [
       "<matplotlib.figure.Figure at 0x7fa580bba198>"
      ]
     },
     "metadata": {},
     "output_type": "display_data"
    }
   ],
   "source": [
    "sb.pairplot(df)\n",
    "py.show()"
   ]
  },
  {
   "cell_type": "markdown",
   "metadata": {},
   "source": [
    "Данных подход позволяет очень хорошо увидеть соотношения между переменными, например, мы можем видеть, что **x** и **w** имеют сильноую зависимость."
   ]
  },
  {
   "cell_type": "markdown",
   "metadata": {},
   "source": [
    "#### Разделение данных - тренеровка и тест\n",
    "\n",
    "Когда мы строим модель, мы хотим проверить ее правильность, для этого мы разделяем данные на тренировочные и тестовые данные. Мы используем тренировочные данные, чтобы сооздать модель, а затем проверяем ее помощью наших тестовых данных, чтобы увидеть, предсказывает ли модель результаты, которые у нас уже имеются. Например, у нас больше 13 строк.  Тогда возьмем только 8 для нашей модели:"
   ]
  },
  {
   "cell_type": "code",
   "execution_count": 22,
   "metadata": {},
   "outputs": [
    {
     "data": {
      "text/plain": [
       "LinearRegression(copy_X=True, fit_intercept=True, n_jobs=1, normalize=False)"
      ]
     },
     "execution_count": 22,
     "metadata": {},
     "output_type": "execute_result"
    }
   ],
   "source": [
    "xval=df[:8][['X','Y','Z']] # only first 8 rows \n",
    "yval=df[:8][['W']]\n",
    "model.fit(xval,yval)"
   ]
  },
  {
   "cell_type": "markdown",
   "metadata": {},
   "source": [
    "Возьмем остальные 5 строк и проверим значения, которые предсказывает модель:"
   ]
  },
  {
   "cell_type": "code",
   "execution_count": 24,
   "metadata": {},
   "outputs": [
    {
     "data": {
      "text/plain": [
       "array([[  68.12886489],\n",
       "       [ 249.65152055],\n",
       "       [  87.91908068],\n",
       "       [ 175.75498023],\n",
       "       [ 160.41262073]])"
      ]
     },
     "execution_count": 24,
     "metadata": {},
     "output_type": "execute_result"
    }
   ],
   "source": [
    "model.predict(df[8:][['X','Y','Z']])"
   ]
  },
  {
   "cell_type": "markdown",
   "metadata": {},
   "source": [
    "Теперь сравним с реальными значениями, которые мы знаем:"
   ]
  },
  {
   "cell_type": "code",
   "execution_count": 25,
   "metadata": {},
   "outputs": [
    {
     "data": {
      "text/plain": [
       "8      90\n",
       "9     270\n",
       "10     79\n",
       "11    172\n",
       "12    159\n",
       "Name: W, dtype: int64"
      ]
     },
     "execution_count": 25,
     "metadata": {},
     "output_type": "execute_result"
    }
   ],
   "source": [
    "df[8:]['W']"
   ]
  },
  {
   "cell_type": "markdown",
   "metadata": {},
   "source": [
    "Как можно заметить, строки 8 и 9 не так уж близки к реальным значениям, но зато  10-12 дастаточно близки.\n",
    "\n",
    "Обратите внимание, что для целей обучения мы используем очень маленький объем данных, для реальных сценариев нам требуется гораздо больше чем 13 записей.\n",
    "\n",
    "Мы можем каким-то образом изменить модель: использовать другой алгоритм или использовать часть переменных для примера:\n",
    "\n",
    "Проверитм коэффициенты модели:"
   ]
  },
  {
   "cell_type": "code",
   "execution_count": 26,
   "metadata": {},
   "outputs": [
    {
     "data": {
      "text/plain": [
       "array([[  1.00253720e+01,   1.12411075e+00,  -4.78200390e-03]])"
      ]
     },
     "execution_count": 26,
     "metadata": {},
     "output_type": "execute_result"
    }
   ],
   "source": [
    "model.coef_"
   ]
  },
  {
   "cell_type": "markdown",
   "metadata": {},
   "source": [
    "Не турдно заметить, что **z** имеет наименьший(если не сказать, что нечтожный) эффект **(0,004)**, поэтому рекомендуется удалить его из модели:"
   ]
  },
  {
   "cell_type": "code",
   "execution_count": 27,
   "metadata": {},
   "outputs": [
    {
     "data": {
      "text/plain": [
       "array([[  68.91717972],\n",
       "       [ 250.38276578],\n",
       "       [  87.94208619],\n",
       "       [ 175.61505435],\n",
       "       [ 160.85673992]])"
      ]
     },
     "execution_count": 27,
     "metadata": {},
     "output_type": "execute_result"
    }
   ],
   "source": [
    "xval=df[:8][['X','Y']]\n",
    "yval=df[:8][['W']]\n",
    "model.fit(xval,yval)\n",
    "model.predict(df[8:][['X','Y']])"
   ]
  },
  {
   "cell_type": "code",
   "execution_count": 28,
   "metadata": {},
   "outputs": [
    {
     "data": {
      "text/plain": [
       "8      90\n",
       "9     270\n",
       "10     79\n",
       "11    172\n",
       "12    159\n",
       "Name: W, dtype: int64"
      ]
     },
     "execution_count": 28,
     "metadata": {},
     "output_type": "execute_result"
    }
   ],
   "source": [
    "df[8:]['W']"
   ]
  },
  {
   "cell_type": "markdown",
   "metadata": {},
   "source": [
    "Не сказать, что это сильно повлияло на данные, но точность улучшилась.\n",
    "\n",
    "Опять же, это небольшое улучшение, так как мы используем небольшой объем данных, в статистике мы не можем построить хорошую модель без большого количества данных.\n",
    "\n",
    "Этот пример хорош только для понимания концепции"
   ]
  },
  {
   "cell_type": "code",
   "execution_count": null,
   "metadata": {
    "collapsed": true
   },
   "outputs": [],
   "source": []
  }
 ],
 "metadata": {
  "kernelspec": {
   "display_name": "Python 3",
   "language": "python",
   "name": "python3"
  },
  "language_info": {
   "codemirror_mode": {
    "name": "ipython",
    "version": 3
   },
   "file_extension": ".py",
   "mimetype": "text/x-python",
   "name": "python",
   "nbconvert_exporter": "python",
   "pygments_lexer": "ipython3",
   "version": "3.7.4"
  }
 },
 "nbformat": 4,
 "nbformat_minor": 1
}
