{
 "cells": [
  {
   "cell_type": "markdown",
   "metadata": {},
   "source": [
    "# Определение важных и не очень параметров для классификаторов"
   ]
  },
  {
   "cell_type": "markdown",
   "metadata": {},
   "source": [
    "В идеале, набор параметров должен максимально различен для различных классов. Но реальность жестока и в задачах не редко можно встретить параметры, которые не являются независимыми или параметры, которые никак не влияют на итоговый класс объекта, т.е. проявляют себя случайным образом.\n",
    "\n",
    "Создадим выборку борзых и лабрадоров, которых постараемся отличить по росту в дюймах и цвету глаз.\n",
    "Борзым укажем средний рост в 28, а лабрадорам в 24."
   ]
  },
  {
   "cell_type": "code",
   "execution_count": 1,
   "metadata": {},
   "outputs": [],
   "source": [
    "import numpy as np\n",
    "import matplotlib.pyplot as plt"
   ]
  },
  {
   "cell_type": "code",
   "execution_count": 4,
   "metadata": {},
   "outputs": [],
   "source": [
    "greyhounds = 500\n",
    "lans = 500\n",
    "\n",
    "grey_height = 28\n",
    "lab_height = 24"
   ]
  },
  {
   "cell_type": "markdown",
   "metadata": {},
   "source": [
    "Зададим некоторый разброс, для создания выборки роста:"
   ]
  },
  {
   "cell_type": "code",
   "execution_count": 5,
   "metadata": {},
   "outputs": [],
   "source": [
    "grey_heights = grey_height + 4 * np.random.randn(greyhounds)\n",
    "lab_heights = lab_height + 4 * np.random.randn(lans)"
   ]
  },
  {
   "cell_type": "markdown",
   "metadata": {},
   "source": [
    "Визуализируем распределение роста собак"
   ]
  },
  {
   "cell_type": "code",
   "execution_count": 6,
   "metadata": {},
   "outputs": [
    {
     "data": {
      "image/png": "[encoded data removed]",
      "text/plain": [
       "<Figure size 432x288 with 1 Axes>"
      ]
     },
     "metadata": {
      "needs_background": "light"
     },
     "output_type": "display_data"
    }
   ],
   "source": [
    "plt.hist([grey_heights, lab_heights], stacked=True, color=['r', 'b'])\n",
    "plt.show()"
   ]
  },
  {
   "cell_type": "markdown",
   "metadata": {},
   "source": [
    "Не трудно заметить, что диаграммы достаточно сильно пересекаются. И если для данных, находящихся по краям, еще есть возможность разделения, то для данных в районе 25 - 30 дюймов определение будет всецело случайно. Аналогично для полностью случайного события, которое не дает возможности разделения типов.\n",
    "\n",
    "Хорошими особенностями для классификаторов являются сильно независимые и не коррелируемые, а что самое главное, абсолютно не случайные для типа особенности."
   ]
  },
  {
   "cell_type": "code",
   "execution_count": null,
   "metadata": {},
   "outputs": [],
   "source": []
  },
  {
   "cell_type": "code",
   "execution_count": null,
   "metadata": {},
   "outputs": [],
   "source": []
  }
 ],
 "metadata": {
  "kernelspec": {
   "display_name": "Python 3",
   "language": "python",
   "name": "python3"
  },
  "language_info": {
   "codemirror_mode": {
    "name": "ipython",
    "version": 3
   },
   "file_extension": ".py",
   "mimetype": "text/x-python",
   "name": "python",
   "nbconvert_exporter": "python",
   "pygments_lexer": "ipython3",
   "version": "3.7.4"
  }
 },
 "nbformat": 4,
 "nbformat_minor": 2
}
