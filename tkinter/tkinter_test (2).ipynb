{
 "cells": [
  {
   "cell_type": "code",
   "execution_count": 1,
   "metadata": {
    "collapsed": false
   },
   "outputs": [
    {
     "name": "stdout",
     "output_type": "stream",
     "text": [
      "Once deleted, variables cannot be recovered. Proceed (y/[n])? y\n"
     ]
    }
   ],
   "source": [
    "reset"
   ]
  },
  {
   "cell_type": "code",
   "execution_count": 2,
   "metadata": {
    "collapsed": false
   },
   "outputs": [
    {
     "name": "stdout",
     "output_type": "stream",
     "text": [
      "Hello World!\n",
      "Hello World!\n",
      "Hello World!\n"
     ]
    }
   ],
   "source": [
    "from tkinter import *\n",
    "\n",
    "root = Tk()\n",
    "root.title(\"Hello World!\")\n",
    "root.geometry('300x40')\n",
    "\n",
    "def button_clicked():\n",
    "    print(\"Hello World!\")\n",
    "\n",
    "def close():\n",
    "    root.destroy()\n",
    "    root.quit()\n",
    "\n",
    "button = Button(root, text=\"Press Me\", command=button_clicked)\n",
    "button.pack(fill=BOTH)\n",
    "\n",
    "root.protocol('WM_DELETE_WINDOW', close)\n",
    "\n",
    "root.mainloop()"
   ]
  },
  {
   "cell_type": "code",
   "execution_count": 4,
   "metadata": {
    "collapsed": false
   },
   "outputs": [],
   "source": [
    "import tkinter # просто проверка работы\n",
    "tkinter._test()"
   ]
  },
  {
   "cell_type": "code",
   "execution_count": 5,
   "metadata": {
    "collapsed": true
   },
   "outputs": [],
   "source": [
    "root = Tk()"
   ]
  },
  {
   "cell_type": "code",
   "execution_count": 7,
   "metadata": {
    "collapsed": false
   },
   "outputs": [
    {
     "name": "stdout",
     "output_type": "stream",
     "text": [
      "Yet another hello world\n"
     ]
    }
   ],
   "source": [
    "def Hello(event):\n",
    "    print(\"Yet another hello world\")\n",
    "\n",
    "btn = Button(root,                  #родительское окно\n",
    "             text=\"Click me\",       #надпись на кнопке\n",
    "             width=30,height=5,     #ширина и высота\n",
    "             bg=\"white\",fg=\"black\") #цвет фона и надписи\n",
    "btn.bind(\"<Button-1>\", Hello)       #при нажатии ЛКМ на кнопку вызывается функция Hello\n",
    "btn.pack()                          #расположить кнопку на главном окне\n",
    "root.mainloop()"
   ]
  },
  {
   "cell_type": "code",
   "execution_count": 8,
   "metadata": {
    "collapsed": true
   },
   "outputs": [],
   "source": [
    "root = Tk() # Проверка работы упаковщика pack\n",
    "Button(root, text = '1').pack(side = 'left')\n",
    "Button(root, text = '2').pack(side = 'top')\n",
    "Button(root, text = '3').pack(side = 'right')\n",
    "Button(root, text = '4').pack(side = 'bottom')\n",
    "Button(root, text = '5').pack(fill = 'both')\n",
    "root.mainloop()"
   ]
  },
  {
   "cell_type": "code",
   "execution_count": null,
   "metadata": {
    "collapsed": true
   },
   "outputs": [],
   "source": []
  }
 ],
 "metadata": {
  "kernelspec": {
   "display_name": "Python 3",
   "language": "python",
   "name": "python3"
  },
  "language_info": {
   "codemirror_mode": {
    "name": "ipython",
    "version": 3
   },
   "file_extension": ".py",
   "mimetype": "text/x-python",
   "name": "python",
   "nbconvert_exporter": "python",
   "pygments_lexer": "ipython3",
   "version": "3.4.5"
  }
 },
 "nbformat": 4,
 "nbformat_minor": 0
}
